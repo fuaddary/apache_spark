{
 "cells": [
  {
   "cell_type": "markdown",
   "metadata": {},
   "source": [
    "# APACHE SPARK FREQUENT PREDICTION\n",
    "\n",
    "## Tugas 3 Big Data\n",
    "\n",
    "### Requirements\n",
    "\n",
    "1. Apache Spark 2.40\n",
    "2. Python 3.7.1\n",
    "3. JDK 1.8.0"
   ]
  },
  {
   "cell_type": "code",
   "execution_count": 1,
   "metadata": {},
   "outputs": [],
   "source": [
    "# Spark initial"
   ]
  },
  {
   "cell_type": "code",
   "execution_count": 2,
   "metadata": {},
   "outputs": [],
   "source": [
    "import findspark\n",
    "findspark.init()"
   ]
  },
  {
   "cell_type": "code",
   "execution_count": 3,
   "metadata": {},
   "outputs": [],
   "source": [
    "# Import required library\n",
    "from pyspark.sql import SparkSession\n",
    "\n",
    "# Create Spark Session\n",
    "spark = SparkSession \\\n",
    "    .builder \\\n",
    "    .appName(\"Python Spark SQL basic example\") \\\n",
    "    .getOrCreate()"
   ]
  },
  {
   "cell_type": "code",
   "execution_count": 4,
   "metadata": {},
   "outputs": [
    {
     "name": "stdout",
     "output_type": "stream",
     "text": [
      "<pyspark.sql.session.SparkSession object at 0x114b74908>\n"
     ]
    }
   ],
   "source": [
    "# Print Spark object ID\n",
    "print(spark)"
   ]
  },
  {
   "cell_type": "code",
   "execution_count": 5,
   "metadata": {},
   "outputs": [],
   "source": [
    "# Data Import\n",
    "df = spark.read.csv(\"/Users/gunstringer/Downloads/OnlineRetail.csv\", header=True, inferSchema=True)"
   ]
  },
  {
   "cell_type": "code",
   "execution_count": 6,
   "metadata": {},
   "outputs": [
    {
     "name": "stdout",
     "output_type": "stream",
     "text": [
      "root\n",
      " |-- InvoiceNo: string (nullable = true)\n",
      " |-- StockCode: string (nullable = true)\n",
      " |-- Description: string (nullable = true)\n",
      " |-- Quantity: integer (nullable = true)\n",
      " |-- InvoiceDate: string (nullable = true)\n",
      " |-- UnitPrice: double (nullable = true)\n",
      " |-- CustomerID: integer (nullable = true)\n",
      " |-- Country: string (nullable = true)\n",
      "\n"
     ]
    }
   ],
   "source": [
    "df.printSchema()"
   ]
  },
  {
   "cell_type": "code",
   "execution_count": 7,
   "metadata": {
    "scrolled": false
   },
   "outputs": [
    {
     "name": "stdout",
     "output_type": "stream",
     "text": [
      "+---------+---------+--------------------+--------+--------------+---------+----------+--------------+\n",
      "|InvoiceNo|StockCode|         Description|Quantity|   InvoiceDate|UnitPrice|CustomerID|       Country|\n",
      "+---------+---------+--------------------+--------+--------------+---------+----------+--------------+\n",
      "|   536365|   85123A|WHITE HANGING HEA...|       6|01/12/10 08.26|     2.55|     17850|United Kingdom|\n",
      "|   536365|    71053| WHITE METAL LANTERN|       6|01/12/10 08.26|     3.39|     17850|United Kingdom|\n",
      "|   536365|   84406B|CREAM CUPID HEART...|       8|01/12/10 08.26|     2.75|     17850|United Kingdom|\n",
      "|   536365|   84029G|KNITTED UNION FLA...|       6|01/12/10 08.26|     3.39|     17850|United Kingdom|\n",
      "|   536365|   84029E|RED WOOLLY HOTTIE...|       6|01/12/10 08.26|     3.39|     17850|United Kingdom|\n",
      "|   536365|    22752|SET 7 BABUSHKA NE...|       2|01/12/10 08.26|     7.65|     17850|United Kingdom|\n",
      "|   536365|    21730|GLASS STAR FROSTE...|       6|01/12/10 08.26|     4.25|     17850|United Kingdom|\n",
      "|   536366|    22633|HAND WARMER UNION...|       6|01/12/10 08.28|     1.85|     17850|United Kingdom|\n",
      "|   536366|    22632|HAND WARMER RED P...|       6|01/12/10 08.28|     1.85|     17850|United Kingdom|\n",
      "|   536367|    84879|ASSORTED COLOUR B...|      32|01/12/10 08.34|     1.69|     13047|United Kingdom|\n",
      "|   536367|    22745|POPPY'S PLAYHOUSE...|       6|01/12/10 08.34|      2.1|     13047|United Kingdom|\n",
      "|   536367|    22748|POPPY'S PLAYHOUSE...|       6|01/12/10 08.34|      2.1|     13047|United Kingdom|\n",
      "|   536367|    22749|FELTCRAFT PRINCES...|       8|01/12/10 08.34|     3.75|     13047|United Kingdom|\n",
      "|   536367|    22310|IVORY KNITTED MUG...|       6|01/12/10 08.34|     1.65|     13047|United Kingdom|\n",
      "|   536367|    84969|BOX OF 6 ASSORTED...|       6|01/12/10 08.34|     4.25|     13047|United Kingdom|\n",
      "|   536367|    22623|BOX OF VINTAGE JI...|       3|01/12/10 08.34|     4.95|     13047|United Kingdom|\n",
      "|   536367|    22622|BOX OF VINTAGE AL...|       2|01/12/10 08.34|     9.95|     13047|United Kingdom|\n",
      "|   536367|    21754|HOME BUILDING BLO...|       3|01/12/10 08.34|     5.95|     13047|United Kingdom|\n",
      "|   536367|    21755|LOVE BUILDING BLO...|       3|01/12/10 08.34|     5.95|     13047|United Kingdom|\n",
      "|   536367|    21777|RECIPE BOX WITH M...|       4|01/12/10 08.34|     7.95|     13047|United Kingdom|\n",
      "+---------+---------+--------------------+--------+--------------+---------+----------+--------------+\n",
      "only showing top 20 rows\n",
      "\n"
     ]
    }
   ],
   "source": [
    "# Tampilkan Data\n",
    "df.show()"
   ]
  },
  {
   "cell_type": "markdown",
   "metadata": {},
   "source": [
    "# Preprocess Dataset"
   ]
  },
  {
   "cell_type": "code",
   "execution_count": 36,
   "metadata": {
    "scrolled": true
   },
   "outputs": [
    {
     "name": "stdout",
     "output_type": "stream",
     "text": [
      "+---------+----------------------+\n",
      "|InvoiceNo|collect_set(StockCode)|\n",
      "+---------+----------------------+\n",
      "|   536596|  [22900, 22114, 84...|\n",
      "|   536938|  [22112, 21931, 84...|\n",
      "|   537252|               [22197]|\n",
      "|   537691|  [22505, 46000R, 2...|\n",
      "|   538041|               [22145]|\n",
      "|   538184|  [22561, 22147, 21...|\n",
      "|   538517|  [22749, 21212, 22...|\n",
      "|   538879|  [21212, 22759, 22...|\n",
      "|   539275|  [22083, 22150, 22...|\n",
      "|   539630|  [22111, 22971, 22...|\n",
      "|   540499|  [22697, 22796, 21...|\n",
      "|   540540|  [22111, 22834, 22...|\n",
      "|   540976|  [22413, 21212, 22...|\n",
      "|   541432|  [22113, 22457, 21...|\n",
      "|   541518|  [21212, 22432, 22...|\n",
      "|   541783|  [22561, 22697, 22...|\n",
      "|   542026|  [22398, 22194, 22...|\n",
      "|   542375|  [22629, 21731, 22...|\n",
      "|   543641|  [22645, 75131, 22...|\n",
      "|   544303|  [84596L, 22931, 8...|\n",
      "+---------+----------------------+\n",
      "only showing top 20 rows\n",
      "\n"
     ]
    }
   ],
   "source": [
    "# Preprocess data (Ekstraksi Barang berdasarkan InvoiceNo)\n",
    "## menggunakan groupby dan aggregate function dari collect_set (menggolongkan StockCode unique berdasarkan invoiceNo)\n",
    "\n",
    "from pyspark.sql.functions import collect_set\n",
    "df_preprocess = df.groupby(\"InvoiceNo\").agg(collect_set('StockCode'))\n",
    "df_preprocess.show()"
   ]
  },
  {
   "cell_type": "markdown",
   "metadata": {},
   "source": [
    "# Perhitungan\n"
   ]
  },
  {
   "cell_type": "code",
   "execution_count": 50,
   "metadata": {},
   "outputs": [
    {
     "data": {
      "text/plain": [
       "25900"
      ]
     },
     "execution_count": 50,
     "metadata": {},
     "output_type": "execute_result"
    }
   ],
   "source": [
    "## Jumlah Transaksi (invoice) pada dataset\n",
    "df_preprocess.count()"
   ]
  },
  {
   "cell_type": "code",
   "execution_count": 53,
   "metadata": {},
   "outputs": [
    {
     "data": {
      "text/plain": [
       "4224"
      ]
     },
     "execution_count": 53,
     "metadata": {},
     "output_type": "execute_result"
    }
   ],
   "source": [
    "## Total Jenis Barang pada dataset\n",
    "df.select(\"description\").distinct().count()"
   ]
  },
  {
   "cell_type": "markdown",
   "metadata": {},
   "source": [
    "## Percobaan 1\n",
    "* **minSupport = 0.1** ( min frekuensi penjualan set barang **2590**)\n",
    "* **minConfidence = 0.5**\n",
    "\n",
    "## Percobaan 2\n",
    "* **minSupport = 0.01** ( min frekuensi penjualan set barang **259**)\n",
    "* **minConfidence = 0.6**\n",
    "\n",
    "## Percobaan 3\n",
    "* **minSupport = 0.005** ( min frekuensi penjualan set barang **129**)\n",
    "* **minConfidence = 0.8** "
   ]
  },
  {
   "cell_type": "markdown",
   "metadata": {},
   "source": [
    "# Percobaan 1"
   ]
  },
  {
   "cell_type": "code",
   "execution_count": 75,
   "metadata": {},
   "outputs": [],
   "source": [
    "from pyspark.ml.fpm import FPGrowth\n",
    "fpGrowth = FPGrowth(itemsCol=\"collect_set(StockCode)\", minSupport=0.1, minConfidence=0.5)\n",
    "model = fpGrowth.fit(df_preprocess)"
   ]
  },
  {
   "cell_type": "code",
   "execution_count": 76,
   "metadata": {},
   "outputs": [
    {
     "name": "stdout",
     "output_type": "stream",
     "text": [
      "+-----+----+\n",
      "|items|freq|\n",
      "+-----+----+\n",
      "+-----+----+\n",
      "\n"
     ]
    }
   ],
   "source": [
    "model.freqItemsets.show()"
   ]
  },
  {
   "cell_type": "code",
   "execution_count": 77,
   "metadata": {},
   "outputs": [
    {
     "name": "stdout",
     "output_type": "stream",
     "text": [
      "+----------+----------+----------+----+\n",
      "|antecedent|consequent|confidence|lift|\n",
      "+----------+----------+----------+----+\n",
      "+----------+----------+----------+----+\n",
      "\n"
     ]
    }
   ],
   "source": [
    "model.associationRules.show()"
   ]
  },
  {
   "cell_type": "code",
   "execution_count": 78,
   "metadata": {},
   "outputs": [
    {
     "name": "stdout",
     "output_type": "stream",
     "text": [
      "+---------+----------------------+----------+\n",
      "|InvoiceNo|collect_set(StockCode)|prediction|\n",
      "+---------+----------------------+----------+\n",
      "|   536596|  [22900, 22114, 84...|        []|\n",
      "|   536938|  [22112, 21931, 84...|        []|\n",
      "|   537252|               [22197]|        []|\n",
      "|   537691|  [22505, 46000R, 2...|        []|\n",
      "|   538041|               [22145]|        []|\n",
      "|   538184|  [22561, 22147, 21...|        []|\n",
      "|   538517|  [22749, 21212, 22...|        []|\n",
      "|   538879|  [21212, 22759, 22...|        []|\n",
      "|   539275|  [22083, 22150, 22...|        []|\n",
      "|   539630|  [22111, 22971, 22...|        []|\n",
      "|   540499|  [22697, 22796, 21...|        []|\n",
      "|   540540|  [22111, 22834, 22...|        []|\n",
      "|   540976|  [22413, 21212, 22...|        []|\n",
      "|   541432|  [22113, 22457, 21...|        []|\n",
      "|   541518|  [21212, 22432, 22...|        []|\n",
      "|   541783|  [22561, 22697, 22...|        []|\n",
      "|   542026|  [22398, 22194, 22...|        []|\n",
      "|   542375|  [22629, 21731, 22...|        []|\n",
      "|   543641|  [22645, 75131, 22...|        []|\n",
      "|   544303|  [84596L, 22931, 8...|        []|\n",
      "+---------+----------------------+----------+\n",
      "only showing top 20 rows\n",
      "\n"
     ]
    }
   ],
   "source": [
    "model.transform(df_preprocess).show()"
   ]
  },
  {
   "cell_type": "markdown",
   "metadata": {},
   "source": [
    "# Percobaan 2"
   ]
  },
  {
   "cell_type": "code",
   "execution_count": 60,
   "metadata": {},
   "outputs": [],
   "source": [
    "from pyspark.ml.fpm import FPGrowth\n",
    "fpGrowth = FPGrowth(itemsCol=\"collect_set(StockCode)\", minSupport=0.01, minConfidence=0.6)\n",
    "model2 = fpGrowth.fit(df_preprocess)"
   ]
  },
  {
   "cell_type": "code",
   "execution_count": 61,
   "metadata": {},
   "outputs": [
    {
     "name": "stdout",
     "output_type": "stream",
     "text": [
      "+----------------+----+\n",
      "|           items|freq|\n",
      "+----------------+----+\n",
      "|         [22633]| 487|\n",
      "|         [23236]| 344|\n",
      "|        [85123A]|2246|\n",
      "|         [22423]|2172|\n",
      "| [22423, 85123A]| 355|\n",
      "|         [22667]| 486|\n",
      "|         [22579]| 343|\n",
      "|  [22579, 22578]| 282|\n",
      "|        [85099B]|2135|\n",
      "| [85099B, 22423]| 288|\n",
      "|[85099B, 85123A]| 404|\n",
      "|         [22620]| 486|\n",
      "|        [84536A]| 342|\n",
      "|         [71053]| 342|\n",
      "|         [47566]|1706|\n",
      "| [47566, 85099B]| 332|\n",
      "|  [47566, 22423]| 398|\n",
      "| [47566, 85123A]| 391|\n",
      "|         [85150]| 483|\n",
      "|         [20725]|1608|\n",
      "+----------------+----+\n",
      "only showing top 20 rows\n",
      "\n"
     ]
    }
   ],
   "source": [
    "model2.freqItemsets.show()"
   ]
  },
  {
   "cell_type": "code",
   "execution_count": 64,
   "metadata": {},
   "outputs": [
    {
     "name": "stdout",
     "output_type": "stream",
     "text": [
      "+--------------------+----------+------------------+------------------+\n",
      "|          antecedent|consequent|        confidence|              lift|\n",
      "+--------------------+----------+------------------+------------------+\n",
      "|      [20726, 22382]|   [20725]|0.6356107660455487|10.237760472997332|\n",
      "|             [22699]|   [22697]|               0.7|  17.1523178807947|\n",
      "|      [20723, 22355]|   [20724]|0.8038277511961722|19.827751196172247|\n",
      "|      [20723, 22355]|   [20719]|0.7272727272727273| 22.34444084977893|\n",
      "|      [20723, 22355]|   [22356]|  0.65311004784689| 22.25730294636112|\n",
      "|             [22866]|   [22865]| 0.600358422939068| 23.31226859688435|\n",
      "|             [20723]|   [20724]| 0.667574931880109|16.466848319709353|\n",
      "|      [22356, 20719]|   [22355]|0.7405541561712846|21.430561614342203|\n",
      "|      [22356, 20719]|   [20724]|0.8211586901763224| 20.25524769101595|\n",
      "|      [22356, 20719]|   [20723]|0.6649874055415617|23.464814446221318|\n",
      "|        [DOT, 22411]|  [85099B]|0.7713498622589532| 9.357358984780744|\n",
      "|             [22746]|   [22748]| 0.796969696969697|46.912534435261705|\n",
      "|             [22746]|   [22745]| 0.793939393939394|48.270024185517144|\n",
      "|      [20726, 22384]|   [20725]| 0.713216957605985|11.487760697758093|\n",
      "|             [22386]|  [85099B]|0.6766856214459789|  8.20897311262335|\n",
      "|[21931, 22386, 85...|   [22411]|0.6466346153846154|14.109382088004667|\n",
      "|      [22382, 20727]|   [20725]|0.6198830409356725| 9.984434552384277|\n",
      "|      [22382, 20727]|   [22383]|0.6101364522417154|12.099949550582258|\n",
      "|      [20712, 22411]|   [21931]|0.7051282051282052|15.206345139733983|\n",
      "|      [20712, 22411]|  [85099B]|0.7615384615384615| 9.238335435056745|\n",
      "+--------------------+----------+------------------+------------------+\n",
      "only showing top 20 rows\n",
      "\n"
     ]
    }
   ],
   "source": [
    "model2.associationRules.show()"
   ]
  },
  {
   "cell_type": "code",
   "execution_count": 65,
   "metadata": {},
   "outputs": [
    {
     "name": "stdout",
     "output_type": "stream",
     "text": [
      "+---------+----------------------+--------------------+\n",
      "|InvoiceNo|collect_set(StockCode)|          prediction|\n",
      "+---------+----------------------+--------------------+\n",
      "|   536596|  [22900, 22114, 84...|                  []|\n",
      "|   536938|  [22112, 21931, 84...|[85099B, 22355, 2...|\n",
      "|   537252|               [22197]|                  []|\n",
      "|   537691|  [22505, 46000R, 2...|                  []|\n",
      "|   538041|               [22145]|                  []|\n",
      "|   538184|  [22561, 22147, 21...|                  []|\n",
      "|   538517|  [22749, 21212, 22...|                  []|\n",
      "|   538879|  [21212, 22759, 22...|                  []|\n",
      "|   539275|  [22083, 22150, 22...|                  []|\n",
      "|   539630|  [22111, 22971, 22...|                  []|\n",
      "|   540499|  [22697, 22796, 21...|      [22698, 20724]|\n",
      "|   540540|  [22111, 22834, 22...|                  []|\n",
      "|   540976|  [22413, 21212, 22...|[22355, 22356, 20...|\n",
      "|   541432|  [22113, 22457, 21...|                  []|\n",
      "|   541518|  [21212, 22432, 22...|[21931, 22386, 20...|\n",
      "|   541783|  [22561, 22697, 22...|             [22698]|\n",
      "|   542026|  [22398, 22194, 22...|                  []|\n",
      "|   542375|  [22629, 21731, 22...|                  []|\n",
      "|   543641|  [22645, 75131, 22...|                  []|\n",
      "|   544303|  [84596L, 22931, 8...|                  []|\n",
      "+---------+----------------------+--------------------+\n",
      "only showing top 20 rows\n",
      "\n"
     ]
    }
   ],
   "source": [
    "model2.transform(df_preprocess).show()"
   ]
  },
  {
   "cell_type": "markdown",
   "metadata": {},
   "source": [
    "# Percobaan 3"
   ]
  },
  {
   "cell_type": "code",
   "execution_count": 71,
   "metadata": {},
   "outputs": [],
   "source": [
    "from pyspark.ml.fpm import FPGrowth\n",
    "fpGrowth = FPGrowth(itemsCol=\"collect_set(StockCode)\", minSupport=0.005, minConfidence=0.8)\n",
    "model3 = fpGrowth.fit(df_preprocess)"
   ]
  },
  {
   "cell_type": "code",
   "execution_count": 72,
   "metadata": {},
   "outputs": [
    {
     "name": "stdout",
     "output_type": "stream",
     "text": [
      "+--------------------+----+\n",
      "|               items|freq|\n",
      "+--------------------+----+\n",
      "|             [22633]| 487|\n",
      "|      [22633, 22866]| 215|\n",
      "|[22633, 22866, 22...| 140|\n",
      "|      [22633, 23355]| 134|\n",
      "|      [22633, 22865]| 238|\n",
      "|      [22633, 22867]| 186|\n",
      "|             [23236]| 344|\n",
      "|      [23236, 23240]| 160|\n",
      "|      [23236, 23245]| 147|\n",
      "|             [23158]| 258|\n",
      "|             [21922]| 209|\n",
      "|             [21471]| 166|\n",
      "|             [21394]| 138|\n",
      "|            [85123A]|2246|\n",
      "|             [23504]| 208|\n",
      "|             [23157]| 166|\n",
      "|             [21679]| 138|\n",
      "|             [22423]|2172|\n",
      "|     [22423, 85123A]| 355|\n",
      "|             [22667]| 486|\n",
      "+--------------------+----+\n",
      "only showing top 20 rows\n",
      "\n"
     ]
    }
   ],
   "source": [
    "model3.freqItemsets.show()"
   ]
  },
  {
   "cell_type": "code",
   "execution_count": 73,
   "metadata": {},
   "outputs": [
    {
     "name": "stdout",
     "output_type": "stream",
     "text": [
      "+--------------------+----------+------------------+------------------+\n",
      "|          antecedent|consequent|        confidence|              lift|\n",
      "+--------------------+----------+------------------+------------------+\n",
      "|      [21992, 21935]|     [DOT]|0.9631901840490797| 35.13609262939601|\n",
      "|      [20712, 22457]|     [DOT]| 0.861271676300578|31.418220304485875|\n",
      "|[22356, 20719, 20...|   [22355]|0.8285714285714286| 23.97765363128492|\n",
      "|[22356, 20719, 20...|   [20724]|0.8857142857142857|21.847619047619045|\n",
      "|[22356, 20719, 20...|   [20723]|0.8285714285714286|29.237057220708447|\n",
      "|      [23173, 22697]|   [22699]|0.8826530612244898|20.411352040816325|\n",
      "|      [21731, 22666]|     [DOT]|0.8118279569892473|29.614569135241556|\n",
      "|[23245, 22697, 22...|   [22698]|0.8103448275862069|26.169490067933612|\n",
      "|[23264, 23266, 23...|   [23265]|             0.875| 76.82203389830508|\n",
      "|[23199, 22411, 21...|  [85099B]|0.9027777777777778|10.951730418943534|\n",
      "|[20723, 20719, 22...|   [22355]|0.8588235294117647| 24.85310548800526|\n",
      "|[20723, 20719, 22...|   [20724]|0.8705882352941177|21.474509803921567|\n",
      "|[21935, 22666, 22...|     [DOT]|0.9856115107913669| 35.95399736548789|\n",
      "|[21928, 20712, 22...|  [85099B]|0.8541666666666666|10.362021857923496|\n",
      "|      [21935, 21232]|     [DOT]|0.9659863945578231|35.238095238095234|\n",
      "|    [84032A, 85099B]|     [DOT]|0.9622641509433962|35.102311985118256|\n",
      "|      [21790, 22697]|     [DOT]|0.8224852071005917| 30.00333361113426|\n",
      "|[22385, 21928, 22...|  [85099B]|           0.85625|10.387295081967212|\n",
      "|             [23352]|   [23351]| 0.812206572769953| 58.92479057350639|\n",
      "|[20726, 22384, 22...|   [20725]|0.8284023668639053|13.343048073243251|\n",
      "+--------------------+----------+------------------+------------------+\n",
      "only showing top 20 rows\n",
      "\n"
     ]
    }
   ],
   "source": [
    "model3.associationRules.show()"
   ]
  },
  {
   "cell_type": "code",
   "execution_count": 94,
   "metadata": {},
   "outputs": [
    {
     "name": "stdout",
     "output_type": "stream",
     "text": [
      "+---------+----------------------+--------------------+\n",
      "|InvoiceNo|collect_set(StockCode)|          prediction|\n",
      "+---------+----------------------+--------------------+\n",
      "|   536596|  [22900, 22114, 84...|                  []|\n",
      "|   536938|  [22112, 21931, 84...|            [85099B]|\n",
      "|   537252|               [22197]|                  []|\n",
      "|   537691|  [22505, 46000R, 2...|                  []|\n",
      "|   538041|               [22145]|                  []|\n",
      "|   538184|  [22561, 22147, 21...|                  []|\n",
      "|   538517|  [22749, 21212, 22...|                  []|\n",
      "|   538879|  [21212, 22759, 22...|                  []|\n",
      "|   539275|  [22083, 22150, 22...|                  []|\n",
      "|   539630|  [22111, 22971, 22...|                  []|\n",
      "|   540499|  [22697, 22796, 21...|        [DOT, 20724]|\n",
      "|   540540|  [22111, 22834, 22...|                  []|\n",
      "|   540976|  [22413, 21212, 22...|      [22355, 22356]|\n",
      "|   541432|  [22113, 22457, 21...|                  []|\n",
      "|   541518|  [21212, 22432, 22...|[DOT, 22355, 2072...|\n",
      "|   541783|  [22561, 22697, 22...|                  []|\n",
      "|   542026|  [22398, 22194, 22...|                  []|\n",
      "|   542375|  [22629, 21731, 22...|                  []|\n",
      "|   543641|  [22645, 75131, 22...|                  []|\n",
      "|   544303|  [84596L, 22931, 8...|                  []|\n",
      "+---------+----------------------+--------------------+\n",
      "only showing top 20 rows\n",
      "\n"
     ]
    }
   ],
   "source": [
    "model3.transform(df_preprocess).show()"
   ]
  },
  {
   "cell_type": "markdown",
   "metadata": {},
   "source": [
    " # Contoh output rekomendasi itemset "
   ]
  },
  {
   "cell_type": "code",
   "execution_count": 122,
   "metadata": {},
   "outputs": [
    {
     "name": "stdout",
     "output_type": "stream",
     "text": [
      "+---------+----------------------+\n",
      "|InvoiceNo|collect_set(StockCode)|\n",
      "+---------+----------------------+\n",
      "|        0|               [23173]|\n",
      "|        1|        [21731, 22666]|\n",
      "|        2|               [22699]|\n",
      "|        3|        [22356, 20719]|\n",
      "|        4|        [20723, 22355]|\n",
      "|        5|               [23352]|\n",
      "+---------+----------------------+\n",
      "\n"
     ]
    }
   ],
   "source": [
    "df2 = spark.createDataFrame([\n",
    "    ('0', ['23173']),\n",
    "    ('1', ['21731', '22666']),\n",
    "    ('2', ['22699']),\n",
    "    ('3', ['22356', '20719']),\n",
    "    ('4', ['20723', '22355']),\n",
    "    ('5', ['23352'])\n",
    "\n",
    "\n",
    "], [\"InvoiceNo\", \"collect_set(StockCode)\"])\n",
    "df2.show()"
   ]
  },
  {
   "cell_type": "code",
   "execution_count": 123,
   "metadata": {},
   "outputs": [
    {
     "name": "stdout",
     "output_type": "stream",
     "text": [
      "+---------+----------------------+----------+\n",
      "|InvoiceNo|collect_set(StockCode)|prediction|\n",
      "+---------+----------------------+----------+\n",
      "|        0|               [23173]|        []|\n",
      "|        1|        [21731, 22666]|        []|\n",
      "|        2|               [22699]|        []|\n",
      "|        3|        [22356, 20719]|        []|\n",
      "|        4|        [20723, 22355]|        []|\n",
      "|        5|               [23352]|        []|\n",
      "+---------+----------------------+----------+\n",
      "\n"
     ]
    }
   ],
   "source": [
    "model.transform(df2).show()\n"
   ]
  },
  {
   "cell_type": "code",
   "execution_count": 124,
   "metadata": {},
   "outputs": [
    {
     "name": "stdout",
     "output_type": "stream",
     "text": [
      "+---------+----------------------+--------------------+\n",
      "|InvoiceNo|collect_set(StockCode)|          prediction|\n",
      "+---------+----------------------+--------------------+\n",
      "|        0|               [23173]|                  []|\n",
      "|        1|        [21731, 22666]|                  []|\n",
      "|        2|               [22699]|             [22697]|\n",
      "|        3|        [22356, 20719]|[22355, 20724, 20...|\n",
      "|        4|        [20723, 22355]|[20724, 20719, 22...|\n",
      "|        5|               [23352]|                  []|\n",
      "+---------+----------------------+--------------------+\n",
      "\n"
     ]
    }
   ],
   "source": [
    "model2.transform(df2).show()\n"
   ]
  },
  {
   "cell_type": "code",
   "execution_count": 125,
   "metadata": {},
   "outputs": [
    {
     "name": "stdout",
     "output_type": "stream",
     "text": [
      "+---------+----------------------+----------+\n",
      "|InvoiceNo|collect_set(StockCode)|prediction|\n",
      "+---------+----------------------+----------+\n",
      "|        0|               [23173]|        []|\n",
      "|        1|        [21731, 22666]|     [DOT]|\n",
      "|        2|               [22699]|        []|\n",
      "|        3|        [22356, 20719]|   [20724]|\n",
      "|        4|        [20723, 22355]|   [20724]|\n",
      "|        5|               [23352]|   [23351]|\n",
      "+---------+----------------------+----------+\n",
      "\n"
     ]
    }
   ],
   "source": [
    "model3.transform(df2).show()\n"
   ]
  },
  {
   "cell_type": "markdown",
   "metadata": {},
   "source": [
    "# Kesimpulan"
   ]
  },
  {
   "cell_type": "code",
   "execution_count": 119,
   "metadata": {},
   "outputs": [
    {
     "data": {
      "text/plain": [
       "0"
      ]
     },
     "execution_count": 119,
     "metadata": {},
     "output_type": "execute_result"
    }
   ],
   "source": [
    "model.freqItemsets.count()"
   ]
  },
  {
   "cell_type": "code",
   "execution_count": 120,
   "metadata": {},
   "outputs": [
    {
     "data": {
      "text/plain": [
       "1087"
      ]
     },
     "execution_count": 120,
     "metadata": {},
     "output_type": "execute_result"
    }
   ],
   "source": [
    "model2.freqItemsets.count()"
   ]
  },
  {
   "cell_type": "code",
   "execution_count": 121,
   "metadata": {},
   "outputs": [
    {
     "data": {
      "text/plain": [
       "7538"
      ]
     },
     "execution_count": 121,
     "metadata": {},
     "output_type": "execute_result"
    }
   ],
   "source": [
    "model3.freqItemsets.count()"
   ]
  },
  {
   "cell_type": "markdown",
   "metadata": {},
   "source": [
    "## analisis hasil output berdasarkan setiap model\n",
    "\n",
    "1. Prediksi model 1 **(minSup = 0.1 minConf = 0.6)** Tidak menghasilkan prediksi apapun karena memang nilai **MinSupport terlalu tinggi** (tidak ada barang yang memiliki frekuensi penjualan diatas 2590)\n",
    "2. Prediksi model 2 **(minSup = 0.01, minConf = 0.6)** memiliki hasil frequensi itemset yang lebih sedikit dari model 3 dikarenakan domain ditentukan dari nilai minSup (lebih kecil, maka lebih banyak)\n",
    "3. Prediksi model 3 **(minSup = 0.005, minConf = 0.8)** memiliki hasil frequensi itemset yang lebih banyak dan memiliki nilai confidence yang lebih tinggi daripada model 2\n",
    "4. Perbedaan yang dihasilkan dari prediksi Model 2 dan 3 dapat disimpulkan sebagai berikut\n",
    "    * data prediksi yang ada pada model 2 namun tidak ada pada model 3 berarti **memiliki nilai confidence antara 0,6 hingga 0,8**\n",
    "    * data prediksi yang ada pada model 3 namun tidak ada pada model 2 berarti **memiliki nilai frekuensi penjualan dibawah 259**"
   ]
  },
  {
   "cell_type": "code",
   "execution_count": null,
   "metadata": {},
   "outputs": [],
   "source": []
  }
 ],
 "metadata": {
  "kernelspec": {
   "display_name": "Python 3",
   "language": "python",
   "name": "python3"
  },
  "language_info": {
   "codemirror_mode": {
    "name": "ipython",
    "version": 3
   },
   "file_extension": ".py",
   "mimetype": "text/x-python",
   "name": "python",
   "nbconvert_exporter": "python",
   "pygments_lexer": "ipython3",
   "version": "3.7.1"
  }
 },
 "nbformat": 4,
 "nbformat_minor": 2
}
