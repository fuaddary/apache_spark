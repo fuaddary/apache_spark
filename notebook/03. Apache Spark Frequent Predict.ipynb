{
 "cells": [
  {
   "cell_type": "markdown",
   "metadata": {},
   "source": [
    "# APACHE SPARK FREQUENT PREDICTION\n",
    "\n",
    "## Tugas 3 Big Data\n",
    "\n",
    "### Requirements\n",
    "\n",
    "1. Apache Spark 2.40\n",
    "2. Python 3.7.1\n",
    "3. JDK 1.8.0"
   ]
  },
  {
   "cell_type": "code",
   "execution_count": 1,
   "metadata": {},
   "outputs": [],
   "source": [
    "# Spark initial"
   ]
  },
  {
   "cell_type": "code",
   "execution_count": 2,
   "metadata": {},
   "outputs": [],
   "source": [
    "import findspark\n",
    "findspark.init()"
   ]
  },
  {
   "cell_type": "code",
   "execution_count": 3,
   "metadata": {},
   "outputs": [],
   "source": [
    "# Import required library\n",
    "from pyspark.sql import SparkSession\n",
    "\n",
    "# Create Spark Session\n",
    "spark = SparkSession \\\n",
    "    .builder \\\n",
    "    .appName(\"Python Spark SQL basic example\") \\\n",
    "    .getOrCreate()"
   ]
  },
  {
   "cell_type": "code",
   "execution_count": 4,
   "metadata": {},
   "outputs": [
    {
     "name": "stdout",
     "output_type": "stream",
     "text": [
      "<pyspark.sql.session.SparkSession object at 0x114b74908>\n"
     ]
    }
   ],
   "source": [
    "# Print Spark object ID\n",
    "print(spark)"
   ]
  },
  {
   "cell_type": "code",
   "execution_count": 127,
   "metadata": {},
   "outputs": [],
   "source": [
    "# Data Import\n",
    "df = spark.read.csv(\"/Users/gunstringer/Downloads/OnlineRetail.csv\", header=True, inferSchema=True)"
   ]
  },
  {
   "cell_type": "code",
   "execution_count": 6,
   "metadata": {},
   "outputs": [
    {
     "name": "stdout",
     "output_type": "stream",
     "text": [
      "root\n",
      " |-- InvoiceNo: string (nullable = true)\n",
      " |-- StockCode: string (nullable = true)\n",
      " |-- Description: string (nullable = true)\n",
      " |-- Quantity: integer (nullable = true)\n",
      " |-- InvoiceDate: string (nullable = true)\n",
      " |-- UnitPrice: double (nullable = true)\n",
      " |-- CustomerID: integer (nullable = true)\n",
      " |-- Country: string (nullable = true)\n",
      "\n"
     ]
    }
   ],
   "source": [
    "df.printSchema()"
   ]
  },
  {
   "cell_type": "code",
   "execution_count": 128,
   "metadata": {
    "scrolled": false
   },
   "outputs": [
    {
     "name": "stdout",
     "output_type": "stream",
     "text": [
      "+---------+---------+--------------------+--------+--------------+---------+----------+--------------+\n",
      "|InvoiceNo|StockCode|         Description|Quantity|   InvoiceDate|UnitPrice|CustomerID|       Country|\n",
      "+---------+---------+--------------------+--------+--------------+---------+----------+--------------+\n",
      "|   536365|   85123A|WHITE HANGING HEA...|       6|01/12/10 08.26|     2.55|     17850|United Kingdom|\n",
      "|   536365|    71053| WHITE METAL LANTERN|       6|01/12/10 08.26|     3.39|     17850|United Kingdom|\n",
      "|   536365|   84406B|CREAM CUPID HEART...|       8|01/12/10 08.26|     2.75|     17850|United Kingdom|\n",
      "|   536365|   84029G|KNITTED UNION FLA...|       6|01/12/10 08.26|     3.39|     17850|United Kingdom|\n",
      "|   536365|   84029E|RED WOOLLY HOTTIE...|       6|01/12/10 08.26|     3.39|     17850|United Kingdom|\n",
      "|   536365|    22752|SET 7 BABUSHKA NE...|       2|01/12/10 08.26|     7.65|     17850|United Kingdom|\n",
      "|   536365|    21730|GLASS STAR FROSTE...|       6|01/12/10 08.26|     4.25|     17850|United Kingdom|\n",
      "|   536366|    22633|HAND WARMER UNION...|       6|01/12/10 08.28|     1.85|     17850|United Kingdom|\n",
      "|   536366|    22632|HAND WARMER RED P...|       6|01/12/10 08.28|     1.85|     17850|United Kingdom|\n",
      "|   536367|    84879|ASSORTED COLOUR B...|      32|01/12/10 08.34|     1.69|     13047|United Kingdom|\n",
      "|   536367|    22745|POPPY'S PLAYHOUSE...|       6|01/12/10 08.34|      2.1|     13047|United Kingdom|\n",
      "|   536367|    22748|POPPY'S PLAYHOUSE...|       6|01/12/10 08.34|      2.1|     13047|United Kingdom|\n",
      "|   536367|    22749|FELTCRAFT PRINCES...|       8|01/12/10 08.34|     3.75|     13047|United Kingdom|\n",
      "|   536367|    22310|IVORY KNITTED MUG...|       6|01/12/10 08.34|     1.65|     13047|United Kingdom|\n",
      "|   536367|    84969|BOX OF 6 ASSORTED...|       6|01/12/10 08.34|     4.25|     13047|United Kingdom|\n",
      "|   536367|    22623|BOX OF VINTAGE JI...|       3|01/12/10 08.34|     4.95|     13047|United Kingdom|\n",
      "|   536367|    22622|BOX OF VINTAGE AL...|       2|01/12/10 08.34|     9.95|     13047|United Kingdom|\n",
      "|   536367|    21754|HOME BUILDING BLO...|       3|01/12/10 08.34|     5.95|     13047|United Kingdom|\n",
      "|   536367|    21755|LOVE BUILDING BLO...|       3|01/12/10 08.34|     5.95|     13047|United Kingdom|\n",
      "|   536367|    21777|RECIPE BOX WITH M...|       4|01/12/10 08.34|     7.95|     13047|United Kingdom|\n",
      "+---------+---------+--------------------+--------+--------------+---------+----------+--------------+\n",
      "only showing top 20 rows\n",
      "\n"
     ]
    }
   ],
   "source": [
    "# Tampilkan Data\n",
    "df.show()"
   ]
  },
  {
   "cell_type": "markdown",
   "metadata": {},
   "source": [
    "# Preprocess Dataset"
   ]
  },
  {
   "cell_type": "code",
   "execution_count": 129,
   "metadata": {
    "scrolled": true
   },
   "outputs": [
    {
     "name": "stdout",
     "output_type": "stream",
     "text": [
      "+---------+----------------------+------------------------+\n",
      "|InvoiceNo|collect_set(StockCode)|collect_set(Description)|\n",
      "+---------+----------------------+------------------------+\n",
      "|   536365|  [84029E, 21730, 8...|    [RED WOOLLY HOTTI...|\n",
      "|   536366|        [22632, 22633]|    [HAND WARMER UNIO...|\n",
      "|   536367|  [22310, 22622, 21...|    [POPPY'S PLAYHOUS...|\n",
      "|   536368|  [22913, 22960, 22...|    [BLUE COAT RACK P...|\n",
      "|   536369|               [21756]|    [BATH BUILDING BL...|\n",
      "|   536370|  [22659, 21035, 21...|    [MINI JIGSAW SPAC...|\n",
      "|   536371|               [22086]|    [PAPER CHAIN KIT ...|\n",
      "|   536372|        [22632, 22633]|    [HAND WARMER UNIO...|\n",
      "|   536373|  [84029E, 21730, 8...|    [EDWARDIAN PARASO...|\n",
      "|   536374|               [21258]|    [VICTORIAN SEWING...|\n",
      "|   536375|  [84029E, 21730, 8...|    [EDWARDIAN PARASO...|\n",
      "|   536376|        [21733, 22114]|    [RED HANGING HEAR...|\n",
      "|   536377|        [22632, 22633]|    [HAND WARMER UNIO...|\n",
      "|   536378|  [21212, 21931, 20...|    [RED 3 PIECE RETR...|\n",
      "|   536380|               [22961]|    [JAM MAKING SET P...|\n",
      "|   536381|  [21533, 21169, 21...|    [BALLOON ART MAKE...|\n",
      "|   536382|  [22798, 22926, 21...|    [SET 3 WICKER OVA...|\n",
      "|   536384|  [21324, 82484, 22...|    [HANGING MEDINA L...|\n",
      "|   536385|  [22663, 22961, 85...|    [JAM MAKING SET P...|\n",
      "|   536386|  [85099B, 84880, 8...|    [JUMBO  BAG BAROQ...|\n",
      "+---------+----------------------+------------------------+\n",
      "only showing top 20 rows\n",
      "\n"
     ]
    }
   ],
   "source": [
    "# Preprocess data (Ekstraksi Barang berdasarkan InvoiceNo)\n",
    "## menggunakan groupby dan aggregate function dari collect_set (menggolongkan StockCode unique berdasarkan invoiceNo)\n",
    "\n",
    "import pyspark.sql.functions\n",
    "df_preprocess = df.groupby(\"InvoiceNo\").agg(collect_set('StockCode'),collect_set('Description')).sort('InvoiceNo')\n",
    "df_preprocess.show()"
   ]
  },
  {
   "cell_type": "markdown",
   "metadata": {},
   "source": [
    "# Perhitungan\n"
   ]
  },
  {
   "cell_type": "code",
   "execution_count": 50,
   "metadata": {},
   "outputs": [
    {
     "data": {
      "text/plain": [
       "25900"
      ]
     },
     "execution_count": 50,
     "metadata": {},
     "output_type": "execute_result"
    }
   ],
   "source": [
    "## Jumlah Transaksi (invoice) pada dataset\n",
    "df_preprocess.count()"
   ]
  },
  {
   "cell_type": "code",
   "execution_count": 53,
   "metadata": {},
   "outputs": [
    {
     "data": {
      "text/plain": [
       "4224"
      ]
     },
     "execution_count": 53,
     "metadata": {},
     "output_type": "execute_result"
    }
   ],
   "source": [
    "## Total Jenis Barang pada dataset\n",
    "df.select(\"description\").distinct().count()"
   ]
  },
  {
   "cell_type": "markdown",
   "metadata": {},
   "source": [
    "## Percobaan 1\n",
    "* **minSupport = 0.1** ( min frekuensi penjualan set barang **2590**)\n",
    "* **minConfidence = 0.5**\n",
    "\n",
    "## Percobaan 2\n",
    "* **minSupport = 0.01** ( min frekuensi penjualan set barang **259**)\n",
    "* **minConfidence = 0.6**\n",
    "\n",
    "## Percobaan 3\n",
    "* **minSupport = 0.005** ( min frekuensi penjualan set barang **129**)\n",
    "* **minConfidence = 0.8** "
   ]
  },
  {
   "cell_type": "markdown",
   "metadata": {},
   "source": [
    "# Percobaan 1"
   ]
  },
  {
   "cell_type": "code",
   "execution_count": 130,
   "metadata": {},
   "outputs": [],
   "source": [
    "from pyspark.ml.fpm import FPGrowth\n",
    "fpGrowth = FPGrowth(itemsCol=\"collect_set(Description)\", minSupport=0.1, minConfidence=0.5)\n",
    "model = fpGrowth.fit(df_preprocess)"
   ]
  },
  {
   "cell_type": "code",
   "execution_count": 131,
   "metadata": {},
   "outputs": [
    {
     "name": "stdout",
     "output_type": "stream",
     "text": [
      "+-----+----+\n",
      "|items|freq|\n",
      "+-----+----+\n",
      "+-----+----+\n",
      "\n"
     ]
    }
   ],
   "source": [
    "model.freqItemsets.show()"
   ]
  },
  {
   "cell_type": "code",
   "execution_count": 132,
   "metadata": {},
   "outputs": [
    {
     "name": "stdout",
     "output_type": "stream",
     "text": [
      "+----------+----------+----------+----+\n",
      "|antecedent|consequent|confidence|lift|\n",
      "+----------+----------+----------+----+\n",
      "+----------+----------+----------+----+\n",
      "\n"
     ]
    }
   ],
   "source": [
    "model.associationRules.show()"
   ]
  },
  {
   "cell_type": "code",
   "execution_count": 133,
   "metadata": {},
   "outputs": [
    {
     "name": "stdout",
     "output_type": "stream",
     "text": [
      "+---------+----------------------+------------------------+----------+\n",
      "|InvoiceNo|collect_set(StockCode)|collect_set(Description)|prediction|\n",
      "+---------+----------------------+------------------------+----------+\n",
      "|   536365|  [84029E, 21730, 8...|    [RED WOOLLY HOTTI...|        []|\n",
      "|   536366|        [22632, 22633]|    [HAND WARMER UNIO...|        []|\n",
      "|   536367|  [22310, 22622, 21...|    [POPPY'S PLAYHOUS...|        []|\n",
      "|   536368|  [22913, 22960, 22...|    [BLUE COAT RACK P...|        []|\n",
      "|   536369|               [21756]|    [BATH BUILDING BL...|        []|\n",
      "|   536370|  [22659, 21035, 21...|    [MINI JIGSAW SPAC...|        []|\n",
      "|   536371|               [22086]|    [PAPER CHAIN KIT ...|        []|\n",
      "|   536372|        [22632, 22633]|    [HAND WARMER UNIO...|        []|\n",
      "|   536373|  [84029E, 21730, 8...|    [EDWARDIAN PARASO...|        []|\n",
      "|   536374|               [21258]|    [VICTORIAN SEWING...|        []|\n",
      "|   536375|  [84029E, 21730, 8...|    [EDWARDIAN PARASO...|        []|\n",
      "|   536376|        [21733, 22114]|    [RED HANGING HEAR...|        []|\n",
      "|   536377|        [22632, 22633]|    [HAND WARMER UNIO...|        []|\n",
      "|   536378|  [21212, 21931, 20...|    [RED 3 PIECE RETR...|        []|\n",
      "|   536380|               [22961]|    [JAM MAKING SET P...|        []|\n",
      "|   536381|  [21533, 21169, 21...|    [BALLOON ART MAKE...|        []|\n",
      "|   536382|  [22798, 22926, 21...|    [SET 3 WICKER OVA...|        []|\n",
      "|   536384|  [21324, 82484, 22...|    [HANGING MEDINA L...|        []|\n",
      "|   536385|  [22663, 22961, 85...|    [JAM MAKING SET P...|        []|\n",
      "|   536386|  [85099B, 84880, 8...|    [JUMBO  BAG BAROQ...|        []|\n",
      "+---------+----------------------+------------------------+----------+\n",
      "only showing top 20 rows\n",
      "\n"
     ]
    }
   ],
   "source": [
    "model.transform(df_preprocess).show()"
   ]
  },
  {
   "cell_type": "markdown",
   "metadata": {},
   "source": [
    "# Percobaan 2"
   ]
  },
  {
   "cell_type": "code",
   "execution_count": 134,
   "metadata": {},
   "outputs": [],
   "source": [
    "from pyspark.ml.fpm import FPGrowth\n",
    "fpGrowth = FPGrowth(itemsCol=\"collect_set(Description)\", minSupport=0.01, minConfidence=0.6)\n",
    "model2 = fpGrowth.fit(df_preprocess)"
   ]
  },
  {
   "cell_type": "code",
   "execution_count": 135,
   "metadata": {},
   "outputs": [
    {
     "name": "stdout",
     "output_type": "stream",
     "text": [
      "+--------------------+----+\n",
      "|               items|freq|\n",
      "+--------------------+----+\n",
      "|[SET/3 RED GINGHA...| 489|\n",
      "|[BALLOONS  WRITIN...| 346|\n",
      "|[WHITE HANGING HE...|2302|\n",
      "|[REGENCY CAKESTAN...|2169|\n",
      "|[REGENCY CAKESTAN...| 360|\n",
      "|[HAND WARMER UNIO...| 486|\n",
      "|[AGED GLASS SILVE...| 345|\n",
      "|[JUMBO BAG RED RE...|2135|\n",
      "|[JUMBO BAG RED RE...| 288|\n",
      "|[JUMBO BAG RED RE...| 452|\n",
      "|[4 TRADITIONAL SP...| 486|\n",
      "|[CLASSIC CAFE SUG...| 343|\n",
      "|[DELUXE SEWING KIT ]| 342|\n",
      "|     [PARTY BUNTING]|1706|\n",
      "|[PARTY BUNTING, J...| 332|\n",
      "|[PARTY BUNTING, R...| 398|\n",
      "|[PARTY BUNTING, W...| 390|\n",
      "|[RECIPE BOX RETRO...| 485|\n",
      "|[LUNCH BAG RED RE...|1607|\n",
      "|[LUNCH BAG RED RE...| 588|\n",
      "+--------------------+----+\n",
      "only showing top 20 rows\n",
      "\n"
     ]
    }
   ],
   "source": [
    "model2.freqItemsets.show()"
   ]
  },
  {
   "cell_type": "code",
   "execution_count": 136,
   "metadata": {},
   "outputs": [
    {
     "name": "stdout",
     "output_type": "stream",
     "text": [
      "+--------------------+--------------------+------------------+------------------+\n",
      "|          antecedent|          consequent|        confidence|              lift|\n",
      "+--------------------+--------------------+------------------+------------------+\n",
      "|[PAPER CHAIN KIT ...|[PAPER CHAIN KIT ...|0.6670673076923077|14.766703648915188|\n",
      "|[JUMBO BAG SPACEB...|[JUMBO BAG PINK P...|0.6134259259259259|12.906361885850107|\n",
      "|[JUMBO BAG SCANDI...|[JUMBO SHOPPER VI...|0.6128318584070797|13.371815613094663|\n",
      "|[HAND WARMER SCOT...|[HAND WARMER OWL ...|0.6057866184448463|23.593794613115065|\n",
      "|[SET/6 RED SPOTTY...|[SET/6 RED SPOTTY...|0.6641366223908919| 40.18957598113108|\n",
      "|[SET/6 RED SPOTTY...|[SET/20 RED RETRO...|0.7020872865275142|18.404919758160542|\n",
      "|[ROSES REGENCY TE...|[GREEN REGENCY TE...|0.7672253258845437| 18.79956096538286|\n",
      "|[ROSES REGENCY TE...|[PINK REGENCY TEA...|  0.62756052141527|20.291906997073024|\n",
      "|[JUMBO SHOPPER VI...|[JUMBO BAG RED RE...|0.7447619047619047| 9.034816549570648|\n",
      "|[SET/6 RED SPOTTY...|[SET/6 RED SPOTTY...|0.8952702702702703|43.999051233396585|\n",
      "|[PINK REGENCY TEA...|[GREEN REGENCY TE...|0.8941368078175895|21.909312509437626|\n",
      "|[STRAWBERRY CHARL...|[CHARLOTTE BAG PI...|  0.65311004784689| 22.25730294636112|\n",
      "|[STRAWBERRY CHARL...|[RED RETROSPOT CH...|0.8038277511961722|19.827751196172247|\n",
      "|[STRAWBERRY CHARL...|[WOODLAND CHARLOT...|0.7272727272727273| 22.34444084977893|\n",
      "|[PINK VINTAGE PAI...|[SCANDINAVIAN PAI...|0.6763285024154589| 39.01315860258438|\n",
      "|[RED RETROSPOT CH...|[CHARLOTTE BAG SU...|0.6574307304785895|19.046371274491577|\n",
      "|[JUMBO STORAGE BA...|[JUMBO BAG RED RE...|0.6103247293921732| 7.403939340167346|\n",
      "|[LUNCH BAG WOODLA...|[LUNCH BAG RED RE...| 0.621978021978022|10.024412426403716|\n",
      "|[JUMBO BAG PINK V...|[JUMBO BAG RED RE...|0.7754569190600522| 9.407182296794076|\n",
      "|[PINK HAPPY BIRTH...|[BLUE HAPPY BIRTH...|0.6502463054187192| 42.85338246907081|\n",
      "+--------------------+--------------------+------------------+------------------+\n",
      "only showing top 20 rows\n",
      "\n"
     ]
    }
   ],
   "source": [
    "model2.associationRules.show()"
   ]
  },
  {
   "cell_type": "code",
   "execution_count": 137,
   "metadata": {},
   "outputs": [
    {
     "name": "stdout",
     "output_type": "stream",
     "text": [
      "+---------+----------------------+------------------------+--------------------+\n",
      "|InvoiceNo|collect_set(StockCode)|collect_set(Description)|          prediction|\n",
      "+---------+----------------------+------------------------+--------------------+\n",
      "|   536365|  [84029E, 21730, 8...|    [RED WOOLLY HOTTI...|                  []|\n",
      "|   536366|        [22632, 22633]|    [HAND WARMER UNIO...|                  []|\n",
      "|   536367|  [22310, 22622, 21...|    [POPPY'S PLAYHOUS...|[POPPY'S PLAYHOUS...|\n",
      "|   536368|  [22913, 22960, 22...|    [BLUE COAT RACK P...|                  []|\n",
      "|   536369|               [21756]|    [BATH BUILDING BL...|                  []|\n",
      "|   536370|  [22659, 21035, 21...|    [MINI JIGSAW SPAC...|                  []|\n",
      "|   536371|               [22086]|    [PAPER CHAIN KIT ...|                  []|\n",
      "|   536372|        [22632, 22633]|    [HAND WARMER UNIO...|                  []|\n",
      "|   536373|  [84029E, 21730, 8...|    [EDWARDIAN PARASO...|                  []|\n",
      "|   536374|               [21258]|    [VICTORIAN SEWING...|                  []|\n",
      "|   536375|  [84029E, 21730, 8...|    [EDWARDIAN PARASO...|                  []|\n",
      "|   536376|        [21733, 22114]|    [RED HANGING HEAR...|[WHITE HANGING HE...|\n",
      "|   536377|        [22632, 22633]|    [HAND WARMER UNIO...|                  []|\n",
      "|   536378|  [21212, 21931, 20...|    [RED 3 PIECE RETR...|[SET/6 RED SPOTTY...|\n",
      "|   536380|               [22961]|    [JAM MAKING SET P...|                  []|\n",
      "|   536381|  [21533, 21169, 21...|    [BALLOON ART MAKE...|                  []|\n",
      "|   536382|  [22798, 22926, 21...|    [SET 3 WICKER OVA...|[ALARM CLOCK BAKE...|\n",
      "|   536384|  [21324, 82484, 22...|    [HANGING MEDINA L...|                  []|\n",
      "|   536385|  [22663, 22961, 85...|    [JAM MAKING SET P...|[JUMBO BAG RED RE...|\n",
      "|   536386|  [85099B, 84880, 8...|    [JUMBO  BAG BAROQ...|                  []|\n",
      "+---------+----------------------+------------------------+--------------------+\n",
      "only showing top 20 rows\n",
      "\n"
     ]
    }
   ],
   "source": [
    "model2.transform(df_preprocess).show()"
   ]
  },
  {
   "cell_type": "markdown",
   "metadata": {},
   "source": [
    "# Percobaan 3"
   ]
  },
  {
   "cell_type": "code",
   "execution_count": 138,
   "metadata": {},
   "outputs": [],
   "source": [
    "from pyspark.ml.fpm import FPGrowth\n",
    "fpGrowth = FPGrowth(itemsCol=\"collect_set(Description)\", minSupport=0.005, minConfidence=0.8)\n",
    "model3 = fpGrowth.fit(df_preprocess)"
   ]
  },
  {
   "cell_type": "code",
   "execution_count": 139,
   "metadata": {},
   "outputs": [
    {
     "name": "stdout",
     "output_type": "stream",
     "text": [
      "+--------------------+----+\n",
      "|               items|freq|\n",
      "+--------------------+----+\n",
      "|[SET/3 RED GINGHA...| 489|\n",
      "|[SET/3 RED GINGHA...| 168|\n",
      "|[SET/3 RED GINGHA...| 135|\n",
      "|[SET/3 RED GINGHA...| 186|\n",
      "|[SET/3 RED GINGHA...| 150|\n",
      "|[SET/3 RED GINGHA...| 158|\n",
      "|[SET/3 RED GINGHA...| 134|\n",
      "|[SET/3 RED GINGHA...| 152|\n",
      "|[SET/3 RED GINGHA...| 141|\n",
      "|[BALLOONS  WRITIN...| 346|\n",
      "|[BALLOONS  WRITIN...| 138|\n",
      "|[BALLOONS  WRITIN...| 154|\n",
      "|[VINTAGE DONKEY T...| 257|\n",
      "|[GOLD MINI TAPE M...| 206|\n",
      "|[GOLD MINI TAPE M...| 166|\n",
      "|[ANGEL DECORATION...| 165|\n",
      "|  [SKULLS  STICKERS]| 138|\n",
      "|[WHITE HANGING HE...|2302|\n",
      "|[GREEN POLKADOT B...| 206|\n",
      "|[GREEN POLKADOT B...| 146|\n",
      "+--------------------+----+\n",
      "only showing top 20 rows\n",
      "\n"
     ]
    }
   ],
   "source": [
    "model3.freqItemsets.show()"
   ]
  },
  {
   "cell_type": "code",
   "execution_count": 140,
   "metadata": {},
   "outputs": [
    {
     "name": "stdout",
     "output_type": "stream",
     "text": [
      "+--------------------+--------------------+------------------+------------------+\n",
      "|          antecedent|          consequent|        confidence|              lift|\n",
      "+--------------------+--------------------+------------------+------------------+\n",
      "|[HERB MARKER MINT...|[HERB MARKER PARS...|0.9226804123711341| 99.98921623603503|\n",
      "|[HERB MARKER MINT...| [HERB MARKER THYME]|0.9432989690721649|102.65312310491207|\n",
      "|[HERB MARKER MINT...|[HERB MARKER CHIV...|0.8350515463917526|102.98969072164948|\n",
      "|[CHARLOTTE BAG PI...|[RED RETROSPOT CH...|0.8292682926829268|20.455284552845526|\n",
      "|[REGENCY TEA PLAT...|[GREEN REGENCY TE...|0.8715083798882681|21.354841096599948|\n",
      "|[REGENCY TEA PLAT...|[REGENCY TEA PLAT...|0.9553072625698324| 54.14104617190079|\n",
      "|[REGENCY TEA PLAT...|[PINK REGENCY TEA...|0.8379888268156425| 27.09601824534974|\n",
      "|[ROSES REGENCY TE...|[GREEN REGENCY TE...|           0.83125| 20.36837748344371|\n",
      "|[ROTATING LEAVES ...|    [DOTCOM POSTAGE]|0.9825581395348837|35.893167579624105|\n",
      "|[DOTCOM POSTAGE, ...|[JUMBO BAG RED RE...|0.8025751072961373| 9.736157039330191|\n",
      "|[LUNCH BAG WOODLA...|[LUNCH BAG RED RE...|0.8843537414965986|14.253118795744808|\n",
      "|[JUMBO BAG SCANDI...|[JUMBO BAG RED RE...|0.8392156862745098| 10.18064930890389|\n",
      "|[SUKI  SHOULDER B...|    [DOTCOM POSTAGE]|0.9848484848484849|35.976834636919264|\n",
      "|[CHARLOTTE BAG PI...|[RED RETROSPOT CH...|0.9241379310344827|22.795402298850572|\n",
      "|[CHARLOTTE BAG PI...|[STRAWBERRY CHARL...| 0.896551724137931|31.635816968899746|\n",
      "|[SMALL HEART MEAS...|    [DOTCOM POSTAGE]|0.9006622516556292|  32.9014842283227|\n",
      "|[STRAWBERRY CHARL...|[CHARLOTTE BAG SU...|0.8783783783783784| 25.44742729306488|\n",
      "|[POPPY'S PLAYHOUS...|[POPPY'S PLAYHOUS...|0.9058823529411765| 71.09803921568627|\n",
      "|[STRAWBERRY CHARL...|[CHARLOTTE BAG PI...|           0.81875|27.902138157894736|\n",
      "|[STRAWBERRY CHARL...|[RED RETROSPOT CH...|           0.88125|21.737499999999997|\n",
      "+--------------------+--------------------+------------------+------------------+\n",
      "only showing top 20 rows\n",
      "\n"
     ]
    }
   ],
   "source": [
    "model3.associationRules.show()"
   ]
  },
  {
   "cell_type": "code",
   "execution_count": 141,
   "metadata": {},
   "outputs": [
    {
     "name": "stdout",
     "output_type": "stream",
     "text": [
      "+---------+----------------------+------------------------+--------------------+\n",
      "|InvoiceNo|collect_set(StockCode)|collect_set(Description)|          prediction|\n",
      "+---------+----------------------+------------------------+--------------------+\n",
      "|   536365|  [84029E, 21730, 8...|    [RED WOOLLY HOTTI...|                  []|\n",
      "|   536366|        [22632, 22633]|    [HAND WARMER UNIO...|                  []|\n",
      "|   536367|  [22310, 22622, 21...|    [POPPY'S PLAYHOUS...|                  []|\n",
      "|   536368|  [22913, 22960, 22...|    [BLUE COAT RACK P...|                  []|\n",
      "|   536369|               [21756]|    [BATH BUILDING BL...|                  []|\n",
      "|   536370|  [22659, 21035, 21...|    [MINI JIGSAW SPAC...|                  []|\n",
      "|   536371|               [22086]|    [PAPER CHAIN KIT ...|                  []|\n",
      "|   536372|        [22632, 22633]|    [HAND WARMER UNIO...|                  []|\n",
      "|   536373|  [84029E, 21730, 8...|    [EDWARDIAN PARASO...|                  []|\n",
      "|   536374|               [21258]|    [VICTORIAN SEWING...|                  []|\n",
      "|   536375|  [84029E, 21730, 8...|    [EDWARDIAN PARASO...|                  []|\n",
      "|   536376|        [21733, 22114]|    [RED HANGING HEAR...|                  []|\n",
      "|   536377|        [22632, 22633]|    [HAND WARMER UNIO...|                  []|\n",
      "|   536378|  [21212, 21931, 20...|    [RED 3 PIECE RETR...|[JUMBO BAG RED RE...|\n",
      "|   536380|               [22961]|    [JAM MAKING SET P...|                  []|\n",
      "|   536381|  [21533, 21169, 21...|    [BALLOON ART MAKE...|    [DOTCOM POSTAGE]|\n",
      "|   536382|  [22798, 22926, 21...|    [SET 3 WICKER OVA...|                  []|\n",
      "|   536384|  [21324, 82484, 22...|    [HANGING MEDINA L...|                  []|\n",
      "|   536385|  [22663, 22961, 85...|    [JAM MAKING SET P...|                  []|\n",
      "|   536386|  [85099B, 84880, 8...|    [JUMBO  BAG BAROQ...|                  []|\n",
      "+---------+----------------------+------------------------+--------------------+\n",
      "only showing top 20 rows\n",
      "\n"
     ]
    }
   ],
   "source": [
    "model3.transform(df_preprocess).show()"
   ]
  },
  {
   "cell_type": "markdown",
   "metadata": {},
   "source": [
    " # Contoh output rekomendasi itemset "
   ]
  },
  {
   "cell_type": "code",
   "execution_count": 150,
   "metadata": {},
   "outputs": [
    {
     "name": "stdout",
     "output_type": "stream",
     "text": [
      "+---------+----------------------+------------------------+\n",
      "|InvoiceNo|collect_set(StockCode)|collect_set(Description)|\n",
      "+---------+----------------------+------------------------+\n",
      "|        0|               [23173]|    [REGENCY TEAPOT R...|\n",
      "|        1|        [21731, 22666]|    [RED TOADSTOOL LE...|\n",
      "|        2|               [22699]|    [ROSES REGENCY TE...|\n",
      "|        3|        [22356, 20719]|    [CHARLOTTE BAG PI...|\n",
      "|        4|        [20723, 22355]|    [STRAWBERRY CHARL...|\n",
      "|        5|               [23352]|    [ROLL WRAP 50'S R...|\n",
      "+---------+----------------------+------------------------+\n",
      "\n"
     ]
    }
   ],
   "source": [
    "test = spark.createDataFrame([\n",
    "    ('0', ['23173'],['REGENCY TEAPOT ROSES']),\n",
    "    ('1', ['21731', '22666'],['RED TOADSTOOL LED NIGHT LIGHT', 'RECIPE BOX PANTRY YELLOW DESIGN']),\n",
    "    ('2', ['22699'],['ROSES REGENCY TEACUP AND SAUCER ']),\n",
    "    ('3', ['22356', '20719'],['CHARLOTTE BAG PINK POLKADOT', 'WOODLAND CHARLOTTE BAG']),\n",
    "    ('4', ['20723', '22355'],['STRAWBERRY CHARLOTTE BAG', 'CHARLOTTE BAG SUKI DESIGN']),\n",
    "    ('5', ['23352'],[\"ROLL WRAP 50'S RED CHRISTMAS \"])\n",
    "\n",
    "\n",
    "], [\"InvoiceNo\", \"collect_set(StockCode)\",\"collect_set(Description)\"])\n",
    "test.show()"
   ]
  },
  {
   "cell_type": "code",
   "execution_count": 152,
   "metadata": {},
   "outputs": [
    {
     "name": "stdout",
     "output_type": "stream",
     "text": [
      "+---------+----------------------+------------------------+----------+\n",
      "|InvoiceNo|collect_set(StockCode)|collect_set(Description)|prediction|\n",
      "+---------+----------------------+------------------------+----------+\n",
      "|        0|               [23173]|    [REGENCY TEAPOT R...|        []|\n",
      "|        1|        [21731, 22666]|    [RED TOADSTOOL LE...|        []|\n",
      "|        2|               [22699]|    [ROSES REGENCY TE...|        []|\n",
      "|        3|        [22356, 20719]|    [CHARLOTTE BAG PI...|        []|\n",
      "|        4|        [20723, 22355]|    [STRAWBERRY CHARL...|        []|\n",
      "|        5|               [23352]|    [ROLL WRAP 50'S R...|        []|\n",
      "+---------+----------------------+------------------------+----------+\n",
      "\n"
     ]
    }
   ],
   "source": [
    "model.transform(test).show()"
   ]
  },
  {
   "cell_type": "code",
   "execution_count": 153,
   "metadata": {},
   "outputs": [
    {
     "name": "stdout",
     "output_type": "stream",
     "text": [
      "+---------+----------------------+------------------------+--------------------+\n",
      "|InvoiceNo|collect_set(StockCode)|collect_set(Description)|          prediction|\n",
      "+---------+----------------------+------------------------+--------------------+\n",
      "|        0|               [23173]|    [REGENCY TEAPOT R...|                  []|\n",
      "|        1|        [21731, 22666]|    [RED TOADSTOOL LE...|                  []|\n",
      "|        2|               [22699]|    [ROSES REGENCY TE...|[GREEN REGENCY TE...|\n",
      "|        3|        [22356, 20719]|    [CHARLOTTE BAG PI...|[RED RETROSPOT CH...|\n",
      "|        4|        [20723, 22355]|    [STRAWBERRY CHARL...|[CHARLOTTE BAG PI...|\n",
      "|        5|               [23352]|    [ROLL WRAP 50'S R...|                  []|\n",
      "+---------+----------------------+------------------------+--------------------+\n",
      "\n"
     ]
    }
   ],
   "source": [
    "model2.transform(test).show()"
   ]
  },
  {
   "cell_type": "code",
   "execution_count": 154,
   "metadata": {},
   "outputs": [
    {
     "name": "stdout",
     "output_type": "stream",
     "text": [
      "+---------+----------------------+------------------------+--------------------+\n",
      "|InvoiceNo|collect_set(StockCode)|collect_set(Description)|          prediction|\n",
      "+---------+----------------------+------------------------+--------------------+\n",
      "|        0|               [23173]|    [REGENCY TEAPOT R...|                  []|\n",
      "|        1|        [21731, 22666]|    [RED TOADSTOOL LE...|    [DOTCOM POSTAGE]|\n",
      "|        2|               [22699]|    [ROSES REGENCY TE...|                  []|\n",
      "|        3|        [22356, 20719]|    [CHARLOTTE BAG PI...|[RED RETROSPOT CH...|\n",
      "|        4|        [20723, 22355]|    [STRAWBERRY CHARL...|[RED RETROSPOT CH...|\n",
      "|        5|               [23352]|    [ROLL WRAP 50'S R...|[ROLL WRAP 50'S C...|\n",
      "+---------+----------------------+------------------------+--------------------+\n",
      "\n"
     ]
    }
   ],
   "source": [
    "model3.transform(test).show()"
   ]
  },
  {
   "cell_type": "markdown",
   "metadata": {},
   "source": [
    "# Kesimpulan"
   ]
  },
  {
   "cell_type": "code",
   "execution_count": 155,
   "metadata": {},
   "outputs": [
    {
     "data": {
      "text/plain": [
       "0"
      ]
     },
     "execution_count": 155,
     "metadata": {},
     "output_type": "execute_result"
    }
   ],
   "source": [
    "model.freqItemsets.count()"
   ]
  },
  {
   "cell_type": "code",
   "execution_count": 156,
   "metadata": {},
   "outputs": [
    {
     "data": {
      "text/plain": [
       "1038"
      ]
     },
     "execution_count": 156,
     "metadata": {},
     "output_type": "execute_result"
    }
   ],
   "source": [
    "model2.freqItemsets.count()"
   ]
  },
  {
   "cell_type": "code",
   "execution_count": 157,
   "metadata": {},
   "outputs": [
    {
     "data": {
      "text/plain": [
       "7003"
      ]
     },
     "execution_count": 157,
     "metadata": {},
     "output_type": "execute_result"
    }
   ],
   "source": [
    "model3.freqItemsets.count()"
   ]
  },
  {
   "cell_type": "markdown",
   "metadata": {},
   "source": [
    "## analisis hasil output berdasarkan setiap model\n",
    "\n",
    "1. Prediksi model 1 **(minSup = 0.1 minConf = 0.5)** Tidak menghasilkan prediksi apapun karena memang nilai **MinSupport terlalu tinggi** (tidak ada barang yang memiliki frekuensi penjualan diatas 2590)\n",
    "2. Prediksi model 2 **(minSup = 0.01, minConf = 0.6)** memiliki hasil frequensi itemset yang lebih sedikit dari model 3 dikarenakan domain ditentukan dari nilai minSup (lebih kecil, maka lebih banyak)\n",
    "3. Prediksi model 3 **(minSup = 0.005, minConf = 0.8)** memiliki hasil frequensi itemset yang lebih banyak dan memiliki nilai confidence yang lebih tinggi daripada model 2\n",
    "4. Perbedaan yang dihasilkan dari prediksi Model 2 dan 3 dapat disimpulkan sebagai berikut\n",
    "    * data prediksi yang ada pada model 2 namun tidak ada pada model 3 berarti **memiliki nilai confidence antara 0,6 hingga 0,8**\n",
    "    * data prediksi yang ada pada model 3 namun tidak ada pada model 2 berarti **memiliki nilai frekuensi penjualan dibawah 259**"
   ]
  },
  {
   "cell_type": "code",
   "execution_count": null,
   "metadata": {},
   "outputs": [],
   "source": []
  }
 ],
 "metadata": {
  "kernelspec": {
   "display_name": "Python 3",
   "language": "python",
   "name": "python3"
  },
  "language_info": {
   "codemirror_mode": {
    "name": "ipython",
    "version": 3
   },
   "file_extension": ".py",
   "mimetype": "text/x-python",
   "name": "python",
   "nbconvert_exporter": "python",
   "pygments_lexer": "ipython3",
   "version": "3.7.1"
  }
 },
 "nbformat": 4,
 "nbformat_minor": 2
}
