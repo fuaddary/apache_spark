{
 "cells": [
  {
   "cell_type": "code",
   "execution_count": 1,
   "metadata": {},
   "outputs": [],
   "source": [
    "# Spark initial"
   ]
  },
  {
   "cell_type": "code",
   "execution_count": 2,
   "metadata": {},
   "outputs": [],
   "source": [
    "import findspark\n",
    "findspark.init()"
   ]
  },
  {
   "cell_type": "code",
   "execution_count": 3,
   "metadata": {},
   "outputs": [],
   "source": [
    "# Import required library\n",
    "from pyspark.sql import SparkSession\n",
    "\n",
    "# Create Spark Session\n",
    "spark = SparkSession \\\n",
    "    .builder \\\n",
    "    .appName(\"Python Spark SQL basic example\") \\\n",
    "    .getOrCreate()"
   ]
  },
  {
   "cell_type": "code",
   "execution_count": 4,
   "metadata": {},
   "outputs": [
    {
     "name": "stdout",
     "output_type": "stream",
     "text": [
      "<pyspark.sql.session.SparkSession object at 0x114b74908>\n"
     ]
    }
   ],
   "source": [
    "# Print Spark object ID\n",
    "print(spark)"
   ]
  },
  {
   "cell_type": "code",
   "execution_count": 5,
   "metadata": {},
   "outputs": [],
   "source": [
    "# Data Import\n",
    "df = spark.read.csv(\"/Users/gunstringer/Downloads/OnlineRetail.csv\", header=True, inferSchema=True)"
   ]
  },
  {
   "cell_type": "code",
   "execution_count": 6,
   "metadata": {},
   "outputs": [
    {
     "name": "stdout",
     "output_type": "stream",
     "text": [
      "root\n",
      " |-- InvoiceNo: string (nullable = true)\n",
      " |-- StockCode: string (nullable = true)\n",
      " |-- Description: string (nullable = true)\n",
      " |-- Quantity: integer (nullable = true)\n",
      " |-- InvoiceDate: string (nullable = true)\n",
      " |-- UnitPrice: double (nullable = true)\n",
      " |-- CustomerID: integer (nullable = true)\n",
      " |-- Country: string (nullable = true)\n",
      "\n"
     ]
    }
   ],
   "source": [
    "df.printSchema()"
   ]
  },
  {
   "cell_type": "code",
   "execution_count": 7,
   "metadata": {
    "scrolled": false
   },
   "outputs": [
    {
     "name": "stdout",
     "output_type": "stream",
     "text": [
      "+---------+---------+--------------------+--------+--------------+---------+----------+--------------+\n",
      "|InvoiceNo|StockCode|         Description|Quantity|   InvoiceDate|UnitPrice|CustomerID|       Country|\n",
      "+---------+---------+--------------------+--------+--------------+---------+----------+--------------+\n",
      "|   536365|   85123A|WHITE HANGING HEA...|       6|01/12/10 08.26|     2.55|     17850|United Kingdom|\n",
      "|   536365|    71053| WHITE METAL LANTERN|       6|01/12/10 08.26|     3.39|     17850|United Kingdom|\n",
      "|   536365|   84406B|CREAM CUPID HEART...|       8|01/12/10 08.26|     2.75|     17850|United Kingdom|\n",
      "|   536365|   84029G|KNITTED UNION FLA...|       6|01/12/10 08.26|     3.39|     17850|United Kingdom|\n",
      "|   536365|   84029E|RED WOOLLY HOTTIE...|       6|01/12/10 08.26|     3.39|     17850|United Kingdom|\n",
      "|   536365|    22752|SET 7 BABUSHKA NE...|       2|01/12/10 08.26|     7.65|     17850|United Kingdom|\n",
      "|   536365|    21730|GLASS STAR FROSTE...|       6|01/12/10 08.26|     4.25|     17850|United Kingdom|\n",
      "|   536366|    22633|HAND WARMER UNION...|       6|01/12/10 08.28|     1.85|     17850|United Kingdom|\n",
      "|   536366|    22632|HAND WARMER RED P...|       6|01/12/10 08.28|     1.85|     17850|United Kingdom|\n",
      "|   536367|    84879|ASSORTED COLOUR B...|      32|01/12/10 08.34|     1.69|     13047|United Kingdom|\n",
      "|   536367|    22745|POPPY'S PLAYHOUSE...|       6|01/12/10 08.34|      2.1|     13047|United Kingdom|\n",
      "|   536367|    22748|POPPY'S PLAYHOUSE...|       6|01/12/10 08.34|      2.1|     13047|United Kingdom|\n",
      "|   536367|    22749|FELTCRAFT PRINCES...|       8|01/12/10 08.34|     3.75|     13047|United Kingdom|\n",
      "|   536367|    22310|IVORY KNITTED MUG...|       6|01/12/10 08.34|     1.65|     13047|United Kingdom|\n",
      "|   536367|    84969|BOX OF 6 ASSORTED...|       6|01/12/10 08.34|     4.25|     13047|United Kingdom|\n",
      "|   536367|    22623|BOX OF VINTAGE JI...|       3|01/12/10 08.34|     4.95|     13047|United Kingdom|\n",
      "|   536367|    22622|BOX OF VINTAGE AL...|       2|01/12/10 08.34|     9.95|     13047|United Kingdom|\n",
      "|   536367|    21754|HOME BUILDING BLO...|       3|01/12/10 08.34|     5.95|     13047|United Kingdom|\n",
      "|   536367|    21755|LOVE BUILDING BLO...|       3|01/12/10 08.34|     5.95|     13047|United Kingdom|\n",
      "|   536367|    21777|RECIPE BOX WITH M...|       4|01/12/10 08.34|     7.95|     13047|United Kingdom|\n",
      "+---------+---------+--------------------+--------+--------------+---------+----------+--------------+\n",
      "only showing top 20 rows\n",
      "\n"
     ]
    }
   ],
   "source": [
    "df.show()"
   ]
  },
  {
   "cell_type": "code",
   "execution_count": 36,
   "metadata": {
    "scrolled": true
   },
   "outputs": [
    {
     "name": "stdout",
     "output_type": "stream",
     "text": [
      "+---------+----------------------+\n",
      "|InvoiceNo|collect_set(StockCode)|\n",
      "+---------+----------------------+\n",
      "|   536596|  [22900, 22114, 84...|\n",
      "|   536938|  [22112, 21931, 84...|\n",
      "|   537252|               [22197]|\n",
      "|   537691|  [22505, 46000R, 2...|\n",
      "|   538041|               [22145]|\n",
      "|   538184|  [22561, 22147, 21...|\n",
      "|   538517|  [22749, 21212, 22...|\n",
      "|   538879|  [21212, 22759, 22...|\n",
      "|   539275|  [22083, 22150, 22...|\n",
      "|   539630|  [22111, 22971, 22...|\n",
      "|   540499|  [22697, 22796, 21...|\n",
      "|   540540|  [22111, 22834, 22...|\n",
      "|   540976|  [22413, 21212, 22...|\n",
      "|   541432|  [22113, 22457, 21...|\n",
      "|   541518|  [21212, 22432, 22...|\n",
      "|   541783|  [22561, 22697, 22...|\n",
      "|   542026|  [22398, 22194, 22...|\n",
      "|   542375|  [22629, 21731, 22...|\n",
      "|   543641|  [22645, 75131, 22...|\n",
      "|   544303|  [84596L, 22931, 8...|\n",
      "+---------+----------------------+\n",
      "only showing top 20 rows\n",
      "\n"
     ]
    }
   ],
   "source": [
    "from pyspark.sql.functions import collect_set\n",
    "df_preprocess = df.groupby(\"InvoiceNo\").agg(collect_set('StockCode'))\n",
    "df_preprocess.show()"
   ]
  },
  {
   "cell_type": "code",
   "execution_count": 39,
   "metadata": {},
   "outputs": [],
   "source": [
    "from pyspark.ml.fpm import FPGrowth\n",
    "fpGrowth = FPGrowth(itemsCol=\"collect_set(StockCode)\", minSupport=0.5, minConfidence=0.6)\n",
    "model = fpGrowth.fit(df_preprocess)"
   ]
  },
  {
   "cell_type": "code",
   "execution_count": 40,
   "metadata": {},
   "outputs": [
    {
     "name": "stdout",
     "output_type": "stream",
     "text": [
      "+-----+----+\n",
      "|items|freq|\n",
      "+-----+----+\n",
      "+-----+----+\n",
      "\n"
     ]
    }
   ],
   "source": [
    "model.freqItemsets.show()"
   ]
  },
  {
   "cell_type": "code",
   "execution_count": 41,
   "metadata": {},
   "outputs": [
    {
     "name": "stdout",
     "output_type": "stream",
     "text": [
      "+----------+----------+----------+----+\n",
      "|antecedent|consequent|confidence|lift|\n",
      "+----------+----------+----------+----+\n",
      "+----------+----------+----------+----+\n",
      "\n"
     ]
    }
   ],
   "source": [
    "model.associationRules.show()"
   ]
  },
  {
   "cell_type": "code",
   "execution_count": 42,
   "metadata": {},
   "outputs": [
    {
     "name": "stdout",
     "output_type": "stream",
     "text": [
      "+---------+----------------------+----------+\n",
      "|InvoiceNo|collect_set(StockCode)|prediction|\n",
      "+---------+----------------------+----------+\n",
      "|   536596|  [22900, 22114, 84...|        []|\n",
      "|   536938|  [22112, 21931, 84...|        []|\n",
      "|   537252|               [22197]|        []|\n",
      "|   537691|  [22505, 46000R, 2...|        []|\n",
      "|   538041|               [22145]|        []|\n",
      "|   538184|  [22561, 22147, 21...|        []|\n",
      "|   538517|  [22749, 21212, 22...|        []|\n",
      "|   538879|  [21212, 22759, 22...|        []|\n",
      "|   539275|  [22083, 22150, 22...|        []|\n",
      "|   539630|  [22111, 22971, 22...|        []|\n",
      "|   540499|  [22697, 22796, 21...|        []|\n",
      "|   540540|  [22111, 22834, 22...|        []|\n",
      "|   540976|  [22413, 21212, 22...|        []|\n",
      "|   541432|  [22113, 22457, 21...|        []|\n",
      "|   541518|  [21212, 22432, 22...|        []|\n",
      "|   541783|  [22561, 22697, 22...|        []|\n",
      "|   542026|  [22398, 22194, 22...|        []|\n",
      "|   542375|  [22629, 21731, 22...|        []|\n",
      "|   543641|  [22645, 75131, 22...|        []|\n",
      "|   544303|  [84596L, 22931, 8...|        []|\n",
      "+---------+----------------------+----------+\n",
      "only showing top 20 rows\n",
      "\n"
     ]
    }
   ],
   "source": [
    "model.transform(df_preprocess).show()"
   ]
  },
  {
   "cell_type": "code",
   "execution_count": 47,
   "metadata": {},
   "outputs": [],
   "source": [
    "from pyspark.ml.fpm import FPGrowth\n",
    "fpGrowth = FPGrowth(itemsCol=\"collect_set(StockCode)\", minSupport=0.01, minConfidence=0.6)\n",
    "model = fpGrowth.fit(df_preprocess)"
   ]
  },
  {
   "cell_type": "code",
   "execution_count": 48,
   "metadata": {},
   "outputs": [
    {
     "name": "stdout",
     "output_type": "stream",
     "text": [
      "+----------------+----+\n",
      "|           items|freq|\n",
      "+----------------+----+\n",
      "|         [22633]| 487|\n",
      "|         [23236]| 344|\n",
      "|        [85123A]|2246|\n",
      "|         [22423]|2172|\n",
      "| [22423, 85123A]| 355|\n",
      "|         [22667]| 486|\n",
      "|         [22579]| 343|\n",
      "|  [22579, 22578]| 282|\n",
      "|        [85099B]|2135|\n",
      "| [85099B, 22423]| 288|\n",
      "|[85099B, 85123A]| 404|\n",
      "|         [22620]| 486|\n",
      "|        [84536A]| 342|\n",
      "|         [71053]| 342|\n",
      "|         [47566]|1706|\n",
      "| [47566, 85099B]| 332|\n",
      "|  [47566, 22423]| 398|\n",
      "| [47566, 85123A]| 391|\n",
      "|         [85150]| 483|\n",
      "|         [20725]|1608|\n",
      "+----------------+----+\n",
      "only showing top 20 rows\n",
      "\n"
     ]
    }
   ],
   "source": [
    "model.freqItemsets.show()"
   ]
  },
  {
   "cell_type": "code",
   "execution_count": null,
   "metadata": {},
   "outputs": [],
   "source": [
    "model.transform(df_preprocess).show()"
   ]
  },
  {
   "cell_type": "code",
   "execution_count": null,
   "metadata": {},
   "outputs": [],
   "source": []
  }
 ],
 "metadata": {
  "kernelspec": {
   "display_name": "Python 3",
   "language": "python",
   "name": "python3"
  },
  "language_info": {
   "codemirror_mode": {
    "name": "ipython",
    "version": 3
   },
   "file_extension": ".py",
   "mimetype": "text/x-python",
   "name": "python",
   "nbconvert_exporter": "python",
   "pygments_lexer": "ipython3",
   "version": "3.7.1"
  }
 },
 "nbformat": 4,
 "nbformat_minor": 2
}
