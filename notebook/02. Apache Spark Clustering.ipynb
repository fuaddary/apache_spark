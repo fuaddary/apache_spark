{
 "cells": [
  {
   "cell_type": "markdown",
   "metadata": {},
   "source": [
    "# APACHE SPARK CLUSTERING\n"
   ]
  },
  {
   "cell_type": "markdown",
   "metadata": {},
   "source": [
    "## Spark Initialization"
   ]
  },
  {
   "cell_type": "code",
   "execution_count": 1,
   "metadata": {},
   "outputs": [],
   "source": [
    "# Import findspark to read SPARK_HOME and HADOOP_HOME\n",
    "import findspark\n",
    "findspark.init()"
   ]
  },
  {
   "cell_type": "code",
   "execution_count": 2,
   "metadata": {},
   "outputs": [],
   "source": [
    "# Import required library\n",
    "from pyspark.sql import SparkSession\n",
    "\n",
    "# Create Spark Session\n",
    "spark = SparkSession \\\n",
    "    .builder \\\n",
    "    .appName(\"Python Spark SQL basic example\") \\\n",
    "    .getOrCreate()"
   ]
  },
  {
   "cell_type": "code",
   "execution_count": 3,
   "metadata": {},
   "outputs": [
    {
     "name": "stdout",
     "output_type": "stream",
     "text": [
      "<pyspark.sql.session.SparkSession object at 0x112b4b8d0>\n"
     ]
    }
   ],
   "source": [
    "# Print Spark object ID\n",
    "print(spark)"
   ]
  },
  {
   "cell_type": "markdown",
   "metadata": {},
   "source": [
    "## Loading Data using Spark"
   ]
  },
  {
   "cell_type": "code",
   "execution_count": 4,
   "metadata": {},
   "outputs": [],
   "source": [
    "df = spark.read.csv(\"/Users/gunstringer/Downloads/epa_hap_daily_summary.csv\", header=True, inferSchema=True)"
   ]
  },
  {
   "cell_type": "code",
   "execution_count": 5,
   "metadata": {},
   "outputs": [
    {
     "name": "stdout",
     "output_type": "stream",
     "text": [
      "+----------+-----------+--------+--------------+---+---------+-----------+-------+--------------------+---------------+------------------+-------------------+--------------------+----------+-----------------+-------------------+---------------+---------------+--------------+----+-----------+--------------------+--------------------+--------------------+------------+----------------+-------------+--------------------+-------------------+\n",
      "|state_code|county_code|site_num|parameter_code|poc| latitude|  longitude|  datum|      parameter_name|sample_duration|pollutant_standard|         date_local|    units_of_measure|event_type|observation_count|observation_percent|arithmetic_mean|first_max_value|first_max_hour| aqi|method_code|         method_name|     local_site_name|             address|  state_name|     county_name|    city_name|           cbsa_name|date_of_last_change|\n",
      "+----------+-----------+--------+--------------+---+---------+-----------+-------+--------------------+---------------+------------------+-------------------+--------------------+----------+-----------------+-------------------+---------------+---------------+--------------+----+-----------+--------------------+--------------------+--------------------+------------+----------------+-------------+--------------------+-------------------+\n",
      "|        42|        125|    5001|         88103|  5|40.445278| -80.420833|  WGS84|    Arsenic PM2.5 LC|        24 HOUR|              null|2005-12-30 00:00:00|Micrograms/cubic ...|      None|                1|              100.0|          0.003|          0.003|             0|null|        811|Met OneSASS Teflo...|                null|HILLMAN STATE PAR...|Pennsylvania|      Washington|Not in a city|       Pittsburgh PA|2015-07-22 00:00:00|\n",
      "|        48|        439|    1002|         43843| 15|32.805818| -97.356568|  WGS84|  Ethylene dibromide|        24 HOUR|              null|2013-09-19 00:00:00|Parts per billion...|      None|                1|              100.0|            0.0|            0.0|             0|null|        175|Passivated Canist...|Fort Worth Northwest|       3317 Ross Ave|       Texas|         Tarrant|   Fort Worth|Dallas-Fort Worth...|2014-03-25 00:00:00|\n",
      "|        22|        127|    9000|         88128|  1|32.057581| -92.435157|  WGS84|       Lead PM2.5 LC|        24 HOUR|              null|2001-11-12 00:00:00|Micrograms/cubic ...|      None|                1|              100.0|        0.00228|        0.00228|             0|null|        802|IMPROVE Module A ...|                null|               Sikes|   Louisiana|            Winn|Not in a city|                null|2015-07-22 00:00:00|\n",
      "|        18|         89|      22|         45201|  1| 41.60668| -87.304729|  WGS84|             Benzene|         1 HOUR|              null|2016-05-23 00:00:00|Parts per billion...|      None|               23|               96.0|       0.413913|            1.4|             2|null|        128|PRECONCENTRATION ...|Gary-IITRI/ 1219....|201 MISSISSIPPI S...|     Indiana|            Lake|         Gary|Chicago-Napervill...|2017-02-20 00:00:00|\n",
      "|         6|         89|    3003|         88136|  1| 40.53999| -121.57646|  NAD83|     Nickel PM2.5 LC|        24 HOUR|              null|2001-08-02 00:00:00|Micrograms/cubic ...|      None|                1|              100.0|         1.3E-4|         1.3E-4|             0|null|        802|IMPROVE Module A ...|Lassen Volcanic N...|MANZANITA LAKE RS...|  California|          Shasta|Not in a city|          Redding CA|2015-07-22 00:00:00|\n",
      "|        26|        163|      33|         82128|  1|42.306674| -83.148754|  WGS84|       Lead PM10 STP|        24 HOUR|              null|2008-10-03 00:00:00|Micrograms/cubic ...|      None|                1|              100.0|         0.0163|         0.0163|             0|null|        109|Hi Vol SA/GMW 321...|PROPERTY OWNED BY...|        2842 WYOMING|    Michigan|           Wayne|     Dearborn|Detroit-Warren-De...|2015-07-22 00:00:00|\n",
      "|         6|         83|    9000|         88128|  1|34.733889|-120.008349|  WGS84|       Lead PM2.5 LC|        24 HOUR|              null|2015-08-04 00:00:00|Micrograms/cubic ...|      None|                1|              100.0|            0.0|            0.0|             0|null|        800|IMPROVE Module A ...|San Rafael Wilder...|          San Rafael|  California|   Santa Barbara|Not in a city|Santa Maria-Santa...|2016-08-30 00:00:00|\n",
      "|        72|         61|       1|         88136|  5|18.425652| -66.115846|  WGS84|     Nickel PM2.5 LC|        24 HOUR|              null|2002-10-29 00:00:00|Micrograms/cubic ...|      None|                1|              100.0|         0.0127|         0.0127|             0|null|        811|Met One SASS Tefl...|                null|USGS AND WATER RE...| Puerto Rico|        Guaynabo|     Guaynabo|San Juan-Carolina...|2015-07-22 00:00:00|\n",
      "|        29|        510|      85|         43505|  6|38.656498| -90.198646|  NAD83|Acrolein - Unveri...|        24 HOUR|              null|2006-02-10 00:00:00|Parts per billion...|      None|                1|              100.0|            0.0|            0.0|             0|null|        101|CANISTER SUBAMBIE...|        Blair Street|BLAIR STREET: 324...|    Missouri|  St. Louis City|    St. Louis|     St. Louis MO-IL|2015-07-22 00:00:00|\n",
      "|         6|         77|    1002|         12112|  8|37.950741|-121.268523|  NAD83|  Chromium (TSP) STP|        24 HOUR|              null|1992-10-03 00:00:00|Micrograms/cubic ...|      None|                1|              100.0|          0.003|          0.003|             0|null|        304|LO-VOL-XONTECH 92...|   Stockton-Hazelton|HAZELTON-HD STOCKTON|  California|     San Joaquin|     Stockton|    Stockton-Lodi CA|2013-06-11 00:00:00|\n",
      "|        24|        510|       6|         43831|  1|39.340556| -76.582222|  WGS84|cis-13-Dichloropr...|        24 HOUR|              null|2008-10-27 00:00:00|Parts per billion...|      None|                1|              100.0|            0.0|            0.0|             0|null|        150|SS 6L- PRESSURIZE...|    Northeast Police|Northeast  Police...|    Maryland|Baltimore (City)|    Baltimore|Baltimore-Columbi...|2013-06-11 00:00:00|\n",
      "|        49|         17|     101|         88132|  1|37.618383|-112.174368|  WGS84|  Manganese PM2.5 LC|        24 HOUR|              null|2010-05-11 00:00:00|Micrograms/cubic ...|      None|                1|              100.0|          0.001|          0.001|             0|null|        800|IMPROVE Module A ...|                null|     Bryce Canyon NP|        Utah|        Garfield|Not in a city|                null|2015-07-28 00:00:00|\n",
      "|        16|         23|     101|         88136|  1|43.460556|-113.562222|  WGS84|     Nickel PM2.5 LC|        24 HOUR|              null|2014-12-07 00:00:00|Micrograms/cubic ...|      None|                1|              100.0|            0.0|            0.0|             0|null|        800|IMPROVE Module A ...|Craters of the Mo...|CRATERS OF THE MO...|       Idaho|           Butte|Not in a city|      Idaho Falls ID|2015-07-31 00:00:00|\n",
      "|        26|         77|     905|         82128|  1|42.278056| -85.541944|UNKNOWN|       Lead PM10 STP|        24 HOUR|              null|1994-04-08 00:00:00|Micrograms/cubic ...|      None|                1|              100.0|           0.01|           0.01|             0|null|        103|HI-VOL-WEDDING-IN...|                null|FAIRGROUNDS 2500 ...|    Michigan|       Kalamazoo|    Kalamazoo|Kalamazoo-Portage MI|2013-06-11 00:00:00|\n",
      "|        48|        141|      44|         43824|  3|31.765685|-106.455227|  NAD83|   Trichloroethylene|        24 HOUR|              null|2006-05-05 00:00:00|Parts per billion...|      None|                1|              100.0|           0.01|           0.01|             0|null|        175|Passivated Canist...|    El Paso Chamizal|800 S San Marcial...|       Texas|         El Paso|      El Paso|          El Paso TX|2013-06-11 00:00:00|\n",
      "|        48|        183|       1|         43817|  1|32.378682| -94.711811|  NAD83| Tetrachloroethylene|        24 HOUR|              null|2000-04-12 00:00:00|Parts per billion...|      None|                1|              100.0|            0.0|            0.0|             0|null|        149|6L SUBATM CANISTE...|            Longview|Gregg Co Airport ...|       Texas|           Gregg|     Longview|         Longview TX|2013-06-11 00:00:00|\n",
      "|        48|        141|      44|         43218|  1|31.765685|-106.455227|  NAD83|        13-Butadiene|         1 HOUR|              null|2002-07-16 00:00:00|Parts per billion...|      None|               22|               92.0|       0.595455|            1.6|             5|null|        128|PRECONCENTRATION ...|    El Paso Chamizal|800 S San Marcial...|       Texas|         El Paso|      El Paso|          El Paso TX|2013-06-11 00:00:00|\n",
      "|        32|         33|     101|         88112|  1| 39.00512| -114.21593|  NAD83|   Chromium PM2.5 LC|        24 HOUR|              null|2001-11-09 00:00:00|Micrograms/cubic ...|      None|                1|              100.0|            0.0|            0.0|             0|null|        802|IMPROVE Module A ...|Great Basin Natio...|GREAT BASIN NATIO...|      Nevada|      White Pine|Not in a city|                null|2015-07-22 00:00:00|\n",
      "|        27|        163|     436|         43803|  2| 44.84737|   -92.9954|  WGS84|          Chloroform|        24 HOUR|              null|2011-03-28 00:00:00|Parts per billion...|      None|                1|              100.0|           0.01|           0.01|             0|null|        113|SS-CANISTER-PRESS...|             MPC 436|    649 FIFTH STREET|   Minnesota|      Washington|St. Paul Park|Minneapolis-St. P...|2013-06-10 00:00:00|\n",
      "|        34|         39|       4|         88132|  5| 40.64144| -74.208365|  WGS84|  Manganese PM2.5 LC|        24 HOUR|              null|2002-03-24 00:00:00|Micrograms/cubic ...|      None|                1|              100.0|         0.0043|         0.0043|             0|null|        811|Met One SASS Tefl...|       Elizabeth Lab|Interchange 13 Ne...|  New Jersey|           Union|    Elizabeth|New York-Newark-J...|2015-07-22 00:00:00|\n",
      "+----------+-----------+--------+--------------+---+---------+-----------+-------+--------------------+---------------+------------------+-------------------+--------------------+----------+-----------------+-------------------+---------------+---------------+--------------+----+-----------+--------------------+--------------------+--------------------+------------+----------------+-------------+--------------------+-------------------+\n",
      "only showing top 20 rows\n",
      "\n"
     ]
    }
   ],
   "source": [
    "df.show()"
   ]
  },
  {
   "cell_type": "code",
   "execution_count": 6,
   "metadata": {},
   "outputs": [
    {
     "name": "stdout",
     "output_type": "stream",
     "text": [
      "root\n",
      " |-- state_code: integer (nullable = true)\n",
      " |-- county_code: integer (nullable = true)\n",
      " |-- site_num: integer (nullable = true)\n",
      " |-- parameter_code: integer (nullable = true)\n",
      " |-- poc: integer (nullable = true)\n",
      " |-- latitude: double (nullable = true)\n",
      " |-- longitude: double (nullable = true)\n",
      " |-- datum: string (nullable = true)\n",
      " |-- parameter_name: string (nullable = true)\n",
      " |-- sample_duration: string (nullable = true)\n",
      " |-- pollutant_standard: string (nullable = true)\n",
      " |-- date_local: timestamp (nullable = true)\n",
      " |-- units_of_measure: string (nullable = true)\n",
      " |-- event_type: string (nullable = true)\n",
      " |-- observation_count: integer (nullable = true)\n",
      " |-- observation_percent: double (nullable = true)\n",
      " |-- arithmetic_mean: double (nullable = true)\n",
      " |-- first_max_value: double (nullable = true)\n",
      " |-- first_max_hour: integer (nullable = true)\n",
      " |-- aqi: string (nullable = true)\n",
      " |-- method_code: integer (nullable = true)\n",
      " |-- method_name: string (nullable = true)\n",
      " |-- local_site_name: string (nullable = true)\n",
      " |-- address: string (nullable = true)\n",
      " |-- state_name: string (nullable = true)\n",
      " |-- county_name: string (nullable = true)\n",
      " |-- city_name: string (nullable = true)\n",
      " |-- cbsa_name: string (nullable = true)\n",
      " |-- date_of_last_change: timestamp (nullable = true)\n",
      "\n"
     ]
    }
   ],
   "source": [
    "df.printSchema()"
   ]
  },
  {
   "cell_type": "code",
   "execution_count": 7,
   "metadata": {},
   "outputs": [],
   "source": [
    "# Register the DataFrame as a SQL temporary view\n",
    "df.createOrReplaceTempView(\"pollution\")"
   ]
  },
  {
   "cell_type": "code",
   "execution_count": 8,
   "metadata": {},
   "outputs": [],
   "source": [
    "row_count = spark.sql (\"SELECT COUNT(1)FROM pollution\")"
   ]
  },
  {
   "cell_type": "code",
   "execution_count": 9,
   "metadata": {},
   "outputs": [
    {
     "name": "stdout",
     "output_type": "stream",
     "text": [
      "+--------+\n",
      "|count(1)|\n",
      "+--------+\n",
      "| 8097069|\n",
      "+--------+\n",
      "\n"
     ]
    }
   ],
   "source": [
    "row_count.show()"
   ]
  },
  {
   "cell_type": "code",
   "execution_count": 10,
   "metadata": {},
   "outputs": [
    {
     "data": {
      "text/plain": [
       "8097069"
      ]
     },
     "execution_count": 10,
     "metadata": {},
     "output_type": "execute_result"
    }
   ],
   "source": [
    "df.count()"
   ]
  },
  {
   "cell_type": "code",
   "execution_count": 11,
   "metadata": {},
   "outputs": [],
   "source": [
    "data = spark.sql(\"SELECT latitude, longitude, parameter_name, arithmetic_mean, state_name FROM pollution\")"
   ]
  },
  {
   "cell_type": "code",
   "execution_count": 12,
   "metadata": {},
   "outputs": [
    {
     "name": "stdout",
     "output_type": "stream",
     "text": [
      "+---------+-----------+--------------------+---------------+------------+\n",
      "| latitude|  longitude|      parameter_name|arithmetic_mean|  state_name|\n",
      "+---------+-----------+--------------------+---------------+------------+\n",
      "|40.445278| -80.420833|    Arsenic PM2.5 LC|          0.003|Pennsylvania|\n",
      "|32.805818| -97.356568|  Ethylene dibromide|            0.0|       Texas|\n",
      "|32.057581| -92.435157|       Lead PM2.5 LC|        0.00228|   Louisiana|\n",
      "| 41.60668| -87.304729|             Benzene|       0.413913|     Indiana|\n",
      "| 40.53999| -121.57646|     Nickel PM2.5 LC|         1.3E-4|  California|\n",
      "|42.306674| -83.148754|       Lead PM10 STP|         0.0163|    Michigan|\n",
      "|34.733889|-120.008349|       Lead PM2.5 LC|            0.0|  California|\n",
      "|18.425652| -66.115846|     Nickel PM2.5 LC|         0.0127| Puerto Rico|\n",
      "|38.656498| -90.198646|Acrolein - Unveri...|            0.0|    Missouri|\n",
      "|37.950741|-121.268523|  Chromium (TSP) STP|          0.003|  California|\n",
      "|39.340556| -76.582222|cis-13-Dichloropr...|            0.0|    Maryland|\n",
      "|37.618383|-112.174368|  Manganese PM2.5 LC|          0.001|        Utah|\n",
      "|43.460556|-113.562222|     Nickel PM2.5 LC|            0.0|       Idaho|\n",
      "|42.278056| -85.541944|       Lead PM10 STP|           0.01|    Michigan|\n",
      "|31.765685|-106.455227|   Trichloroethylene|           0.01|       Texas|\n",
      "|32.378682| -94.711811| Tetrachloroethylene|            0.0|       Texas|\n",
      "|31.765685|-106.455227|        13-Butadiene|       0.595455|       Texas|\n",
      "| 39.00512| -114.21593|   Chromium PM2.5 LC|            0.0|      Nevada|\n",
      "| 44.84737|   -92.9954|          Chloroform|           0.01|   Minnesota|\n",
      "| 40.64144| -74.208365|  Manganese PM2.5 LC|         0.0043|  New Jersey|\n",
      "+---------+-----------+--------------------+---------------+------------+\n",
      "only showing top 20 rows\n",
      "\n"
     ]
    }
   ],
   "source": [
    "data.show()"
   ]
  },
  {
   "cell_type": "markdown",
   "metadata": {},
   "source": [
    "## Clustering Process\n",
    "Tahap-tahap yang perlu dilakukan adalah sebagai berikut\n",
    "### 1. Assembling Vector\n",
    "Library Spark ML hanya menerima data input dalam bentuk vektor. Oleh karena itu, kita perlu menggabungkan kolom-kolom ke dalam sebuah vektor.\n",
    "Misal apabila kita memiliki kolom latitude dan longitude yang ingin dijadikan sebagai sebuah input, maka kita harus menjadikannya menjadi [latitude, longitude].\n",
    "### 2. Train model\n",
    "Proses training dilakukan dengan memasukkan data latih ke dalam instance dengan mengeset beberapa parameter. Untuk K-Means hanya memerlukan parameter jumlah cluster (k) dan seed (randomness).\n",
    "### 3. Prediksi\n",
    "Proses prediksi dilakukan dengan memasukkan data uji ke dalam model yang telah dibuat.\n",
    "### 4. Evaluasi\n",
    "Proses evaluasi dilakukan sesuai dengan algoritma yang dipakai. Untuk K-Means evaluasi yang dapat digunakan adalah Silhouette Evaluation."
   ]
  },
  {
   "cell_type": "code",
   "execution_count": 13,
   "metadata": {},
   "outputs": [
    {
     "name": "stdout",
     "output_type": "stream",
     "text": [
      "+---------+-----------+--------------------+---------------+------------+--------------------+\n",
      "| latitude|  longitude|      parameter_name|arithmetic_mean|  state_name|            features|\n",
      "+---------+-----------+--------------------+---------------+------------+--------------------+\n",
      "|40.445278| -80.420833|    Arsenic PM2.5 LC|          0.003|Pennsylvania|[40.445278,-80.42...|\n",
      "|32.805818| -97.356568|  Ethylene dibromide|            0.0|       Texas|[32.805818,-97.35...|\n",
      "|32.057581| -92.435157|       Lead PM2.5 LC|        0.00228|   Louisiana|[32.057581,-92.43...|\n",
      "| 41.60668| -87.304729|             Benzene|       0.413913|     Indiana|[41.60668,-87.304...|\n",
      "| 40.53999| -121.57646|     Nickel PM2.5 LC|         1.3E-4|  California|[40.53999,-121.57...|\n",
      "|42.306674| -83.148754|       Lead PM10 STP|         0.0163|    Michigan|[42.306674,-83.14...|\n",
      "|34.733889|-120.008349|       Lead PM2.5 LC|            0.0|  California|[34.733889,-120.0...|\n",
      "|18.425652| -66.115846|     Nickel PM2.5 LC|         0.0127| Puerto Rico|[18.425652,-66.11...|\n",
      "|38.656498| -90.198646|Acrolein - Unveri...|            0.0|    Missouri|[38.656498,-90.19...|\n",
      "|37.950741|-121.268523|  Chromium (TSP) STP|          0.003|  California|[37.950741,-121.2...|\n",
      "|39.340556| -76.582222|cis-13-Dichloropr...|            0.0|    Maryland|[39.340556,-76.58...|\n",
      "|37.618383|-112.174368|  Manganese PM2.5 LC|          0.001|        Utah|[37.618383,-112.1...|\n",
      "|43.460556|-113.562222|     Nickel PM2.5 LC|            0.0|       Idaho|[43.460556,-113.5...|\n",
      "|42.278056| -85.541944|       Lead PM10 STP|           0.01|    Michigan|[42.278056,-85.54...|\n",
      "|31.765685|-106.455227|   Trichloroethylene|           0.01|       Texas|[31.765685,-106.4...|\n",
      "|32.378682| -94.711811| Tetrachloroethylene|            0.0|       Texas|[32.378682,-94.71...|\n",
      "|31.765685|-106.455227|        13-Butadiene|       0.595455|       Texas|[31.765685,-106.4...|\n",
      "| 39.00512| -114.21593|   Chromium PM2.5 LC|            0.0|      Nevada|[39.00512,-114.21...|\n",
      "| 44.84737|   -92.9954|          Chloroform|           0.01|   Minnesota| [44.84737,-92.9954]|\n",
      "| 40.64144| -74.208365|  Manganese PM2.5 LC|         0.0043|  New Jersey|[40.64144,-74.208...|\n",
      "+---------+-----------+--------------------+---------------+------------+--------------------+\n",
      "only showing top 20 rows\n",
      "\n"
     ]
    }
   ],
   "source": [
    "# assembling vector\n",
    "from pyspark.ml.feature import VectorAssembler\n",
    "\n",
    "assembler = VectorAssembler(\n",
    "    inputCols=[\"latitude\", \"longitude\"],\n",
    "    outputCol='features')\n",
    "\n",
    "data = assembler.transform(data)\n",
    "data.show()"
   ]
  },
  {
   "cell_type": "code",
   "execution_count": 14,
   "metadata": {},
   "outputs": [],
   "source": [
    "# train model\n",
    "\n",
    "# Train model\n",
    "from pyspark.ml.clustering import KMeans\n",
    "from pyspark.ml.evaluation import ClusteringEvaluator\n",
    "\n",
    "kmeans = KMeans().setK(10).setSeed(1)\n",
    "model = kmeans.fit(data)"
   ]
  },
  {
   "cell_type": "code",
   "execution_count": 23,
   "metadata": {},
   "outputs": [
    {
     "name": "stdout",
     "output_type": "stream",
     "text": [
      "+---------+----------+------------------+---------------+------------+--------------------+----------+\n",
      "| latitude| longitude|    parameter_name|arithmetic_mean|  state_name|            features|prediction|\n",
      "+---------+----------+------------------+---------------+------------+--------------------+----------+\n",
      "|40.445278|-80.420833|  Arsenic PM2.5 LC|          0.003|Pennsylvania|[40.445278,-80.42...|         6|\n",
      "|32.805818|-97.356568|Ethylene dibromide|            0.0|       Texas|[32.805818,-97.35...|         0|\n",
      "|32.057581|-92.435157|     Lead PM2.5 LC|        0.00228|   Louisiana|[32.057581,-92.43...|         0|\n",
      "| 41.60668|-87.304729|           Benzene|       0.413913|     Indiana|[41.60668,-87.304...|         6|\n",
      "| 40.53999|-121.57646|   Nickel PM2.5 LC|         1.3E-4|  California|[40.53999,-121.57...|         4|\n",
      "+---------+----------+------------------+---------------+------------+--------------------+----------+\n",
      "only showing top 5 rows\n",
      "\n"
     ]
    }
   ],
   "source": [
    "# Make a prediction\n",
    "predictions = model.transform(data)\n",
    "predictions.show(5)"
   ]
  },
  {
   "cell_type": "code",
   "execution_count": 16,
   "metadata": {},
   "outputs": [
    {
     "name": "stdout",
     "output_type": "stream",
     "text": [
      "Silhouette with squared euclidean distance = 0.625198998071943\n"
     ]
    }
   ],
   "source": [
    "# Evaluate clustering by computing Silhouette score\n",
    "evaluator = ClusteringEvaluator()\n",
    "\n",
    "silhouette = evaluator.evaluate(predictions)\n",
    "print(\"Silhouette with squared euclidean distance = \" + str(silhouette))"
   ]
  },
  {
   "cell_type": "code",
   "execution_count": 17,
   "metadata": {},
   "outputs": [
    {
     "name": "stdout",
     "output_type": "stream",
     "text": [
      "Cluster Centers: \n",
      "[ 31.04103121 -95.55614789]\n",
      "[  37.71943058 -109.05450872]\n",
      "[ 41.13987492 -74.40735047]\n",
      "[  26.62122815 -157.23530063]\n",
      "[  36.57061666 -119.6290823 ]\n",
      "[  48.16690446 -124.58056784]\n",
      "[ 40.84274433 -85.502848  ]\n",
      "[ 32.14282485 -81.88952483]\n",
      "[0. 0.]\n",
      "[ 43.71027892 -94.38379329]\n"
     ]
    }
   ],
   "source": [
    "# Shows the result\n",
    "centers = model.clusterCenters()\n",
    "print(\"Cluster Centers: \")\n",
    "for center in centers:\n",
    "    print(center)"
   ]
  },
  {
   "cell_type": "code",
   "execution_count": 20,
   "metadata": {},
   "outputs": [
    {
     "name": "stdout",
     "output_type": "stream",
     "text": [
      "Table service_connections created successfully\n"
     ]
    }
   ],
   "source": [
    "# Visualization using pixiedust\n",
    "import pixiedust"
   ]
  },
  {
   "cell_type": "code",
   "execution_count": 21,
   "metadata": {
    "pixiedust": {
     "displayParams": {
      "basemap": "satellite-v9",
      "coloropacity": "50",
      "colorrampname": "Yellow to Blue",
      "handlerId": "mapView",
      "keyFields": "latitude,longitude",
      "kind": "choropleth",
      "legend": "true",
      "mapboxtoken": "pk.eyJ1IjoibWFwYm94IiwiYSI6ImNpejY4M29iazA2Z2gycXA4N2pmbDZmangifQ.-g_vE53SD2WrJ6tFX7QHmA",
      "numbins": "10",
      "rowCount": "1800",
      "valueFields": "prediction"
     }
    },
    "scrolled": true
   },
   "outputs": [
    {
     "data": {
      "text/html": [
       "<style type=\"text/css\">.pd_warning{display:none;}</style><div class=\"pd_warning\"><em>Hey, there's something awesome here! To see it, open this notebook outside GitHub, in a viewer like Jupyter</em></div>"
      ],
      "text/plain": [
       "<IPython.core.display.HTML object>"
      ]
     },
     "metadata": {},
     "output_type": "display_data"
    }
   ],
   "source": [
    "display(predictions)\n"
   ]
  },
  {
   "cell_type": "code",
   "execution_count": 48,
   "metadata": {},
   "outputs": [
    {
     "name": "stdout",
     "output_type": "stream",
     "text": [
      "+---------+-----------+-------------+---------------+--------------------+\n",
      "| latitude|  longitude|   state_name|arithmetic_mean|    units_of_measure|\n",
      "+---------+-----------+-------------+---------------+--------------------+\n",
      "| 41.60668| -87.304729|      Indiana|       0.413913|Parts per billion...|\n",
      "|39.297733| -76.604603|     Maryland|            1.2|Parts per billion...|\n",
      "| 40.69454|  -73.92769|     New York|            2.5|Parts per billion...|\n",
      "|41.807776| -71.415105| Rhode Island|          1.962|Parts per billion...|\n",
      "|37.687526|-121.784217|   California|       1.799496|Parts per billion...|\n",
      "|29.897516| -93.991084|        Texas|            2.4|Parts per billion...|\n",
      "|39.758855| -86.115415|      Indiana|       0.143043|Parts per billion...|\n",
      "|29.716611| -95.222467|        Texas|           6.72|Parts per billion...|\n",
      "| 33.92086| -116.85841|   California|           1.18|Parts per billion...|\n",
      "|33.845741| -84.213398|      Georgia|            3.2|Parts per billion...|\n",
      "|29.706249|  -95.26113|        Texas|       0.488636|Parts per billion...|\n",
      "|27.517449| -99.515219|        Texas|            2.1|Parts per billion...|\n",
      "|26.309858| -98.183101|        Texas|            0.7|Parts per billion...|\n",
      "|25.892518|  -97.49383|        Texas|           10.6|Parts per billion...|\n",
      "|44.351697|  -68.22698|        Maine|       0.206667|Parts per billion...|\n",
      "|  33.9285|  -85.04534|      Georgia|            0.0|Parts per billion...|\n",
      "|36.204902| -95.976537|     Oklahoma|           2.34|Parts per billion...|\n",
      "|42.474642| -70.970816|Massachusetts|       1.956957|Parts per billion...|\n",
      "|40.853579| -73.966212|   New Jersey|       1.195455|Parts per billion...|\n",
      "|34.421389|-119.701111|   California|            6.0|Parts per billion...|\n",
      "+---------+-----------+-------------+---------------+--------------------+\n",
      "only showing top 20 rows\n",
      "\n"
     ]
    }
   ],
   "source": [
    "data2 = spark.sql (\"SELECT latitude, longitude, state_name, arithmetic_mean, units_of_measure FROM pollution\\\n",
    "                        WHERE parameter_name = 'Benzene'\")\n",
    "data2.show()"
   ]
  },
  {
   "cell_type": "code",
   "execution_count": 49,
   "metadata": {},
   "outputs": [
    {
     "data": {
      "text/plain": [
       "469375"
      ]
     },
     "execution_count": 49,
     "metadata": {},
     "output_type": "execute_result"
    }
   ],
   "source": [
    "data2.count()"
   ]
  },
  {
   "cell_type": "code",
   "execution_count": 50,
   "metadata": {},
   "outputs": [
    {
     "name": "stdout",
     "output_type": "stream",
     "text": [
      "+---------+-----------+-------------+---------------+--------------------+----------+\n",
      "| latitude|  longitude|   state_name|arithmetic_mean|    units_of_measure|  features|\n",
      "+---------+-----------+-------------+---------------+--------------------+----------+\n",
      "| 41.60668| -87.304729|      Indiana|       0.413913|Parts per billion...|[0.413913]|\n",
      "|39.297733| -76.604603|     Maryland|            1.2|Parts per billion...|     [1.2]|\n",
      "| 40.69454|  -73.92769|     New York|            2.5|Parts per billion...|     [2.5]|\n",
      "|41.807776| -71.415105| Rhode Island|          1.962|Parts per billion...|   [1.962]|\n",
      "|37.687526|-121.784217|   California|       1.799496|Parts per billion...|[1.799496]|\n",
      "|29.897516| -93.991084|        Texas|            2.4|Parts per billion...|     [2.4]|\n",
      "|39.758855| -86.115415|      Indiana|       0.143043|Parts per billion...|[0.143043]|\n",
      "|29.716611| -95.222467|        Texas|           6.72|Parts per billion...|    [6.72]|\n",
      "| 33.92086| -116.85841|   California|           1.18|Parts per billion...|    [1.18]|\n",
      "|33.845741| -84.213398|      Georgia|            3.2|Parts per billion...|     [3.2]|\n",
      "|29.706249|  -95.26113|        Texas|       0.488636|Parts per billion...|[0.488636]|\n",
      "|27.517449| -99.515219|        Texas|            2.1|Parts per billion...|     [2.1]|\n",
      "|26.309858| -98.183101|        Texas|            0.7|Parts per billion...|     [0.7]|\n",
      "|25.892518|  -97.49383|        Texas|           10.6|Parts per billion...|    [10.6]|\n",
      "|44.351697|  -68.22698|        Maine|       0.206667|Parts per billion...|[0.206667]|\n",
      "|  33.9285|  -85.04534|      Georgia|            0.0|Parts per billion...|     [0.0]|\n",
      "|36.204902| -95.976537|     Oklahoma|           2.34|Parts per billion...|    [2.34]|\n",
      "|42.474642| -70.970816|Massachusetts|       1.956957|Parts per billion...|[1.956957]|\n",
      "|40.853579| -73.966212|   New Jersey|       1.195455|Parts per billion...|[1.195455]|\n",
      "|34.421389|-119.701111|   California|            6.0|Parts per billion...|     [6.0]|\n",
      "+---------+-----------+-------------+---------------+--------------------+----------+\n",
      "only showing top 20 rows\n",
      "\n"
     ]
    }
   ],
   "source": [
    "assembler = VectorAssembler(\n",
    "    inputCols=[\"arithmetic_mean\"],\n",
    "    outputCol='features')\n",
    "\n",
    "data2 = assembler.transform(data2)\n",
    "data2.show()"
   ]
  },
  {
   "cell_type": "code",
   "execution_count": 51,
   "metadata": {},
   "outputs": [],
   "source": [
    "kmeans = KMeans().setK(10).setSeed(1)\n",
    "model = kmeans.fit(data2)"
   ]
  },
  {
   "cell_type": "code",
   "execution_count": 52,
   "metadata": {},
   "outputs": [
    {
     "name": "stdout",
     "output_type": "stream",
     "text": [
      "+---------+-----------+------------+---------------+--------------------+----------+----------+\n",
      "| latitude|  longitude|  state_name|arithmetic_mean|    units_of_measure|  features|prediction|\n",
      "+---------+-----------+------------+---------------+--------------------+----------+----------+\n",
      "| 41.60668| -87.304729|     Indiana|       0.413913|Parts per billion...|[0.413913]|         0|\n",
      "|39.297733| -76.604603|    Maryland|            1.2|Parts per billion...|     [1.2]|         0|\n",
      "| 40.69454|  -73.92769|    New York|            2.5|Parts per billion...|     [2.5]|         8|\n",
      "|41.807776| -71.415105|Rhode Island|          1.962|Parts per billion...|   [1.962]|         0|\n",
      "|37.687526|-121.784217|  California|       1.799496|Parts per billion...|[1.799496]|         0|\n",
      "+---------+-----------+------------+---------------+--------------------+----------+----------+\n",
      "only showing top 5 rows\n",
      "\n"
     ]
    }
   ],
   "source": [
    "# Make a prediction\n",
    "predictions2 = model.transform(data2)\n",
    "predictions2.show(5)"
   ]
  },
  {
   "cell_type": "code",
   "execution_count": 59,
   "metadata": {},
   "outputs": [
    {
     "name": "stdout",
     "output_type": "stream",
     "text": [
      "+------------------+-------------------+-----------------+--------------------+\n",
      "|     avg(latitude)|     avg(longitude)|       state_name|avg(arithmetic_mean)|\n",
      "+------------------+-------------------+-----------------+--------------------+\n",
      "| 32.21014712278483|-112.96015111772151|Country Of Mexico|   8.708797468354431|\n",
      "| 32.87814593933739| -87.06866805926266|          Alabama|   6.430967802146523|\n",
      "| 38.48754786792453| -95.83892935849056|           Kansas|   5.406358490566038|\n",
      "|61.205861000000006|        -149.824602|           Alaska|   4.649691056910569|\n",
      "|35.311346510971795|-106.84987212225704|       New Mexico|  4.2419974639498434|\n",
      "|38.628729420659546| -90.19782182825128|         Missouri|  4.0470664072806475|\n",
      "| 39.54561878118746|-106.96211211229695|         Colorado|   3.530716491661107|\n",
      "| 33.44295241512177|-111.95875111741199|          Arizona|  3.2813660599781884|\n",
      "|30.588670533176707| -97.46160633335236|            Texas|   3.165615802749503|\n",
      "| 34.26485022727273| -92.66971016666668|         Arkansas|  3.1010606060606065|\n",
      "|40.866859675182475|-111.89943271532842|             Utah|   3.088827945776851|\n",
      "|18.427557153992396| -66.37659410076049|      Puerto Rico|   3.016304182509505|\n",
      "|35.854942859389226|-119.77933423548171|       California|  2.9796335305933703|\n",
      "|39.812265977500815| -83.04639036468113|             Ohio|    2.78797701521528|\n",
      "|39.264823784073954| -76.57665613529157|         Maryland|  2.5123662364128325|\n",
      "| 41.70625522269081| -75.12510660881051|         New York|  2.5023879841191494|\n",
      "| 44.88767309317584|-116.69242518110241|            Idaho|  2.4039002624671917|\n",
      "| 27.73119258217335| -81.67510025930719|          Florida|  2.4032083447717723|\n",
      "|43.017066249026264| -84.04779371010727|         Michigan|   2.370403475363904|\n",
      "|  30.4673266516541| -91.20648056721609|        Louisiana|  2.3645278055383474|\n",
      "+------------------+-------------------+-----------------+--------------------+\n",
      "only showing top 20 rows\n",
      "\n"
     ]
    }
   ],
   "source": [
    "# Register the DataFrame as a SQL temporary view\n",
    "predictions2.createOrReplaceTempView(\"predictions2\")\n",
    "query2 = spark.sql(\"SELECT AVG(latitude), AVG(longitude),state_name, AVG(arithmetic_mean) from predictions2\\\n",
    "                   group by state_name\\\n",
    "                   order by avg(arithmetic_mean) DESC\");\n",
    "query2.show()"
   ]
  },
  {
   "cell_type": "code",
   "execution_count": 60,
   "metadata": {},
   "outputs": [
    {
     "data": {
      "text/plain": [
       "51"
      ]
     },
     "execution_count": 60,
     "metadata": {},
     "output_type": "execute_result"
    }
   ],
   "source": [
    "query2.count()"
   ]
  },
  {
   "cell_type": "code",
   "execution_count": 62,
   "metadata": {},
   "outputs": [
    {
     "name": "stdout",
     "output_type": "stream",
     "text": [
      "+------------------+-------------------+-----------------+--------------------+--------------------+\n",
      "|     avg(latitude)|     avg(longitude)|       state_name|avg(arithmetic_mean)|            features|\n",
      "+------------------+-------------------+-----------------+--------------------+--------------------+\n",
      "| 32.21014712278483|-112.96015111772151|Country Of Mexico|   8.708797468354431| [8.708797468354431]|\n",
      "| 32.87814593933739| -87.06866805926266|          Alabama|   6.430967802146523| [6.430967802146523]|\n",
      "| 38.48754786792453| -95.83892935849056|           Kansas|   5.406358490566038| [5.406358490566038]|\n",
      "|61.205861000000006|        -149.824602|           Alaska|   4.649691056910569| [4.649691056910569]|\n",
      "|35.311346510971795|-106.84987212225704|       New Mexico|  4.2419974639498434|[4.2419974639498434]|\n",
      "|38.628729420659546| -90.19782182825128|         Missouri|  4.0470664072806475|[4.0470664072806475]|\n",
      "| 39.54561878118746|-106.96211211229695|         Colorado|   3.530716491661107| [3.530716491661107]|\n",
      "| 33.44295241512177|-111.95875111741199|          Arizona|  3.2813660599781884|[3.2813660599781884]|\n",
      "|30.588670533176707| -97.46160633335236|            Texas|   3.165615802749503| [3.165615802749503]|\n",
      "| 34.26485022727273| -92.66971016666668|         Arkansas|  3.1010606060606065|[3.1010606060606065]|\n",
      "|40.866859675182475|-111.89943271532842|             Utah|   3.088827945776851| [3.088827945776851]|\n",
      "|18.427557153992396| -66.37659410076049|      Puerto Rico|   3.016304182509505| [3.016304182509505]|\n",
      "|35.854942859389226|-119.77933423548171|       California|  2.9796335305933703|[2.9796335305933703]|\n",
      "|39.812265977500815| -83.04639036468113|             Ohio|    2.78797701521528|  [2.78797701521528]|\n",
      "|39.264823784073954| -76.57665613529157|         Maryland|  2.5123662364128325|[2.5123662364128325]|\n",
      "| 41.70625522269081| -75.12510660881051|         New York|  2.5023879841191494|[2.5023879841191494]|\n",
      "| 44.88767309317584|-116.69242518110241|            Idaho|  2.4039002624671917|[2.4039002624671917]|\n",
      "| 27.73119258217335| -81.67510025930719|          Florida|  2.4032083447717723|[2.4032083447717723]|\n",
      "|43.017066249026264| -84.04779371010727|         Michigan|   2.370403475363904| [2.370403475363904]|\n",
      "|  30.4673266516541| -91.20648056721609|        Louisiana|  2.3645278055383474|[2.3645278055383474]|\n",
      "+------------------+-------------------+-----------------+--------------------+--------------------+\n",
      "only showing top 20 rows\n",
      "\n"
     ]
    }
   ],
   "source": [
    "assembler = VectorAssembler(\n",
    "    inputCols=[\"avg(arithmetic_mean)\"],\n",
    "    outputCol='features')\n",
    "\n",
    "data3 = assembler.transform(query2)\n",
    "data3.show()"
   ]
  },
  {
   "cell_type": "code",
   "execution_count": 63,
   "metadata": {},
   "outputs": [],
   "source": [
    "kmeans = KMeans().setK(3).setSeed(1)\n",
    "model = kmeans.fit(data3)"
   ]
  },
  {
   "cell_type": "code",
   "execution_count": 64,
   "metadata": {},
   "outputs": [
    {
     "name": "stdout",
     "output_type": "stream",
     "text": [
      "Cluster Centers: \n",
      "[1.94475887]\n",
      "[8.70879747]\n",
      "[4.71779962]\n"
     ]
    }
   ],
   "source": [
    "# Shows the result\n",
    "centers = model.clusterCenters()\n",
    "print(\"Cluster Centers: \")\n",
    "for center in centers:\n",
    "    print(center)"
   ]
  },
  {
   "cell_type": "code",
   "execution_count": 65,
   "metadata": {},
   "outputs": [
    {
     "name": "stdout",
     "output_type": "stream",
     "text": [
      "+------------------+-------------------+-----------------+--------------------+--------------------+----------+\n",
      "|     avg(latitude)|     avg(longitude)|       state_name|avg(arithmetic_mean)|            features|prediction|\n",
      "+------------------+-------------------+-----------------+--------------------+--------------------+----------+\n",
      "| 32.21014712278483|-112.96015111772151|Country Of Mexico|   8.708797468354431| [8.708797468354431]|         1|\n",
      "| 32.87814593933739| -87.06866805926266|          Alabama|   6.430967802146523| [6.430967802146523]|         2|\n",
      "| 38.48754786792453| -95.83892935849056|           Kansas|   5.406358490566038| [5.406358490566038]|         2|\n",
      "|61.205861000000006|        -149.824602|           Alaska|   4.649691056910569| [4.649691056910569]|         2|\n",
      "|35.311346510971795|-106.84987212225704|       New Mexico|  4.2419974639498434|[4.2419974639498434]|         2|\n",
      "+------------------+-------------------+-----------------+--------------------+--------------------+----------+\n",
      "only showing top 5 rows\n",
      "\n"
     ]
    }
   ],
   "source": [
    "predictions3 = model.transform(data3)\n",
    "predictions3.show(5)"
   ]
  },
  {
   "cell_type": "code",
   "execution_count": 66,
   "metadata": {
    "pixiedust": {
     "displayParams": {
      "basemap": "satellite-v9",
      "coloropacity": "90",
      "handlerId": "mapView",
      "keyFields": "avg(longitude),avg(latitude)",
      "kind": "choropleth",
      "legend": "true",
      "mapboxtoken": "pk.eyJ1IjoibWFwYm94IiwiYSI6ImNpejY4M29iazA2Z2gycXA4N2pmbDZmangifQ.-g_vE53SD2WrJ6tFX7QHmA",
      "rendererId": "google",
      "valueFields": "avg(arithmetic_mean),state_name"
     }
    }
   },
   "outputs": [
    {
     "data": {
      "text/html": [
       "<style type=\"text/css\">.pd_warning{display:none;}</style><div class=\"pd_warning\"><em>Hey, there's something awesome here! To see it, open this notebook outside GitHub, in a viewer like Jupyter</em></div>\n",
       "        <div class=\"pd_save is-viewer-good\" style=\"padding-right:10px;text-align: center;line-height:initial !important;font-size: xx-large;font-weight: 500;color: coral;\">\n",
       "            \n",
       "        </div>\n",
       "    \n",
       "        <div id=\"chartFigure0f9438a3\" class=\"pd_save\" style=\"overflow-x:auto\">\n",
       "            <div>\n",
       "    <h2>No Google Maps API Key</h2>\n",
       "    <p>\n",
       "        Some functionality of the Google Maps renderer requires an API key.\n",
       "    </p>\n",
       "    <p>\n",
       "        You can obtain an API key from the <a href=\"https://code.google.com/apis/console/\" target=\"_blank\">Google API Console</a>.\n",
       "        After <a href=\"https://support.google.com/googleapi/answer/6158862?hl=en&amp;ref_topic=7013279\" target=\"_blank\">getting the API key</a>,\n",
       "        it must be enabled for the <a href=\"https://console.developers.google.com/projectselector/apis/library\" target=\"_blank\">Google Maps JavaScript API and the Geocoding API</a>.\n",
       "        Once enabled, you may enter the API key in the Options dialog.\n",
       "    </p>\n",
       "</div>\n",
       "        </div>\n",
       "    "
      ],
      "text/plain": [
       "<IPython.core.display.HTML object>"
      ]
     },
     "metadata": {},
     "output_type": "display_data"
    }
   ],
   "source": [
    "display(predictions3)"
   ]
  },
  {
   "cell_type": "code",
   "execution_count": 53,
   "metadata": {
    "pixiedust": {
     "displayParams": {
      "basemap": "satellite-v9",
      "coloropacity": "78",
      "handlerId": "barChart",
      "keyFields": "prediction",
      "kind": "choropleth",
      "legend": "true",
      "mapboxtoken": "pk.eyJ1IjoibWFwYm94IiwiYSI6ImNpejY4M29iazA2Z2gycXA4N2pmbDZmangifQ.-g_vE53SD2WrJ6tFX7QHmA",
      "rowCount": "1000",
      "valueFields": "arithmetic_mean"
     }
    }
   },
   "outputs": [
    {
     "data": {
      "text/html": [
       "<style type=\"text/css\">.pd_warning{display:none;}</style><div class=\"pd_warning\"><em>Hey, there's something awesome here! To see it, open this notebook outside GitHub, in a viewer like Jupyter</em></div>\n",
       "        <div class=\"pd_save is-viewer-good\" style=\"padding-right:10px;text-align: center;line-height:initial !important;font-size: xx-large;font-weight: 500;color: coral;\">\n",
       "            \n",
       "        </div>\n",
       "    <div id=\"chartFigure25556512\" class=\"pd_save is-viewer-good\" style=\"overflow-x:auto\">\n",
       "            \n",
       "                    \n",
       "                            <center><img style=\"max-width:initial !important\" src=\"data:image/png;base64,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\" class=\"pd_save\"></center>\n",
       "                        \n",
       "                    \n",
       "                \n",
       "        </div>"
      ],
      "text/plain": [
       "<IPython.core.display.HTML object>"
      ]
     },
     "metadata": {},
     "output_type": "display_data"
    }
   ],
   "source": [
    "display(predictions2)"
   ]
  },
  {
   "cell_type": "code",
   "execution_count": null,
   "metadata": {},
   "outputs": [],
   "source": []
  }
 ],
 "metadata": {
  "kernelspec": {
   "display_name": "Python 3",
   "language": "python",
   "name": "python3"
  },
  "language_info": {
   "codemirror_mode": {
    "name": "ipython",
    "version": 3
   },
   "file_extension": ".py",
   "mimetype": "text/x-python",
   "name": "python",
   "nbconvert_exporter": "python",
   "pygments_lexer": "ipython3",
   "version": "3.7.1"
  }
 },
 "nbformat": 4,
 "nbformat_minor": 2
}
