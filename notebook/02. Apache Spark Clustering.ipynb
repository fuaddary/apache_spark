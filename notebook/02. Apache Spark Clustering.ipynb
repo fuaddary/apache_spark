{
 "cells": [
  {
   "cell_type": "markdown",
   "metadata": {},
   "source": [
    "# APACHE SPARK CLUSTERING\n",
    "\n",
    "## Tugas 2 Big Data\n",
    "\n",
    "### Requirements\n",
    "\n",
    "1. Apache Spark 2.40\n",
    "2. Python 3.7.1\n",
    "3. JDK 1.8.0\n",
    "4. Pixiedust 1.5.3"
   ]
  },
  {
   "cell_type": "markdown",
   "metadata": {},
   "source": [
    "# Preparation"
   ]
  },
  {
   "cell_type": "markdown",
   "metadata": {},
   "source": [
    "## 1. Spark Initialization"
   ]
  },
  {
   "cell_type": "code",
   "execution_count": 1,
   "metadata": {},
   "outputs": [],
   "source": [
    "# Import findspark to read SPARK_HOME and HADOOP_HOME\n",
    "import findspark\n",
    "findspark.init()"
   ]
  },
  {
   "cell_type": "code",
   "execution_count": 2,
   "metadata": {},
   "outputs": [],
   "source": [
    "# Import required library\n",
    "from pyspark.sql import SparkSession\n",
    "\n",
    "# Create Spark Session\n",
    "spark = SparkSession \\\n",
    "    .builder \\\n",
    "    .appName(\"Python Spark SQL basic example\") \\\n",
    "    .getOrCreate()"
   ]
  },
  {
   "cell_type": "code",
   "execution_count": 3,
   "metadata": {},
   "outputs": [
    {
     "name": "stdout",
     "output_type": "stream",
     "text": [
      "<pyspark.sql.session.SparkSession object at 0x112b4b8d0>\n"
     ]
    }
   ],
   "source": [
    "# Print Spark object ID\n",
    "print(spark)"
   ]
  },
  {
   "cell_type": "markdown",
   "metadata": {},
   "source": [
    "## 2. Loading Data using Spark"
   ]
  },
  {
   "cell_type": "code",
   "execution_count": 4,
   "metadata": {},
   "outputs": [],
   "source": [
    "df = spark.read.csv(\"/Users/gunstringer/Downloads/epa_hap_daily_summary.csv\", header=True, inferSchema=True)"
   ]
  },
  {
   "cell_type": "code",
   "execution_count": 6,
   "metadata": {},
   "outputs": [
    {
     "name": "stdout",
     "output_type": "stream",
     "text": [
      "root\n",
      " |-- state_code: integer (nullable = true)\n",
      " |-- county_code: integer (nullable = true)\n",
      " |-- site_num: integer (nullable = true)\n",
      " |-- parameter_code: integer (nullable = true)\n",
      " |-- poc: integer (nullable = true)\n",
      " |-- latitude: double (nullable = true)\n",
      " |-- longitude: double (nullable = true)\n",
      " |-- datum: string (nullable = true)\n",
      " |-- parameter_name: string (nullable = true)\n",
      " |-- sample_duration: string (nullable = true)\n",
      " |-- pollutant_standard: string (nullable = true)\n",
      " |-- date_local: timestamp (nullable = true)\n",
      " |-- units_of_measure: string (nullable = true)\n",
      " |-- event_type: string (nullable = true)\n",
      " |-- observation_count: integer (nullable = true)\n",
      " |-- observation_percent: double (nullable = true)\n",
      " |-- arithmetic_mean: double (nullable = true)\n",
      " |-- first_max_value: double (nullable = true)\n",
      " |-- first_max_hour: integer (nullable = true)\n",
      " |-- aqi: string (nullable = true)\n",
      " |-- method_code: integer (nullable = true)\n",
      " |-- method_name: string (nullable = true)\n",
      " |-- local_site_name: string (nullable = true)\n",
      " |-- address: string (nullable = true)\n",
      " |-- state_name: string (nullable = true)\n",
      " |-- county_name: string (nullable = true)\n",
      " |-- city_name: string (nullable = true)\n",
      " |-- cbsa_name: string (nullable = true)\n",
      " |-- date_of_last_change: timestamp (nullable = true)\n",
      "\n"
     ]
    }
   ],
   "source": [
    "df.printSchema()"
   ]
  },
  {
   "cell_type": "code",
   "execution_count": 7,
   "metadata": {},
   "outputs": [],
   "source": [
    "# Register the DataFrame as a SQL temporary view\n",
    "df.createOrReplaceTempView(\"pollution\")"
   ]
  },
  {
   "cell_type": "code",
   "execution_count": 8,
   "metadata": {},
   "outputs": [],
   "source": [
    "row_count = spark.sql (\"SELECT COUNT(1)FROM pollution\")"
   ]
  },
  {
   "cell_type": "code",
   "execution_count": 9,
   "metadata": {},
   "outputs": [
    {
     "name": "stdout",
     "output_type": "stream",
     "text": [
      "+--------+\n",
      "|count(1)|\n",
      "+--------+\n",
      "| 8097069|\n",
      "+--------+\n",
      "\n"
     ]
    }
   ],
   "source": [
    "row_count.show()"
   ]
  },
  {
   "cell_type": "code",
   "execution_count": 10,
   "metadata": {},
   "outputs": [
    {
     "data": {
      "text/plain": [
       "8097069"
      ]
     },
     "execution_count": 10,
     "metadata": {},
     "output_type": "execute_result"
    }
   ],
   "source": [
    "df.count()"
   ]
  },
  {
   "cell_type": "code",
   "execution_count": 11,
   "metadata": {},
   "outputs": [],
   "source": [
    "data = spark.sql(\"SELECT latitude, longitude, parameter_name, arithmetic_mean, state_name FROM pollution\")"
   ]
  },
  {
   "cell_type": "code",
   "execution_count": 12,
   "metadata": {},
   "outputs": [
    {
     "name": "stdout",
     "output_type": "stream",
     "text": [
      "+---------+-----------+--------------------+---------------+------------+\n",
      "| latitude|  longitude|      parameter_name|arithmetic_mean|  state_name|\n",
      "+---------+-----------+--------------------+---------------+------------+\n",
      "|40.445278| -80.420833|    Arsenic PM2.5 LC|          0.003|Pennsylvania|\n",
      "|32.805818| -97.356568|  Ethylene dibromide|            0.0|       Texas|\n",
      "|32.057581| -92.435157|       Lead PM2.5 LC|        0.00228|   Louisiana|\n",
      "| 41.60668| -87.304729|             Benzene|       0.413913|     Indiana|\n",
      "| 40.53999| -121.57646|     Nickel PM2.5 LC|         1.3E-4|  California|\n",
      "|42.306674| -83.148754|       Lead PM10 STP|         0.0163|    Michigan|\n",
      "|34.733889|-120.008349|       Lead PM2.5 LC|            0.0|  California|\n",
      "|18.425652| -66.115846|     Nickel PM2.5 LC|         0.0127| Puerto Rico|\n",
      "|38.656498| -90.198646|Acrolein - Unveri...|            0.0|    Missouri|\n",
      "|37.950741|-121.268523|  Chromium (TSP) STP|          0.003|  California|\n",
      "|39.340556| -76.582222|cis-13-Dichloropr...|            0.0|    Maryland|\n",
      "|37.618383|-112.174368|  Manganese PM2.5 LC|          0.001|        Utah|\n",
      "|43.460556|-113.562222|     Nickel PM2.5 LC|            0.0|       Idaho|\n",
      "|42.278056| -85.541944|       Lead PM10 STP|           0.01|    Michigan|\n",
      "|31.765685|-106.455227|   Trichloroethylene|           0.01|       Texas|\n",
      "|32.378682| -94.711811| Tetrachloroethylene|            0.0|       Texas|\n",
      "|31.765685|-106.455227|        13-Butadiene|       0.595455|       Texas|\n",
      "| 39.00512| -114.21593|   Chromium PM2.5 LC|            0.0|      Nevada|\n",
      "| 44.84737|   -92.9954|          Chloroform|           0.01|   Minnesota|\n",
      "| 40.64144| -74.208365|  Manganese PM2.5 LC|         0.0043|  New Jersey|\n",
      "+---------+-----------+--------------------+---------------+------------+\n",
      "only showing top 20 rows\n",
      "\n"
     ]
    }
   ],
   "source": [
    "data.show()"
   ]
  },
  {
   "cell_type": "markdown",
   "metadata": {},
   "source": [
    "# Clustering Process\n",
    "Tahap-tahap yang perlu dilakukan adalah sebagai berikut\n",
    "## 1. Assembling Vector\n",
    "\n",
    "Library Spark ML hanya menerima data input dalam bentuk vektor. Oleh karena itu, kita perlu menggabungkan kolom-kolom ke dalam sebuah vektor.\n",
    "Misal apabila kita memiliki kolom latitude dan longitude yang ingin dijadikan sebagai sebuah input, maka kita harus menjadikannya menjadi [latitude, longitude].\n"
   ]
  },
  {
   "cell_type": "code",
   "execution_count": 13,
   "metadata": {},
   "outputs": [
    {
     "name": "stdout",
     "output_type": "stream",
     "text": [
      "+---------+-----------+--------------------+---------------+------------+--------------------+\n",
      "| latitude|  longitude|      parameter_name|arithmetic_mean|  state_name|            features|\n",
      "+---------+-----------+--------------------+---------------+------------+--------------------+\n",
      "|40.445278| -80.420833|    Arsenic PM2.5 LC|          0.003|Pennsylvania|[40.445278,-80.42...|\n",
      "|32.805818| -97.356568|  Ethylene dibromide|            0.0|       Texas|[32.805818,-97.35...|\n",
      "|32.057581| -92.435157|       Lead PM2.5 LC|        0.00228|   Louisiana|[32.057581,-92.43...|\n",
      "| 41.60668| -87.304729|             Benzene|       0.413913|     Indiana|[41.60668,-87.304...|\n",
      "| 40.53999| -121.57646|     Nickel PM2.5 LC|         1.3E-4|  California|[40.53999,-121.57...|\n",
      "|42.306674| -83.148754|       Lead PM10 STP|         0.0163|    Michigan|[42.306674,-83.14...|\n",
      "|34.733889|-120.008349|       Lead PM2.5 LC|            0.0|  California|[34.733889,-120.0...|\n",
      "|18.425652| -66.115846|     Nickel PM2.5 LC|         0.0127| Puerto Rico|[18.425652,-66.11...|\n",
      "|38.656498| -90.198646|Acrolein - Unveri...|            0.0|    Missouri|[38.656498,-90.19...|\n",
      "|37.950741|-121.268523|  Chromium (TSP) STP|          0.003|  California|[37.950741,-121.2...|\n",
      "|39.340556| -76.582222|cis-13-Dichloropr...|            0.0|    Maryland|[39.340556,-76.58...|\n",
      "|37.618383|-112.174368|  Manganese PM2.5 LC|          0.001|        Utah|[37.618383,-112.1...|\n",
      "|43.460556|-113.562222|     Nickel PM2.5 LC|            0.0|       Idaho|[43.460556,-113.5...|\n",
      "|42.278056| -85.541944|       Lead PM10 STP|           0.01|    Michigan|[42.278056,-85.54...|\n",
      "|31.765685|-106.455227|   Trichloroethylene|           0.01|       Texas|[31.765685,-106.4...|\n",
      "|32.378682| -94.711811| Tetrachloroethylene|            0.0|       Texas|[32.378682,-94.71...|\n",
      "|31.765685|-106.455227|        13-Butadiene|       0.595455|       Texas|[31.765685,-106.4...|\n",
      "| 39.00512| -114.21593|   Chromium PM2.5 LC|            0.0|      Nevada|[39.00512,-114.21...|\n",
      "| 44.84737|   -92.9954|          Chloroform|           0.01|   Minnesota| [44.84737,-92.9954]|\n",
      "| 40.64144| -74.208365|  Manganese PM2.5 LC|         0.0043|  New Jersey|[40.64144,-74.208...|\n",
      "+---------+-----------+--------------------+---------------+------------+--------------------+\n",
      "only showing top 20 rows\n",
      "\n"
     ]
    }
   ],
   "source": [
    "# assembling vector\n",
    "from pyspark.ml.feature import VectorAssembler\n",
    "\n",
    "assembler = VectorAssembler(\n",
    "    inputCols=[\"latitude\", \"longitude\"],\n",
    "    outputCol='features')\n",
    "\n",
    "data = assembler.transform(data)\n",
    "data.show()"
   ]
  },
  {
   "cell_type": "markdown",
   "metadata": {},
   "source": [
    "## 2. Train model\n",
    "Proses training dilakukan dengan memasukkan data latih ke dalam instance dengan mengeset beberapa parameter. Untuk K-Means hanya memerlukan parameter jumlah cluster (k) dan seed (randomness).\n"
   ]
  },
  {
   "cell_type": "code",
   "execution_count": 14,
   "metadata": {},
   "outputs": [],
   "source": [
    "# Train model\n",
    "from pyspark.ml.clustering import KMeans\n",
    "from pyspark.ml.evaluation import ClusteringEvaluator\n",
    "\n",
    "kmeans = KMeans().setK(10).setSeed(1)\n",
    "model = kmeans.fit(data)"
   ]
  },
  {
   "cell_type": "markdown",
   "metadata": {},
   "source": [
    "## 3. Prediksi\n",
    "Proses prediksi dilakukan dengan memasukkan data uji ke dalam model yang telah dibuat."
   ]
  },
  {
   "cell_type": "code",
   "execution_count": 23,
   "metadata": {},
   "outputs": [
    {
     "name": "stdout",
     "output_type": "stream",
     "text": [
      "+---------+----------+------------------+---------------+------------+--------------------+----------+\n",
      "| latitude| longitude|    parameter_name|arithmetic_mean|  state_name|            features|prediction|\n",
      "+---------+----------+------------------+---------------+------------+--------------------+----------+\n",
      "|40.445278|-80.420833|  Arsenic PM2.5 LC|          0.003|Pennsylvania|[40.445278,-80.42...|         6|\n",
      "|32.805818|-97.356568|Ethylene dibromide|            0.0|       Texas|[32.805818,-97.35...|         0|\n",
      "|32.057581|-92.435157|     Lead PM2.5 LC|        0.00228|   Louisiana|[32.057581,-92.43...|         0|\n",
      "| 41.60668|-87.304729|           Benzene|       0.413913|     Indiana|[41.60668,-87.304...|         6|\n",
      "| 40.53999|-121.57646|   Nickel PM2.5 LC|         1.3E-4|  California|[40.53999,-121.57...|         4|\n",
      "+---------+----------+------------------+---------------+------------+--------------------+----------+\n",
      "only showing top 5 rows\n",
      "\n"
     ]
    }
   ],
   "source": [
    "# Make a prediction\n",
    "predictions = model.transform(data)\n",
    "predictions.show(5)"
   ]
  },
  {
   "cell_type": "markdown",
   "metadata": {},
   "source": [
    "\n",
    "## 4. Evaluasi\n",
    "Proses evaluasi dilakukan sesuai dengan algoritma yang dipakai. Untuk K-Means evaluasi yang dapat digunakan adalah Silhouette Evaluation."
   ]
  },
  {
   "cell_type": "code",
   "execution_count": 16,
   "metadata": {},
   "outputs": [
    {
     "name": "stdout",
     "output_type": "stream",
     "text": [
      "Silhouette with squared euclidean distance = 0.625198998071943\n"
     ]
    }
   ],
   "source": [
    "# Evaluate clustering by computing Silhouette score\n",
    "evaluator = ClusteringEvaluator()\n",
    "\n",
    "silhouette = evaluator.evaluate(predictions)\n",
    "print(\"Silhouette with squared euclidean distance = \" + str(silhouette))"
   ]
  },
  {
   "cell_type": "code",
   "execution_count": 17,
   "metadata": {},
   "outputs": [
    {
     "name": "stdout",
     "output_type": "stream",
     "text": [
      "Cluster Centers: \n",
      "[ 31.04103121 -95.55614789]\n",
      "[  37.71943058 -109.05450872]\n",
      "[ 41.13987492 -74.40735047]\n",
      "[  26.62122815 -157.23530063]\n",
      "[  36.57061666 -119.6290823 ]\n",
      "[  48.16690446 -124.58056784]\n",
      "[ 40.84274433 -85.502848  ]\n",
      "[ 32.14282485 -81.88952483]\n",
      "[0. 0.]\n",
      "[ 43.71027892 -94.38379329]\n"
     ]
    }
   ],
   "source": [
    "# Shows the result\n",
    "centers = model.clusterCenters()\n",
    "print(\"Cluster Centers: \")\n",
    "for center in centers:\n",
    "    print(center)"
   ]
  },
  {
   "cell_type": "markdown",
   "metadata": {},
   "source": [
    "# Visualization"
   ]
  },
  {
   "cell_type": "code",
   "execution_count": 20,
   "metadata": {},
   "outputs": [
    {
     "name": "stdout",
     "output_type": "stream",
     "text": [
      "Table service_connections created successfully\n"
     ]
    }
   ],
   "source": [
    "# Visualization using pixiedust\n",
    "import pixiedust"
   ]
  },
  {
   "cell_type": "code",
   "execution_count": 21,
   "metadata": {
    "pixiedust": {
     "displayParams": {
      "basemap": "satellite-v9",
      "coloropacity": "50",
      "colorrampname": "Yellow to Blue",
      "handlerId": "mapView",
      "keyFields": "latitude,longitude",
      "kind": "choropleth",
      "legend": "true",
      "mapboxtoken": "pk.eyJ1IjoibWFwYm94IiwiYSI6ImNpejY4M29iazA2Z2gycXA4N2pmbDZmangifQ.-g_vE53SD2WrJ6tFX7QHmA",
      "numbins": "10",
      "rowCount": "1800",
      "valueFields": "prediction"
     }
    },
    "scrolled": true
   },
   "outputs": [
    {
     "data": {
      "text/html": [
       "<style type=\"text/css\">.pd_warning{display:none;}</style><div class=\"pd_warning\"><em>Hey, there's something awesome here! To see it, open this notebook outside GitHub, in a viewer like Jupyter</em></div>"
      ],
      "text/plain": [
       "<IPython.core.display.HTML object>"
      ]
     },
     "metadata": {},
     "output_type": "display_data"
    }
   ],
   "source": [
    "# Clustering berdasarkan longitude dan latitude\n",
    "display(predictions)\n"
   ]
  },
  {
   "cell_type": "markdown",
   "metadata": {},
   "source": [
    "# Clustering 2"
   ]
  },
  {
   "cell_type": "code",
   "execution_count": 77,
   "metadata": {},
   "outputs": [
    {
     "name": "stdout",
     "output_type": "stream",
     "text": [
      "+------------------+-------------------+--------------+------------------+--------------------+\n",
      "|          latitude|          longitude|    state_name|      Benzene_Mean|    units_of_measure|\n",
      "+------------------+-------------------+--------------+------------------+--------------------+\n",
      "| 42.87756491621485|  -71.5982736232133| New Hampshire|0.5744571232134056|Parts per billion...|\n",
      "|  34.5634407392697| -80.34969959833447|South Carolina|0.7905663036515054|Parts per billion...|\n",
      "| 44.06909576796797| -69.63548142047676|         Maine|0.8169676743021421|Parts per billion...|\n",
      "|41.514525878709804| -72.86496482602134|   Connecticut| 1.056075295483871|Parts per billion...|\n",
      "| 42.36715412810498| -71.46443382947844| Massachusetts|1.1528775946907694|Parts per billion...|\n",
      "| 33.50253836347307| -84.10858242591438|       Georgia| 1.205448875507971|Parts per billion...|\n",
      "|17.715706875000006| -64.78593331249999|Virgin Islands|            1.2225|Parts per billion...|\n",
      "|  37.5810302308474| -76.56139827457604|      Virginia| 1.293924932655367|Parts per billion...|\n",
      "|41.788062724498324| -71.44680782802682|  Rhode Island|1.3024547730683433|Parts per billion...|\n",
      "| 39.53667155748664| -75.63291304545454|      Delaware|1.3846633084893047|Parts per billion...|\n",
      "| 37.54982160248932| -86.25205575651492|      Kentucky|1.4126697782963828|Parts per billion...|\n",
      "| 43.51434667781157| -98.84498221694501|  South Dakota|1.4309536474164133|Parts per billion...|\n",
      "|   47.235115756654|-100.32324103041822|  North Dakota|1.4808745247148287|Parts per billion...|\n",
      "|31.332139868969023| -89.09077259421025|   Mississippi| 1.601526663280853|Parts per billion...|\n",
      "|21.392832999999996|-157.96912600000005|        Hawaii|1.6281249999999998|Parts per billion...|\n",
      "| 40.39433474091478| -74.60130639055127|    New Jersey|  1.62924598407439|Parts per billion...|\n",
      "| 43.28426926270655| -71.52794665237793|       Vermont|1.6881124453970202|Parts per billion...|\n",
      "| 45.12755006744054| -93.15016245629485|     Minnesota|1.6887465495608533|Parts per billion...|\n",
      "| 41.73063026282437|  -91.9037255540133|          Iowa|1.7292094146047068|Parts per billion...|\n",
      "| 41.81061349091394| -87.59712322934057|      Illinois|1.7522252870407216|Parts per billion...|\n",
      "+------------------+-------------------+--------------+------------------+--------------------+\n",
      "only showing top 20 rows\n",
      "\n"
     ]
    }
   ],
   "source": [
    "# data rata rata polusi benzene pada US disetiap state \n",
    "data2 = spark.sql (\"SELECT avg(latitude) as latitude, avg(longitude) as longitude, state_name, avg(arithmetic_mean) as Benzene_Mean, units_of_measure FROM pollution\\\n",
    "                        WHERE parameter_name = 'Benzene'\\\n",
    "                        Group by state_name, units_of_measure\\\n",
    "                        Order by Benzene_Mean\")\n",
    "data2.show()"
   ]
  },
  {
   "cell_type": "code",
   "execution_count": 78,
   "metadata": {},
   "outputs": [
    {
     "data": {
      "text/plain": [
       "51"
      ]
     },
     "execution_count": 78,
     "metadata": {},
     "output_type": "execute_result"
    }
   ],
   "source": [
    "data2.count()"
   ]
  },
  {
   "cell_type": "code",
   "execution_count": 79,
   "metadata": {},
   "outputs": [],
   "source": [
    "#Assembling data set Benzene_Mean as features\n",
    "assembler = VectorAssembler(\n",
    "    inputCols=[\"Benzene_Mean\"],\n",
    "    outputCol='features')\n",
    "\n",
    "data2 = assembler.transform(data2)"
   ]
  },
  {
   "cell_type": "code",
   "execution_count": 80,
   "metadata": {},
   "outputs": [],
   "source": [
    "# Train Model\n",
    "kmeans = KMeans().setK(5).setSeed(1)\n",
    "model = kmeans.fit(data2)"
   ]
  },
  {
   "cell_type": "code",
   "execution_count": 81,
   "metadata": {},
   "outputs": [
    {
     "name": "stdout",
     "output_type": "stream",
     "text": [
      "+------------------+------------------+--------------+------------------+--------------------+--------------------+----------+\n",
      "|          latitude|         longitude|    state_name|      Benzene_Mean|    units_of_measure|            features|prediction|\n",
      "+------------------+------------------+--------------+------------------+--------------------+--------------------+----------+\n",
      "| 42.87756491621485| -71.5982736232133| New Hampshire|0.5744571232134056|Parts per billion...|[0.5744571232134056]|         0|\n",
      "|  34.5634407392697|-80.34969959833447|South Carolina|0.7905663036515054|Parts per billion...|[0.7905663036515054]|         0|\n",
      "| 44.06909576796797|-69.63548142047676|         Maine|0.8169676743021421|Parts per billion...|[0.8169676743021421]|         0|\n",
      "|41.514525878709804|-72.86496482602134|   Connecticut| 1.056075295483871|Parts per billion...| [1.056075295483871]|         0|\n",
      "| 42.36715412810498|-71.46443382947844| Massachusetts|1.1528775946907694|Parts per billion...|[1.1528775946907694]|         0|\n",
      "+------------------+------------------+--------------+------------------+--------------------+--------------------+----------+\n",
      "only showing top 5 rows\n",
      "\n"
     ]
    }
   ],
   "source": [
    "# Make a prediction\n",
    "predictions2 = model.transform(data2)\n",
    "predictions2.show(5)"
   ]
  },
  {
   "cell_type": "code",
   "execution_count": 82,
   "metadata": {},
   "outputs": [
    {
     "name": "stdout",
     "output_type": "stream",
     "text": [
      "Silhouette with squared euclidean distance = 0.6831184784426577\n"
     ]
    }
   ],
   "source": [
    "# Evaluate clustering by computing Silhouette score\n",
    "evaluator = ClusteringEvaluator()\n",
    "\n",
    "silhouette = evaluator.evaluate(predictions2)\n",
    "print(\"Silhouette with squared euclidean distance = \" + str(silhouette))"
   ]
  },
  {
   "cell_type": "code",
   "execution_count": 84,
   "metadata": {},
   "outputs": [
    {
     "name": "stdout",
     "output_type": "stream",
     "text": [
      "Cluster Centers: \n",
      "[1.38192306]\n",
      "[4.95521624]\n",
      "[8.70879747]\n",
      "[3.1189377]\n",
      "[2.2497532]\n"
     ]
    }
   ],
   "source": [
    "# Shows the result\n",
    "centers = model.clusterCenters()\n",
    "print(\"Cluster Centers: \")\n",
    "for center in centers:\n",
    "    print(center)"
   ]
  },
  {
   "cell_type": "code",
   "execution_count": 85,
   "metadata": {
    "pixiedust": {
     "displayParams": {
      "basemap": "satellite-v9",
      "chartsize": "100",
      "coloropacity": "90",
      "handlerId": "mapView",
      "keyFields": "latitude,longitude",
      "kind": "choropleth",
      "legend": "true",
      "mapboxtoken": "pk.eyJ1IjoibWFwYm94IiwiYSI6ImNpejY4M29iazA2Z2gycXA4N2pmbDZmangifQ.-g_vE53SD2WrJ6tFX7QHmA",
      "valueFields": "state_name,Benzene_Mean,units_of_measure"
     }
    }
   },
   "outputs": [
    {
     "data": {
      "text/html": [
       "<style type=\"text/css\">.pd_warning{display:none;}</style><div class=\"pd_warning\"><em>Hey, there's something awesome here! To see it, open this notebook outside GitHub, in a viewer like Jupyter</em></div>\n",
       "        <div class=\"pd_save is-viewer-good\" style=\"padding-right:10px;text-align: center;line-height:initial !important;font-size: xx-large;font-weight: 500;color: coral;\">\n",
       "            \n",
       "        </div>\n",
       "    <div id=\"chartFigure9f77c16a\" class=\"pd_save is-viewer-good\" style=\"overflow-x:auto\">\n",
       "            <script>\n",
       "  window.iframeLoaded = window.iframeLoaded || function(iframe) {\n",
       "    try {\n",
       "      iframe.contentWindow.pdMessageListeners = [];\n",
       "      iframe.contentWindow[\"addPDMessageListener\"] = function(listener){\n",
       "        iframe.contentWindow.pdMessageListeners.push(listener);\n",
       "      }\n",
       "      iframe.contentWindow.addEventListener(\"message\", function(event){\n",
       "        iframe.contentWindow.pdMessageListeners.forEach(function(listener){\n",
       "          listener(event);\n",
       "        });\n",
       "      }, false);\n",
       "      iframe.contentWindow.ready = true;\n",
       "      iframe.contentWindow[\"triggerPDEvent\"] = function(eventInfo) {\n",
       "        $(document).trigger('pd_event', eventInfo);\n",
       "      }\n",
       "    } catch (e) {\n",
       "      console.log(e)\n",
       "    }\n",
       "  }\n",
       "\n",
       "  \n",
       "</script>\n",
       "<iframe id=\"mapframe9f77c16a\" style=\"width:878.4000000000001px;height:500px\" srcdoc=\"<!DOCTYPE html>\n",
       "<html lang=&quot;en&quot;>\n",
       "<head>\n",
       "    <meta charset=&quot;UTF-8&quot;>\n",
       "    <meta name=&quot;viewport&quot; content=&quot;width=device-width, initial-scale=1&quot;>\n",
       "    <title>Pixiedust Mapbox map</title>\n",
       "    <script src=&quot;https://api.tiles.mapbox.com/mapbox-gl-js/v0.32.1/mapbox-gl.js&quot;></script>\n",
       "    <link href=&quot;https://api.tiles.mapbox.com/mapbox-gl-js/v0.32.1/mapbox-gl.css&quot; rel=&quot;stylesheet&quot; />\n",
       "    <style>\n",
       "    .mapboxgl-popup-content h3 { \n",
       "        margin: 2px 0 2px 0;\n",
       "        font-style: italic;\n",
       "    }\n",
       "    .mapboxgl-popup {\n",
       "        max-width: 200px;\n",
       "    }\n",
       "    #map canvas {\n",
       "        cursor: crosshair;\n",
       "    }\n",
       "    .legend {\n",
       "        background-color: rgba(255,255,255, 0.75);\n",
       "        border-radius: 3px;\n",
       "        position: absolute;\n",
       "        left: 14px;\n",
       "        top: 14px;\n",
       "        box-shadow: 0 1px 2px rgba(0,0,0,0.10);\n",
       "        font-size: 12px;\n",
       "        line-height: 18px;\n",
       "        padding: 10px;\n",
       "        z-index: 1;\n",
       "    }\n",
       "    .legend h4 {\n",
       "        margin: 0 0 10px;\n",
       "    }\n",
       "    .legend div span {\n",
       "        border-radius: 50%;\n",
       "        display: inline-block;\n",
       "        height: 10px;\n",
       "        margin-right: 5px;\n",
       "        width: 10px;\n",
       "    }\n",
       "    body { \n",
       "        background-color:#333; \n",
       "        margin:0px !important; \n",
       "        overflow: hidden;\n",
       "        font-family: &quot;Helvetica Neue&quot;, Arial, Helvetica, sans-serif;\n",
       "    }\n",
       "    </style>\n",
       "</head>\n",
       "<body>\n",
       "<div id=&quot;map-9f77c16a-28343c0a&quot; style=&quot;width:calc(878.4000000000001px - 4px);height:calc(500px - 4px)&quot; />\n",
       "\n",
       "\n",
       "<div id=&quot;maplegend&quot; class=&quot;legend&quot;>\n",
       "    <h4>Benzene_Mean</h4>\n",
       "    \n",
       "    <div><span style=&quot;background-color: #ffffcc&quot;></span>0.5744571232134056</div>\n",
       "    \n",
       "    <div><span style=&quot;background-color: #acf98d&quot;></span>1.5412005939978408</div>\n",
       "    \n",
       "    <div><span style=&quot;background-color: #56ec97&quot;></span>2.173713368983957</div>\n",
       "    \n",
       "    <div><span style=&quot;background-color: #26bdd7&quot;></span>2.883805272904325</div>\n",
       "    \n",
       "    <div><span style=&quot;background-color: #253494&quot;></span>8.708797468354431</div>\n",
       "    \n",
       "</div>\n",
       "\n",
       "<script>\n",
       "    !function(e){if(&quot;object&quot;==typeof exports&amp;&amp;&quot;undefined&quot;!=typeof module)module.exports=e();else if(&quot;function&quot;==typeof define&amp;&amp;define.amd)define([],e);else{var n;&quot;undefined&quot;!=typeof window?n=window:&quot;undefined&quot;!=typeof global?n=global:&quot;undefined&quot;!=typeof self&amp;&amp;(n=self),n.geojsonExtent=e()}}(function(){return function e(t,n,r){function s(o,u){if(!n[o]){if(!t[o]){var a=&quot;function&quot;==typeof require&amp;&amp;require;if(!u&amp;&amp;a)return a(o,!0);if(i)return i(o,!0);var f=new Error(&quot;Cannot find module &quot;+o+&quot;&quot;);throw f.code=&quot;MODULE_NOT_FOUND&quot;,f}var l=n[o]={exports:{}};t[o][0].call(l.exports,function(e){var n=t[o][1][e];return s(n?n:e)},l,l.exports,e,t,n,r)}return n[o].exports}for(var i=&quot;function&quot;==typeof require&amp;&amp;require,o=0;o<r.length;o++)s(r[o]);return s}({1:[function(require,module){function getExtent(_){for(var ext=extent(),coords=geojsonCoords(_),i=0;i<coords.length;i++)ext.include(coords[i]);return ext}var geojsonCoords=require(&quot;geojson-coords&quot;),traverse=require(&quot;traverse&quot;),extent=require(&quot;extent&quot;),geojsonTypes=[&quot;Point&quot;,&quot;MultiPoint&quot;,&quot;LineString&quot;,&quot;MultiLineString&quot;,&quot;Polygon&quot;,&quot;MultiPolygon&quot;,&quot;Feature&quot;,&quot;FeatureCollection&quot;,&quot;GeometryCollection&quot;];module.exports=function(_){return getExtent(_).bbox()},module.exports.polygon=function(_){return getExtent(_).polygon()},module.exports.bboxify=function(_){return traverse(_).map(function(value){value&amp;&amp;-1!==typeof geojsonTypes.indexOf(value.type)&amp;&amp;(console.log(value.type,value),value.bbox=getExtent(value).bbox(),this.update(value))})}},{extent:2,&quot;geojson-coords&quot;:4,traverse:7}],2:[function(require,module){function Extent(){return this instanceof Extent?(this._bbox=[1/0,1/0,-(1/0),-(1/0)],void(this._valid=!1)):new Extent}module.exports=Extent,Extent.prototype.include=function(ll){return this._valid=!0,this._bbox[0]=Math.min(this._bbox[0],ll[0]),this._bbox[1]=Math.min(this._bbox[1],ll[1]),this._bbox[2]=Math.max(this._bbox[2],ll[0]),this._bbox[3]=Math.max(this._bbox[3],ll[1]),this},Extent.prototype.union=function(other){return this._valid=!0,this._bbox[0]=Math.min(this._bbox[0],other[0]),this._bbox[1]=Math.min(this._bbox[1],other[1]),this._bbox[2]=Math.max(this._bbox[2],other[2]),this._bbox[3]=Math.max(this._bbox[3],other[3]),this},Extent.prototype.bbox=function(){return this._valid?this._bbox:null},Extent.prototype.contains=function(ll){return this._valid?this._bbox[0]<=ll[0]&amp;&amp;this._bbox[1]<=ll[1]&amp;&amp;this._bbox[2]>=ll[0]&amp;&amp;this._bbox[3]>=ll[1]:null},Extent.prototype.polygon=function(){return this._valid?{type:&quot;Polygon&quot;,coordinates:[[[this._bbox[0],this._bbox[1]],[this._bbox[2],this._bbox[1]],[this._bbox[2],this._bbox[3]],[this._bbox[0],this._bbox[3]],[this._bbox[0],this._bbox[1]]]]}:null}},{}],3:[function(require,module){module.exports=function(list){function _flatten(list){return Array.isArray(list)&amp;&amp;list.length&amp;&amp;&quot;number&quot;==typeof list[0]?[list]:list.reduce(function(acc,item){return Array.isArray(item)&amp;&amp;Array.isArray(item[0])?acc.concat(_flatten(item)):(acc.push(item),acc)},[])}return _flatten(list)}},{}],4:[function(require,module){var geojsonNormalize=require(&quot;geojson-normalize&quot;),geojsonFlatten=require(&quot;geojson-flatten&quot;),flatten=require(&quot;./flatten&quot;);module.exports=function(_){if(!_)return[];var normalized=geojsonFlatten(geojsonNormalize(_)),coordinates=[];return normalized.features.forEach(function(feature){feature.geometry&amp;&amp;(coordinates=coordinates.concat(flatten(feature.geometry.coordinates)))}),coordinates}},{&quot;./flatten&quot;:3,&quot;geojson-flatten&quot;:5,&quot;geojson-normalize&quot;:6}],5:[function(require,module){function flatten(gj){switch(gj&amp;&amp;gj.type||null){case&quot;FeatureCollection&quot;:return gj.features=gj.features.reduce(function(mem,feature){return mem.concat(flatten(feature))},[]),gj;case&quot;Feature&quot;:return flatten(gj.geometry).map(function(geom){return{type:&quot;Feature&quot;,properties:JSON.parse(JSON.stringify(gj.properties)),geometry:geom}});case&quot;MultiPoint&quot;:return gj.coordinates.map(function(_){return{type:&quot;Point&quot;,coordinates:_}});case&quot;MultiPolygon&quot;:return gj.coordinates.map(function(_){return{type:&quot;Polygon&quot;,coordinates:_}});case&quot;MultiLineString&quot;:return gj.coordinates.map(function(_){return{type:&quot;LineString&quot;,coordinates:_}});case&quot;GeometryCollection&quot;:return gj.geometries;case&quot;Point&quot;:case&quot;Polygon&quot;:case&quot;LineString&quot;:return[gj];default:return gj}}module.exports=flatten},{}],6:[function(require,module){function normalize(gj){if(!gj||!gj.type)return null;var type=types[gj.type];return type?&quot;geometry&quot;===type?{type:&quot;FeatureCollection&quot;,features:[{type:&quot;Feature&quot;,properties:{},geometry:gj}]}:&quot;feature&quot;===type?{type:&quot;FeatureCollection&quot;,features:[gj]}:&quot;featurecollection&quot;===type?gj:void 0:null}module.exports=normalize;var types={Point:&quot;geometry&quot;,MultiPoint:&quot;geometry&quot;,LineString:&quot;geometry&quot;,MultiLineString:&quot;geometry&quot;,Polygon:&quot;geometry&quot;,MultiPolygon:&quot;geometry&quot;,GeometryCollection:&quot;geometry&quot;,Feature:&quot;feature&quot;,FeatureCollection:&quot;featurecollection&quot;}},{}],7:[function(require,module){function Traverse(obj){this.value=obj}function walk(root,cb,immutable){var path=[],parents=[],alive=!0;return function walker(node_){function updateState(){if(&quot;object&quot;==typeof state.node&amp;&amp;null!==state.node){state.keys&amp;&amp;state.node_===state.node||(state.keys=objectKeys(state.node)),state.isLeaf=0==state.keys.length;for(var i=0;i<parents.length;i++)if(parents[i].node_===node_){state.circular=parents[i];break}}else state.isLeaf=!0,state.keys=null;state.notLeaf=!state.isLeaf,state.notRoot=!state.isRoot}var node=immutable?copy(node_):node_,modifiers={},keepGoing=!0,state={node:node,node_:node_,path:[].concat(path),parent:parents[parents.length-1],parents:parents,key:path.slice(-1)[0],isRoot:0===path.length,level:path.length,circular:null,update:function(x,stopHere){state.isRoot||(state.parent.node[state.key]=x),state.node=x,stopHere&amp;&amp;(keepGoing=!1)},&quot;delete&quot;:function(stopHere){delete state.parent.node[state.key],stopHere&amp;&amp;(keepGoing=!1)},remove:function(stopHere){isArray(state.parent.node)?state.parent.node.splice(state.key,1):delete state.parent.node[state.key],stopHere&amp;&amp;(keepGoing=!1)},keys:null,before:function(f){modifiers.before=f},after:function(f){modifiers.after=f},pre:function(f){modifiers.pre=f},post:function(f){modifiers.post=f},stop:function(){alive=!1},block:function(){keepGoing=!1}};if(!alive)return state;updateState();var ret=cb.call(state,state.node);return void 0!==ret&amp;&amp;state.update&amp;&amp;state.update(ret),modifiers.before&amp;&amp;modifiers.before.call(state,state.node),keepGoing?(&quot;object&quot;!=typeof state.node||null===state.node||state.circular||(parents.push(state),updateState(),forEach(state.keys,function(key,i){path.push(key),modifiers.pre&amp;&amp;modifiers.pre.call(state,state.node[key],key);var child=walker(state.node[key]);immutable&amp;&amp;hasOwnProperty.call(state.node,key)&amp;&amp;(state.node[key]=child.node),child.isLast=i==state.keys.length-1,child.isFirst=0==i,modifiers.post&amp;&amp;modifiers.post.call(state,child),path.pop()}),parents.pop()),modifiers.after&amp;&amp;modifiers.after.call(state,state.node),state):state}(root).node}function copy(src){if(&quot;object&quot;==typeof src&amp;&amp;null!==src){var dst;if(isArray(src))dst=[];else if(isDate(src))dst=new Date(src.getTime?src.getTime():src);else if(isRegExp(src))dst=new RegExp(src);else if(isError(src))dst={message:src.message};else if(isBoolean(src))dst=new Boolean(src);else if(isNumber(src))dst=new Number(src);else if(isString(src))dst=new String(src);else if(Object.create&amp;&amp;Object.getPrototypeOf)dst=Object.create(Object.getPrototypeOf(src));else if(src.constructor===Object)dst={};else{var proto=src.constructor&amp;&amp;src.constructor.prototype||src.__proto__||{},T=function(){};T.prototype=proto,dst=new T}return forEach(objectKeys(src),function(key){dst[key]=src[key]}),dst}return src}function toS(obj){return Object.prototype.toString.call(obj)}function isDate(obj){return&quot;[object Date]&quot;===toS(obj)}function isRegExp(obj){return&quot;[object RegExp]&quot;===toS(obj)}function isError(obj){return&quot;[object Error]&quot;===toS(obj)}function isBoolean(obj){return&quot;[object Boolean]&quot;===toS(obj)}function isNumber(obj){return&quot;[object Number]&quot;===toS(obj)}function isString(obj){return&quot;[object String]&quot;===toS(obj)}var traverse=module.exports=function(obj){return new Traverse(obj)};Traverse.prototype.get=function(ps){for(var node=this.value,i=0;i<ps.length;i++){var key=ps[i];if(!node||!hasOwnProperty.call(node,key)){node=void 0;break}node=node[key]}return node},Traverse.prototype.has=function(ps){for(var node=this.value,i=0;i<ps.length;i++){var key=ps[i];if(!node||!hasOwnProperty.call(node,key))return!1;node=node[key]}return!0},Traverse.prototype.set=function(ps,value){for(var node=this.value,i=0;i<ps.length-1;i++){var key=ps[i];hasOwnProperty.call(node,key)||(node[key]={}),node=node[key]}return node[ps[i]]=value,value},Traverse.prototype.map=function(cb){return walk(this.value,cb,!0)},Traverse.prototype.forEach=function(cb){return this.value=walk(this.value,cb,!1),this.value},Traverse.prototype.reduce=function(cb,init){var skip=1===arguments.length,acc=skip?this.value:init;return this.forEach(function(x){this.isRoot&amp;&amp;skip||(acc=cb.call(this,acc,x))}),acc},Traverse.prototype.paths=function(){var acc=[];return this.forEach(function(){acc.push(this.path)}),acc},Traverse.prototype.nodes=function(){var acc=[];return this.forEach(function(){acc.push(this.node)}),acc},Traverse.prototype.clone=function(){var parents=[],nodes=[];return function clone(src){for(var i=0;i<parents.length;i++)if(parents[i]===src)return nodes[i];if(&quot;object&quot;==typeof src&amp;&amp;null!==src){var dst=copy(src);return parents.push(src),nodes.push(dst),forEach(objectKeys(src),function(key){dst[key]=clone(src[key])}),parents.pop(),nodes.pop(),dst}return src}(this.value)};var objectKeys=Object.keys||function(obj){var res=[];for(var key in obj)res.push(key);return res},isArray=Array.isArray||function(xs){return&quot;[object Array]&quot;===Object.prototype.toString.call(xs)},forEach=function(xs,fn){if(xs.forEach)return xs.forEach(fn);for(var i=0;i<xs.length;i++)fn(xs[i],i,xs)};forEach(objectKeys(Traverse.prototype),function(key){traverse[key]=function(obj){var args=[].slice.call(arguments,1),t=new Traverse(obj);return t[key].apply(t,args)}});var hasOwnProperty=Object.hasOwnProperty||function(obj,key){return key in obj}},{}]},{},[1])(1)});    \n",
       "    var comment = &quot;&quot;;\n",
       "    mapboxgl.accessToken=&quot;pk.eyJ1IjoibWFwYm94IiwiYSI6ImNpejY4M29iazA2Z2gycXA4N2pmbDZmangifQ.-g_vE53SD2WrJ6tFX7QHmA&quot;;\n",
       "    var mapdata = null;\n",
       "    var map = new mapboxgl.Map({\n",
       "        container: &quot;map-9f77c16a-28343c0a&quot;,\n",
       "        style: &quot;mapbox://styles/mapbox/satellite-v9&quot;\n",
       "    });\n",
       "\n",
       "    setTimeout(function(){\n",
       "        if (window.addPDMessageListener){\n",
       "            window.addPDMessageListener(function(event){\n",
       "                streamingLayer = map.getSource(&quot;streamingLayer&quot;);\n",
       "                if (streamingLayer){\n",
       "                    streamingLayer.setData(event.data.data);\n",
       "                }else{\n",
       "                    map.addLayer({\n",
       "                        &quot;id&quot;: &quot;streamingLayer&quot;,\n",
       "                        &quot;maptype&quot;: &quot;mapbox&quot;,\n",
       "                        &quot;type&quot;: event.data.type,\n",
       "                        &quot;source&quot;: { type: &quot;geojson&quot;, data: event.data.data },\n",
       "                        &quot;layout&quot;: event.data.layout || {},\n",
       "                        &quot;paint&quot;: event.data.paint || {}\n",
       "                    });\n",
       "                    if (event.data.fitbounds &amp;&amp; event.data.data.features){\n",
       "                        function updateBounds(res, ar){\n",
       "                            if (ar[0].length >=2 &amp;&amp; ar[1].length >= 2 ){\n",
       "                                if (!res){\n",
       "                                    return ar;\n",
       "                                }\n",
       "                                return [ \n",
       "                                    [Math.min( ar[0][0]-0.1, res[0][0]), Math.min( ar[0][1]-0.1, res[0][1])],\n",
       "                                    [Math.max( ar[1][0]+0.1, res[1][0]), Math.max( ar[1][1]+0.1, res[1][1])]\n",
       "                                ]\n",
       "                            }\n",
       "                            return null;\n",
       "                        }\n",
       "                        var bbox = event.data.data.features.reduce(function(res, value){\n",
       "                            var coord = value.geometry.coordinates;\n",
       "                            if (coord.length >= 2 ){\n",
       "                                res = updateBounds( res, [coord[0], coord[1]]);\n",
       "                            }\n",
       "                            return res;\n",
       "                        }, null);\n",
       "                        if (bbox){\n",
       "                            map.fitBounds(bbox);\n",
       "                        }\n",
       "                    }\n",
       "                }\n",
       "            });\n",
       "        };\n",
       "    },100);\n",
       "\n",
       "    var popup = new mapboxgl.Popup({closeButton: false,closeOnClick: true});\n",
       "\n",
       "    function divineGeometryType(mapdata) {\n",
       "        comment = &quot;check type of first geometry. Later expand to check all geometries and make a good decision&quot;;\n",
       "        return mapdata.features[0].geometry.type;\n",
       "    }\n",
       "    \n",
       "    map.on(&quot;mousemove&quot;, function (e) {\n",
       "        var fs = map.queryRenderedFeatures(e.point,{layers:[&quot;pxlayer&quot;]});\n",
       "        if (!fs || !fs.length) {popup.remove();return;};\n",
       "        popuphtml = &quot;&quot;;\n",
       "        var hr = false;\n",
       "        fs.forEach(function(f){\n",
       "            if (hr){ \n",
       "                popuphtml += &quot;<hr>\\n&quot;;\n",
       "            }\n",
       "            hr=true;\n",
       "            popuphtml += &quot;<h3>&quot;+f.layer.id.toUpperCase()+&quot;</h3>\\n&quot;;\n",
       "            var keylength = Object.keys(f.properties).length;\n",
       "            for (var key in f.properties) {\n",
       "                popuphtml += &quot;<b>&quot;+key+&quot;: </b> &quot;+f.properties[key]+&quot;<br/>\\n&quot;;\n",
       "            }\n",
       "        });\n",
       "        popup.setLngLat(e.lngLat).setHTML(popuphtml).addTo(map);\n",
       "    });\n",
       "    \n",
       "    map.on(&quot;click&quot;, function (e) {\n",
       "        var fs = map.queryRenderedFeatures(e.point, { layers: [&quot;pxlayer&quot;] });\n",
       "        if (fs &amp;&amp; fs.length) {\n",
       "            var f = fs[0];\n",
       "            console.log(&quot;clicked&quot;, f);\n",
       "            var keylength = Object.keys(f.properties).length;\n",
       "            var payload = {type:&quot;select&quot;, targetDivId: &quot;&quot; };\n",
       "\n",
       "            for (var key in f.properties) {\n",
       "                payload[key] = f.properties[key];\n",
       "            }\n",
       "\n",
       "            if (window.triggerPDEvent) {\n",
       "                window.triggerPDEvent(payload);\n",
       "            }\n",
       "        }\n",
       "    });\n",
       "        \n",
       "    map.on(&quot;load&quot;, function() {\n",
       "        \n",
       "        mapdata={&quot;type&quot;: &quot;FeatureCollection&quot;, &quot;features&quot;: [{&quot;type&quot;: &quot;Feature&quot;, &quot;properties&quot;: {&quot;Benzene_Mean&quot;: 1.2225, &quot;state_name&quot;: &quot;Virgin Islands&quot;, &quot;units_of_measure&quot;: &quot;Parts per billion Carbon&quot;}, &quot;geometry&quot;: {&quot;type&quot;: &quot;Point&quot;, &quot;coordinates&quot;: [-64.78593331249999, 17.715706875000006]}}, {&quot;type&quot;: &quot;Feature&quot;, &quot;properties&quot;: {&quot;Benzene_Mean&quot;: 3.016304182509505, &quot;state_name&quot;: &quot;Puerto Rico&quot;, &quot;units_of_measure&quot;: &quot;Parts per billion Carbon&quot;}, &quot;geometry&quot;: {&quot;type&quot;: &quot;Point&quot;, &quot;coordinates&quot;: [-66.37659410076049, 18.427557153992396]}}, {&quot;type&quot;: &quot;Feature&quot;, &quot;properties&quot;: {&quot;Benzene_Mean&quot;: 1.6281249999999998, &quot;state_name&quot;: &quot;Hawaii&quot;, &quot;units_of_measure&quot;: &quot;Parts per billion Carbon&quot;}, &quot;geometry&quot;: {&quot;type&quot;: &quot;Point&quot;, &quot;coordinates&quot;: [-157.96912600000005, 21.392832999999996]}}, {&quot;type&quot;: &quot;Feature&quot;, &quot;properties&quot;: {&quot;Benzene_Mean&quot;: 2.4032083447717723, &quot;state_name&quot;: &quot;Florida&quot;, &quot;units_of_measure&quot;: &quot;Parts per billion Carbon&quot;}, &quot;geometry&quot;: {&quot;type&quot;: &quot;Point&quot;, &quot;coordinates&quot;: [-81.67510025930719, 27.73119258217335]}}, {&quot;type&quot;: &quot;Feature&quot;, &quot;properties&quot;: {&quot;Benzene_Mean&quot;: 2.3645278055383474, &quot;state_name&quot;: &quot;Louisiana&quot;, &quot;units_of_measure&quot;: &quot;Parts per billion Carbon&quot;}, &quot;geometry&quot;: {&quot;type&quot;: &quot;Point&quot;, &quot;coordinates&quot;: [-91.20648056721609, 30.4673266516541]}}, {&quot;type&quot;: &quot;Feature&quot;, &quot;properties&quot;: {&quot;Benzene_Mean&quot;: 3.165615802749503, &quot;state_name&quot;: &quot;Texas&quot;, &quot;units_of_measure&quot;: &quot;Parts per billion Carbon&quot;}, &quot;geometry&quot;: {&quot;type&quot;: &quot;Point&quot;, &quot;coordinates&quot;: [-97.46160633335236, 30.588670533176707]}}, {&quot;type&quot;: &quot;Feature&quot;, &quot;properties&quot;: {&quot;Benzene_Mean&quot;: 1.601526663280853, &quot;state_name&quot;: &quot;Mississippi&quot;, &quot;units_of_measure&quot;: &quot;Parts per billion Carbon&quot;}, &quot;geometry&quot;: {&quot;type&quot;: &quot;Point&quot;, &quot;coordinates&quot;: [-89.09077259421025, 31.332139868969023]}}, {&quot;type&quot;: &quot;Feature&quot;, &quot;properties&quot;: {&quot;Benzene_Mean&quot;: 8.708797468354431, &quot;state_name&quot;: &quot;Country Of Mexico&quot;, &quot;units_of_measure&quot;: &quot;Parts per billion Carbon&quot;}, &quot;geometry&quot;: {&quot;type&quot;: &quot;Point&quot;, &quot;coordinates&quot;: [-112.96015111772151, 32.21014712278483]}}, {&quot;type&quot;: &quot;Feature&quot;, &quot;properties&quot;: {&quot;Benzene_Mean&quot;: 6.430967802146523, &quot;state_name&quot;: &quot;Alabama&quot;, &quot;units_of_measure&quot;: &quot;Parts per billion Carbon&quot;}, &quot;geometry&quot;: {&quot;type&quot;: &quot;Point&quot;, &quot;coordinates&quot;: [-87.06866805926266, 32.87814593933739]}}, {&quot;type&quot;: &quot;Feature&quot;, &quot;properties&quot;: {&quot;Benzene_Mean&quot;: 3.2813660599781884, &quot;state_name&quot;: &quot;Arizona&quot;, &quot;units_of_measure&quot;: &quot;Parts per billion Carbon&quot;}, &quot;geometry&quot;: {&quot;type&quot;: &quot;Point&quot;, &quot;coordinates&quot;: [-111.95875111741199, 33.44295241512177]}}, {&quot;type&quot;: &quot;Feature&quot;, &quot;properties&quot;: {&quot;Benzene_Mean&quot;: 1.205448875507971, &quot;state_name&quot;: &quot;Georgia&quot;, &quot;units_of_measure&quot;: &quot;Parts per billion Carbon&quot;}, &quot;geometry&quot;: {&quot;type&quot;: &quot;Point&quot;, &quot;coordinates&quot;: [-84.10858242591438, 33.50253836347307]}}, {&quot;type&quot;: &quot;Feature&quot;, &quot;properties&quot;: {&quot;Benzene_Mean&quot;: 3.1010606060606065, &quot;state_name&quot;: &quot;Arkansas&quot;, &quot;units_of_measure&quot;: &quot;Parts per billion Carbon&quot;}, &quot;geometry&quot;: {&quot;type&quot;: &quot;Point&quot;, &quot;coordinates&quot;: [-92.66971016666668, 34.26485022727273]}}, {&quot;type&quot;: &quot;Feature&quot;, &quot;properties&quot;: {&quot;Benzene_Mean&quot;: 0.7905663036515054, &quot;state_name&quot;: &quot;South Carolina&quot;, &quot;units_of_measure&quot;: &quot;Parts per billion Carbon&quot;}, &quot;geometry&quot;: {&quot;type&quot;: &quot;Point&quot;, &quot;coordinates&quot;: [-80.34969959833447, 34.5634407392697]}}, {&quot;type&quot;: &quot;Feature&quot;, &quot;properties&quot;: {&quot;Benzene_Mean&quot;: 4.2419974639498434, &quot;state_name&quot;: &quot;New Mexico&quot;, &quot;units_of_measure&quot;: &quot;Parts per billion Carbon&quot;}, &quot;geometry&quot;: {&quot;type&quot;: &quot;Point&quot;, &quot;coordinates&quot;: [-106.84987212225704, 35.311346510971795]}}, {&quot;type&quot;: &quot;Feature&quot;, &quot;properties&quot;: {&quot;Benzene_Mean&quot;: 2.2692819265107436, &quot;state_name&quot;: &quot;North Carolina&quot;, &quot;units_of_measure&quot;: &quot;Parts per billion Carbon&quot;}, &quot;geometry&quot;: {&quot;type&quot;: &quot;Point&quot;, &quot;coordinates&quot;: [-79.7663182166686, 35.482608793304024]}}, {&quot;type&quot;: &quot;Feature&quot;, &quot;properties&quot;: {&quot;Benzene_Mean&quot;: 2.173713368983957, &quot;state_name&quot;: &quot;Tennessee&quot;, &quot;units_of_measure&quot;: &quot;Parts per billion Carbon&quot;}, &quot;geometry&quot;: {&quot;type&quot;: &quot;Point&quot;, &quot;coordinates&quot;: [-85.47700804171127, 35.82345546631018]}}, {&quot;type&quot;: &quot;Feature&quot;, &quot;properties&quot;: {&quot;Benzene_Mean&quot;: 2.9796335305933703, &quot;state_name&quot;: &quot;California&quot;, &quot;units_of_measure&quot;: &quot;Parts per billion Carbon&quot;}, &quot;geometry&quot;: {&quot;type&quot;: &quot;Point&quot;, &quot;coordinates&quot;: [-119.77933423548171, 35.854942859389226]}}, {&quot;type&quot;: &quot;Feature&quot;, &quot;properties&quot;: {&quot;Benzene_Mean&quot;: 2.0925619587936692, &quot;state_name&quot;: &quot;Oklahoma&quot;, &quot;units_of_measure&quot;: &quot;Parts per billion Carbon&quot;}, &quot;geometry&quot;: {&quot;type&quot;: &quot;Point&quot;, &quot;coordinates&quot;: [-96.51550141057031, 35.91516619169904]}}, {&quot;type&quot;: &quot;Feature&quot;, &quot;properties&quot;: {&quot;Benzene_Mean&quot;: 1.4126697782963828, &quot;state_name&quot;: &quot;Kentucky&quot;, &quot;units_of_measure&quot;: &quot;Parts per billion Carbon&quot;}, &quot;geometry&quot;: {&quot;type&quot;: &quot;Point&quot;, &quot;coordinates&quot;: [-86.25205575651492, 37.54982160248932]}}, {&quot;type&quot;: &quot;Feature&quot;, &quot;properties&quot;: {&quot;Benzene_Mean&quot;: 1.293924932655367, &quot;state_name&quot;: &quot;Virginia&quot;, &quot;units_of_measure&quot;: &quot;Parts per billion Carbon&quot;}, &quot;geometry&quot;: {&quot;type&quot;: &quot;Point&quot;, &quot;coordinates&quot;: [-76.56139827457604, 37.5810302308474]}}, {&quot;type&quot;: &quot;Feature&quot;, &quot;properties&quot;: {&quot;Benzene_Mean&quot;: 5.406358490566038, &quot;state_name&quot;: &quot;Kansas&quot;, &quot;units_of_measure&quot;: &quot;Parts per billion Carbon&quot;}, &quot;geometry&quot;: {&quot;type&quot;: &quot;Point&quot;, &quot;coordinates&quot;: [-95.83892935849056, 38.48754786792453]}}, {&quot;type&quot;: &quot;Feature&quot;, &quot;properties&quot;: {&quot;Benzene_Mean&quot;: 4.0470664072806475, &quot;state_name&quot;: &quot;Missouri&quot;, &quot;units_of_measure&quot;: &quot;Parts per billion Carbon&quot;}, &quot;geometry&quot;: {&quot;type&quot;: &quot;Point&quot;, &quot;coordinates&quot;: [-90.19782182825128, 38.628729420659546]}}, {&quot;type&quot;: &quot;Feature&quot;, &quot;properties&quot;: {&quot;Benzene_Mean&quot;: 1.8552853167578316, &quot;state_name&quot;: &quot;District Of Columbia&quot;, &quot;units_of_measure&quot;: &quot;Parts per billion Carbon&quot;}, &quot;geometry&quot;: {&quot;type&quot;: &quot;Point&quot;, &quot;coordinates&quot;: [-77.01523792590724, 38.91278378940808]}}, {&quot;type&quot;: &quot;Feature&quot;, &quot;properties&quot;: {&quot;Benzene_Mean&quot;: 2.5123662364128325, &quot;state_name&quot;: &quot;Maryland&quot;, &quot;units_of_measure&quot;: &quot;Parts per billion Carbon&quot;}, &quot;geometry&quot;: {&quot;type&quot;: &quot;Point&quot;, &quot;coordinates&quot;: [-76.57665613529157, 39.264823784073954]}}, {&quot;type&quot;: &quot;Feature&quot;, &quot;properties&quot;: {&quot;Benzene_Mean&quot;: 1.7727961630695444, &quot;state_name&quot;: &quot;West Virginia&quot;, &quot;units_of_measure&quot;: &quot;Parts per billion Carbon&quot;}, &quot;geometry&quot;: {&quot;type&quot;: &quot;Point&quot;, &quot;coordinates&quot;: [-80.84211089088721, 39.28511703297366]}}, {&quot;type&quot;: &quot;Feature&quot;, &quot;properties&quot;: {&quot;Benzene_Mean&quot;: 1.3846633084893047, &quot;state_name&quot;: &quot;Delaware&quot;, &quot;units_of_measure&quot;: &quot;Parts per billion Carbon&quot;}, &quot;geometry&quot;: {&quot;type&quot;: &quot;Point&quot;, &quot;coordinates&quot;: [-75.63291304545454, 39.53667155748664]}}, {&quot;type&quot;: &quot;Feature&quot;, &quot;properties&quot;: {&quot;Benzene_Mean&quot;: 3.530716491661107, &quot;state_name&quot;: &quot;Colorado&quot;, &quot;units_of_measure&quot;: &quot;Parts per billion Carbon&quot;}, &quot;geometry&quot;: {&quot;type&quot;: &quot;Point&quot;, &quot;coordinates&quot;: [-106.96211211229695, 39.54561878118746]}}, {&quot;type&quot;: &quot;Feature&quot;, &quot;properties&quot;: {&quot;Benzene_Mean&quot;: 2.78797701521528, &quot;state_name&quot;: &quot;Ohio&quot;, &quot;units_of_measure&quot;: &quot;Parts per billion Carbon&quot;}, &quot;geometry&quot;: {&quot;type&quot;: &quot;Point&quot;, &quot;coordinates&quot;: [-83.04639036468113, 39.812265977500815]}}, {&quot;type&quot;: &quot;Feature&quot;, &quot;properties&quot;: {&quot;Benzene_Mean&quot;: 2.2339411705663816, &quot;state_name&quot;: &quot;Pennsylvania&quot;, &quot;units_of_measure&quot;: &quot;Parts per billion Carbon&quot;}, &quot;geometry&quot;: {&quot;type&quot;: &quot;Point&quot;, &quot;coordinates&quot;: [-76.40593672801866, 40.09070551841249]}}, {&quot;type&quot;: &quot;Feature&quot;, &quot;properties&quot;: {&quot;Benzene_Mean&quot;: 1.62924598407439, &quot;state_name&quot;: &quot;New Jersey&quot;, &quot;units_of_measure&quot;: &quot;Parts per billion Carbon&quot;}, &quot;geometry&quot;: {&quot;type&quot;: &quot;Point&quot;, &quot;coordinates&quot;: [-74.60130639055127, 40.39433474091478]}}, {&quot;type&quot;: &quot;Feature&quot;, &quot;properties&quot;: {&quot;Benzene_Mean&quot;: 2.205617415108654, &quot;state_name&quot;: &quot;Indiana&quot;, &quot;units_of_measure&quot;: &quot;Parts per billion Carbon&quot;}, &quot;geometry&quot;: {&quot;type&quot;: &quot;Point&quot;, &quot;coordinates&quot;: [-86.85217808323819, 40.708174609819494]}}, {&quot;type&quot;: &quot;Feature&quot;, &quot;properties&quot;: {&quot;Benzene_Mean&quot;: 2.225079365079365, &quot;state_name&quot;: &quot;Nebraska&quot;, &quot;units_of_measure&quot;: &quot;Parts per billion Carbon&quot;}, &quot;geometry&quot;: {&quot;type&quot;: &quot;Point&quot;, &quot;coordinates&quot;: [-96.7358963174603, 40.830091793650794]}}, {&quot;type&quot;: &quot;Feature&quot;, &quot;properties&quot;: {&quot;Benzene_Mean&quot;: 3.088827945776851, &quot;state_name&quot;: &quot;Utah&quot;, &quot;units_of_measure&quot;: &quot;Parts per billion Carbon&quot;}, &quot;geometry&quot;: {&quot;type&quot;: &quot;Point&quot;, &quot;coordinates&quot;: [-111.89943271532842, 40.866859675182475]}}, {&quot;type&quot;: &quot;Feature&quot;, &quot;properties&quot;: {&quot;Benzene_Mean&quot;: 1.056075295483871, &quot;state_name&quot;: &quot;Connecticut&quot;, &quot;units_of_measure&quot;: &quot;Parts per billion Carbon&quot;}, &quot;geometry&quot;: {&quot;type&quot;: &quot;Point&quot;, &quot;coordinates&quot;: [-72.86496482602134, 41.514525878709804]}}, {&quot;type&quot;: &quot;Feature&quot;, &quot;properties&quot;: {&quot;Benzene_Mean&quot;: 2.5023879841191494, &quot;state_name&quot;: &quot;New York&quot;, &quot;units_of_measure&quot;: &quot;Parts per billion Carbon&quot;}, &quot;geometry&quot;: {&quot;type&quot;: &quot;Point&quot;, &quot;coordinates&quot;: [-75.12510660881051, 41.70625522269081]}}, {&quot;type&quot;: &quot;Feature&quot;, &quot;properties&quot;: {&quot;Benzene_Mean&quot;: 1.7292094146047068, &quot;state_name&quot;: &quot;Iowa&quot;, &quot;units_of_measure&quot;: &quot;Parts per billion Carbon&quot;}, &quot;geometry&quot;: {&quot;type&quot;: &quot;Point&quot;, &quot;coordinates&quot;: [-91.9037255540133, 41.73063026282437]}}, {&quot;type&quot;: &quot;Feature&quot;, &quot;properties&quot;: {&quot;Benzene_Mean&quot;: 1.3024547730683433, &quot;state_name&quot;: &quot;Rhode Island&quot;, &quot;units_of_measure&quot;: &quot;Parts per billion Carbon&quot;}, &quot;geometry&quot;: {&quot;type&quot;: &quot;Point&quot;, &quot;coordinates&quot;: [-71.44680782802682, 41.788062724498324]}}, {&quot;type&quot;: &quot;Feature&quot;, &quot;properties&quot;: {&quot;Benzene_Mean&quot;: 1.7522252870407216, &quot;state_name&quot;: &quot;Illinois&quot;, &quot;units_of_measure&quot;: &quot;Parts per billion Carbon&quot;}, &quot;geometry&quot;: {&quot;type&quot;: &quot;Point&quot;, &quot;coordinates&quot;: [-87.59712322934057, 41.81061349091394]}}, {&quot;type&quot;: &quot;Feature&quot;, &quot;properties&quot;: {&quot;Benzene_Mean&quot;: 1.1528775946907694, &quot;state_name&quot;: &quot;Massachusetts&quot;, &quot;units_of_measure&quot;: &quot;Parts per billion Carbon&quot;}, &quot;geometry&quot;: {&quot;type&quot;: &quot;Point&quot;, &quot;coordinates&quot;: [-71.46443382947844, 42.36715412810498]}}, {&quot;type&quot;: &quot;Feature&quot;, &quot;properties&quot;: {&quot;Benzene_Mean&quot;: 0.5744571232134056, &quot;state_name&quot;: &quot;New Hampshire&quot;, &quot;units_of_measure&quot;: &quot;Parts per billion Carbon&quot;}, &quot;geometry&quot;: {&quot;type&quot;: &quot;Point&quot;, &quot;coordinates&quot;: [-71.5982736232133, 42.87756491621485]}}, {&quot;type&quot;: &quot;Feature&quot;, &quot;properties&quot;: {&quot;Benzene_Mean&quot;: 2.370403475363904, &quot;state_name&quot;: &quot;Michigan&quot;, &quot;units_of_measure&quot;: &quot;Parts per billion Carbon&quot;}, &quot;geometry&quot;: {&quot;type&quot;: &quot;Point&quot;, &quot;coordinates&quot;: [-84.04779371010727, 43.017066249026264]}}, {&quot;type&quot;: &quot;Feature&quot;, &quot;properties&quot;: {&quot;Benzene_Mean&quot;: 1.7878859383753503, &quot;state_name&quot;: &quot;Wisconsin&quot;, &quot;units_of_measure&quot;: &quot;Parts per billion Carbon&quot;}, &quot;geometry&quot;: {&quot;type&quot;: &quot;Point&quot;, &quot;coordinates&quot;: [-88.09000973856217, 43.191504534313765]}}, {&quot;type&quot;: &quot;Feature&quot;, &quot;properties&quot;: {&quot;Benzene_Mean&quot;: 1.6881124453970202, &quot;state_name&quot;: &quot;Vermont&quot;, &quot;units_of_measure&quot;: &quot;Parts per billion Carbon&quot;}, &quot;geometry&quot;: {&quot;type&quot;: &quot;Point&quot;, &quot;coordinates&quot;: [-71.52794665237793, 43.28426926270655]}}, {&quot;type&quot;: &quot;Feature&quot;, &quot;properties&quot;: {&quot;Benzene_Mean&quot;: 1.4309536474164133, &quot;state_name&quot;: &quot;South Dakota&quot;, &quot;units_of_measure&quot;: &quot;Parts per billion Carbon&quot;}, &quot;geometry&quot;: {&quot;type&quot;: &quot;Point&quot;, &quot;coordinates&quot;: [-98.84498221694501, 43.51434667781157]}}, {&quot;type&quot;: &quot;Feature&quot;, &quot;properties&quot;: {&quot;Benzene_Mean&quot;: 0.8169676743021421, &quot;state_name&quot;: &quot;Maine&quot;, &quot;units_of_measure&quot;: &quot;Parts per billion Carbon&quot;}, &quot;geometry&quot;: {&quot;type&quot;: &quot;Point&quot;, &quot;coordinates&quot;: [-69.63548142047676, 44.06909576796797]}}, {&quot;type&quot;: &quot;Feature&quot;, &quot;properties&quot;: {&quot;Benzene_Mean&quot;: 2.4039002624671917, &quot;state_name&quot;: &quot;Idaho&quot;, &quot;units_of_measure&quot;: &quot;Parts per billion Carbon&quot;}, &quot;geometry&quot;: {&quot;type&quot;: &quot;Point&quot;, &quot;coordinates&quot;: [-116.69242518110241, 44.88767309317584]}}, {&quot;type&quot;: &quot;Feature&quot;, &quot;properties&quot;: {&quot;Benzene_Mean&quot;: 1.956383120649652, &quot;state_name&quot;: &quot;Oregon&quot;, &quot;units_of_measure&quot;: &quot;Parts per billion Carbon&quot;}, &quot;geometry&quot;: {&quot;type&quot;: &quot;Point&quot;, &quot;coordinates&quot;: [-121.87632661832966, 45.05556050725059]}}, {&quot;type&quot;: &quot;Feature&quot;, &quot;properties&quot;: {&quot;Benzene_Mean&quot;: 1.6887465495608533, &quot;state_name&quot;: &quot;Minnesota&quot;, &quot;units_of_measure&quot;: &quot;Parts per billion Carbon&quot;}, &quot;geometry&quot;: {&quot;type&quot;: &quot;Point&quot;, &quot;coordinates&quot;: [-93.15016245629485, 45.12755006744054]}}, {&quot;type&quot;: &quot;Feature&quot;, &quot;properties&quot;: {&quot;Benzene_Mean&quot;: 1.4808745247148287, &quot;state_name&quot;: &quot;North Dakota&quot;, &quot;units_of_measure&quot;: &quot;Parts per billion Carbon&quot;}, &quot;geometry&quot;: {&quot;type&quot;: &quot;Point&quot;, &quot;coordinates&quot;: [-100.32324103041822, 47.235115756654]}}, {&quot;type&quot;: &quot;Feature&quot;, &quot;properties&quot;: {&quot;Benzene_Mean&quot;: 2.1776402885117485, &quot;state_name&quot;: &quot;Washington&quot;, &quot;units_of_measure&quot;: &quot;Parts per billion Carbon&quot;}, &quot;geometry&quot;: {&quot;type&quot;: &quot;Point&quot;, &quot;coordinates&quot;: [-121.83411819930389, 47.44437051740647]}}, {&quot;type&quot;: &quot;Feature&quot;, &quot;properties&quot;: {&quot;Benzene_Mean&quot;: 4.649691056910569, &quot;state_name&quot;: &quot;Alaska&quot;, &quot;units_of_measure&quot;: &quot;Parts per billion Carbon&quot;}, &quot;geometry&quot;: {&quot;type&quot;: &quot;Point&quot;, &quot;coordinates&quot;: [-149.824602, 61.205861000000006]}}]};\n",
       "        geomtype = divineGeometryType(mapdata);\n",
       "        \n",
       "            var ds = {\n",
       "                &quot;type&quot;:&quot;geojson&quot;,\n",
       "                &quot;data&quot;:mapdata\n",
       "            };\n",
       "            var clusterme = false;\n",
       "            if (geomtype.substr(-5,5) == &quot;Point&quot;) {\n",
       "                \n",
       "            }\n",
       "            map.addSource(&quot;pxdatasource&quot;, ds);\n",
       "\n",
       "            var maplayertype = &quot;circle&quot;;\n",
       "            if (geomtype.substr(-7,7) == &quot;Polygon&quot;) \n",
       "                maplayertype = &quot;fill&quot;;\n",
       "            else if (geomtype.substr(-10,10) == &quot;LineString&quot;)\n",
       "                maplayertype = &quot;line&quot;;\n",
       "            map.addLayer({\n",
       "                &quot;id&quot;:&quot;pxlayer&quot;,\n",
       "                &quot;type&quot;:maplayertype, \n",
       "                &quot;source&quot;: &quot;pxdatasource&quot;, \n",
       "                &quot;paint&quot;: {&quot;circle-radius&quot;: 12, &quot;circle-color&quot;: {&quot;property&quot;: &quot;Benzene_Mean&quot;, &quot;stops&quot;: [[0.5744571232134056, &quot;#ffffcc&quot;], [1.5412005939978408, &quot;#acf98d&quot;], [2.173713368983957, &quot;#56ec97&quot;], [2.883805272904325, &quot;#26bdd7&quot;], [8.708797468354431, &quot;#253494&quot;]]}, &quot;circle-opacity&quot;: 0.9}\n",
       "            });\n",
       "            \n",
       "            if (clusterme &amp;&amp; geomtype.substr(-5,5) == &quot;Point&quot;) {\n",
       "                map.addLayer({\n",
       "                    &quot;id&quot;: &quot;cluster-count-labels&quot;, \n",
       "                    &quot;type&quot;: &quot;symbol&quot;, \n",
       "                    &quot;source&quot;: &quot;pxdatasource&quot;, \n",
       "                    &quot;paint&quot;: {\n",
       "                        &quot;text-color&quot;: &quot;#FFF&quot;\n",
       "                    },\n",
       "                    &quot;layout&quot;: {\n",
       "                        &quot;text-field&quot;: &quot;{point_count}&quot;, \n",
       "                        &quot;text-font&quot;: [\n",
       "                            &quot;DIN Offc Pro Medium&quot;, \n",
       "                            &quot;Arial Unicode MS Bold&quot;\n",
       "                        ],\n",
       "                        &quot;text-size&quot;: 12\n",
       "                    }\n",
       "                });\n",
       "            }\n",
       "        \n",
       "        \n",
       "\n",
       "        comment = &quot;Add user layers&quot;;\n",
       "        var layers = [];\n",
       "        \n",
       "        layers.sort(function(a,b) {\n",
       "            return a[1] - b[1];\n",
       "        });\n",
       "        for (layersi=layers.length-1; layersi>=0; layersi--) {\n",
       "            map.addLayer(layers[layersi][0]);\n",
       "            comment = &quot;User layer legend&quot;;\n",
       "            \n",
       "                var t = document.createElement(&quot;h4&quot;);\n",
       "                t.appendChild(document.createTextNode(layers[layersi][0].id));\n",
       "                document.getElementById(&quot;maplegend&quot;).appendChild(t);\n",
       "            \n",
       "        }\n",
       "        \n",
       "        map.fitBounds([[-157.96912600000005, 17.715706875000006], [-64.78593331249999, 61.205861000000006]]);\n",
       "        \n",
       "        \n",
       "    });\n",
       "</script>\n",
       "</body>\n",
       "</html>\" onload=\"iframeLoaded(this)\"></iframe>\n",
       "<script>\n",
       "  var iframe = document.getElementById('mapframe9f77c16a');\n",
       "  iframe.setAttribute('srcdoc', atob('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'));\n",
       "</script>\n",
       "\n",
       "        </div>"
      ],
      "text/plain": [
       "<IPython.core.display.HTML object>"
      ]
     },
     "metadata": {},
     "output_type": "display_data"
    }
   ],
   "source": [
    "# Visualisasi Data Clustering Tingkat polusi benzene pada setiap state (MAPS)\n",
    "display(predictions2)"
   ]
  },
  {
   "cell_type": "markdown",
   "metadata": {},
   "source": [
    "![cluster](img/2.png)"
   ]
  },
  {
   "cell_type": "code",
   "execution_count": 86,
   "metadata": {
    "pixiedust": {
     "displayParams": {
      "aggregation": "COUNT",
      "basemap": "satellite-v9",
      "coloropacity": "78",
      "handlerId": "barChart",
      "keyFields": "prediction",
      "kind": "choropleth",
      "legend": "true",
      "mapboxtoken": "pk.eyJ1IjoibWFwYm94IiwiYSI6ImNpejY4M29iazA2Z2gycXA4N2pmbDZmangifQ.-g_vE53SD2WrJ6tFX7QHmA",
      "rowCount": "1000"
     }
    }
   },
   "outputs": [
    {
     "data": {
      "text/html": [
       "<style type=\"text/css\">.pd_warning{display:none;}</style><div class=\"pd_warning\"><em>Hey, there's something awesome here! To see it, open this notebook outside GitHub, in a viewer like Jupyter</em></div>\n",
       "        <div class=\"pd_save is-viewer-good\" style=\"padding-right:10px;text-align: center;line-height:initial !important;font-size: xx-large;font-weight: 500;color: coral;\">\n",
       "            \n",
       "        </div>\n",
       "    <div id=\"chartFiguref0990361\" class=\"pd_save is-viewer-good\" style=\"overflow-x:auto\">\n",
       "            \n",
       "                    \n",
       "                            <center><img style=\"max-width:initial !important\" src=\"data:image/png;base64,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\" class=\"pd_save\"></center>\n",
       "                        \n",
       "                    \n",
       "                \n",
       "        </div>"
      ],
      "text/plain": [
       "<IPython.core.display.HTML object>"
      ]
     },
     "metadata": {},
     "output_type": "display_data"
    }
   ],
   "source": [
    "#jumlah aggota dari masing masing kelas\n",
    "display(predictions2)"
   ]
  },
  {
   "cell_type": "code",
   "execution_count": null,
   "metadata": {},
   "outputs": [],
   "source": [
    "![cluster](img/3.png)"
   ]
  }
 ],
 "metadata": {
  "kernelspec": {
   "display_name": "Python 3",
   "language": "python",
   "name": "python3"
  },
  "language_info": {
   "codemirror_mode": {
    "name": "ipython",
    "version": 3
   },
   "file_extension": ".py",
   "mimetype": "text/x-python",
   "name": "python",
   "nbconvert_exporter": "python",
   "pygments_lexer": "ipython3",
   "version": "3.7.1"
  }
 },
 "nbformat": 4,
 "nbformat_minor": 2
}
