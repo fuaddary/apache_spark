{
 "cells": [
  {
   "cell_type": "markdown",
   "metadata": {},
   "source": [
    "# Pyspark Recomendation System (ALS Algorithm)"
   ]
  },
  {
   "cell_type": "markdown",
   "metadata": {},
   "source": [
    "## Inisialisasi\n"
   ]
  },
  {
   "cell_type": "code",
   "execution_count": 1,
   "metadata": {},
   "outputs": [],
   "source": [
    "import findspark\n",
    "findspark.init()"
   ]
  },
  {
   "cell_type": "code",
   "execution_count": 2,
   "metadata": {},
   "outputs": [
    {
     "name": "stdout",
     "output_type": "stream",
     "text": [
      "<pyspark.sql.session.SparkSession object at 0x115ee0e48>\n"
     ]
    }
   ],
   "source": [
    "from pyspark.sql import SparkSession\n",
    "\n",
    "# Create Spark Session\n",
    "spark = SparkSession \\\n",
    "    .builder \\\n",
    "    .appName(\"Python Spark Frequent Itemsets Example\") \\\n",
    "    .getOrCreate()\n",
    "\n",
    "print(spark)"
   ]
  },
  {
   "cell_type": "code",
   "execution_count": 3,
   "metadata": {},
   "outputs": [],
   "source": [
    "from pyspark.ml.evaluation import RegressionEvaluator\n",
    "from pyspark.ml.recommendation import ALS\n",
    "from pyspark.sql import Row"
   ]
  },
  {
   "cell_type": "markdown",
   "metadata": {},
   "source": [
    "## Praproses\n",
    "\n",
    "Membaca data user rating. Sesuaikan dengan dataset."
   ]
  },
  {
   "cell_type": "code",
   "execution_count": 4,
   "metadata": {},
   "outputs": [],
   "source": [
    "df = spark.read.csv(\"/Users/gunstringer/Downloads/anime-recommendations-database/rating.csv\", header=True, inferSchema=True)"
   ]
  },
  {
   "cell_type": "code",
   "execution_count": 5,
   "metadata": {},
   "outputs": [
    {
     "name": "stdout",
     "output_type": "stream",
     "text": [
      "root\n",
      " |-- user_id: integer (nullable = true)\n",
      " |-- anime_id: integer (nullable = true)\n",
      " |-- rating: integer (nullable = true)\n",
      "\n"
     ]
    }
   ],
   "source": [
    "df.printSchema()"
   ]
  },
  {
   "cell_type": "code",
   "execution_count": 6,
   "metadata": {},
   "outputs": [
    {
     "data": {
      "text/plain": [
       "7813737"
      ]
     },
     "execution_count": 6,
     "metadata": {},
     "output_type": "execute_result"
    }
   ],
   "source": [
    "df.count()"
   ]
  },
  {
   "cell_type": "code",
   "execution_count": 7,
   "metadata": {},
   "outputs": [
    {
     "name": "stdout",
     "output_type": "stream",
     "text": [
      "+-------+--------+------+\n",
      "|user_id|anime_id|rating|\n",
      "+-------+--------+------+\n",
      "|      1|      20|    -1|\n",
      "|      1|      24|    -1|\n",
      "|      1|      79|    -1|\n",
      "|      1|     226|    -1|\n",
      "|      1|     241|    -1|\n",
      "|      1|     355|    -1|\n",
      "|      1|     356|    -1|\n",
      "|      1|     442|    -1|\n",
      "|      1|     487|    -1|\n",
      "|      1|     846|    -1|\n",
      "|      1|     936|    -1|\n",
      "|      1|    1546|    -1|\n",
      "|      1|    1692|    -1|\n",
      "|      1|    1836|    -1|\n",
      "|      1|    2001|    -1|\n",
      "|      1|    2025|    -1|\n",
      "|      1|    2144|    -1|\n",
      "|      1|    2787|    -1|\n",
      "|      1|    2993|    -1|\n",
      "|      1|    3455|    -1|\n",
      "+-------+--------+------+\n",
      "only showing top 20 rows\n",
      "\n"
     ]
    }
   ],
   "source": [
    "df.show()"
   ]
  },
  {
   "cell_type": "markdown",
   "metadata": {},
   "source": [
    "## Filter Data \n",
    "Menghilangkan data rating N/A atau bernilai kurang dari 0"
   ]
  },
  {
   "cell_type": "code",
   "execution_count": 8,
   "metadata": {},
   "outputs": [],
   "source": [
    "df = df.dropna()"
   ]
  },
  {
   "cell_type": "code",
   "execution_count": 9,
   "metadata": {},
   "outputs": [],
   "source": [
    "df.createOrReplaceTempView(\"anime\")"
   ]
  },
  {
   "cell_type": "code",
   "execution_count": 10,
   "metadata": {},
   "outputs": [],
   "source": [
    "ratings = spark.sql (\"SELECT * FROM anime where rating >= 0\")"
   ]
  },
  {
   "cell_type": "code",
   "execution_count": 11,
   "metadata": {},
   "outputs": [
    {
     "name": "stdout",
     "output_type": "stream",
     "text": [
      "+-------+--------+------+\n",
      "|user_id|anime_id|rating|\n",
      "+-------+--------+------+\n",
      "|      1|    8074|    10|\n",
      "|      1|   11617|    10|\n",
      "|      1|   11757|    10|\n",
      "|      1|   15451|    10|\n",
      "|      2|   11771|    10|\n",
      "|      3|      20|     8|\n",
      "|      3|     154|     6|\n",
      "|      3|     170|     9|\n",
      "|      3|     199|    10|\n",
      "|      3|     225|     9|\n",
      "|      3|     341|     6|\n",
      "|      3|     430|     7|\n",
      "|      3|     527|     7|\n",
      "|      3|     552|     7|\n",
      "|      3|     813|    10|\n",
      "|      3|    1119|     7|\n",
      "|      3|    1121|     7|\n",
      "|      3|    1122|     7|\n",
      "|      3|    1132|     8|\n",
      "|      3|    1292|     6|\n",
      "+-------+--------+------+\n",
      "only showing top 20 rows\n",
      "\n"
     ]
    }
   ],
   "source": [
    "ratings.show()"
   ]
  },
  {
   "cell_type": "code",
   "execution_count": 12,
   "metadata": {},
   "outputs": [
    {
     "data": {
      "text/plain": [
       "6337241"
      ]
     },
     "execution_count": 12,
     "metadata": {},
     "output_type": "execute_result"
    }
   ],
   "source": [
    "ratings.count()"
   ]
  },
  {
   "cell_type": "markdown",
   "metadata": {},
   "source": [
    "## Membuat Model\n",
    "\n",
    "membuat model ALS Algorithm"
   ]
  },
  {
   "cell_type": "code",
   "execution_count": 13,
   "metadata": {},
   "outputs": [],
   "source": [
    "(training, test) = ratings.randomSplit([0.8, 0.2])"
   ]
  },
  {
   "cell_type": "code",
   "execution_count": 14,
   "metadata": {},
   "outputs": [],
   "source": [
    "# Build the recommendation model using ALS on the training data\n",
    "# Note we set cold start strategy to 'drop' to ensure we don't get NaN evaluation metrics\n",
    "als = ALS(maxIter=5, regParam=0.01, userCol=\"user_id\", itemCol=\"anime_id\", ratingCol=\"rating\",\n",
    "          coldStartStrategy=\"drop\")\n",
    "model = als.fit(training)"
   ]
  },
  {
   "cell_type": "code",
   "execution_count": 15,
   "metadata": {},
   "outputs": [
    {
     "name": "stdout",
     "output_type": "stream",
     "text": [
      "Root-mean-square error = 1.1768135397921138\n"
     ]
    }
   ],
   "source": [
    "# Evaluate the model by computing the RMSE on the test data\n",
    "predictions = model.transform(test)\n",
    "evaluator = RegressionEvaluator(metricName=\"rmse\", labelCol=\"rating\",\n",
    "                                predictionCol=\"prediction\")\n",
    "rmse = evaluator.evaluate(predictions)\n",
    "print(\"Root-mean-square error = \" + str(rmse))"
   ]
  },
  {
   "cell_type": "code",
   "execution_count": 16,
   "metadata": {},
   "outputs": [],
   "source": [
    "# Generate top 10 movie recommendations for each user\n",
    "userRecs = model.recommendForAllUsers(10)\n",
    "# Generate top 10 user recommendations for each movie\n",
    "movieRecs = model.recommendForAllItems(10)"
   ]
  },
  {
   "cell_type": "markdown",
   "metadata": {},
   "source": [
    "# Tampilkan data rekomendasi"
   ]
  },
  {
   "cell_type": "code",
   "execution_count": 17,
   "metadata": {},
   "outputs": [
    {
     "name": "stdout",
     "output_type": "stream",
     "text": [
      "+-------+--------------------+\n",
      "|user_id|     recommendations|\n",
      "+-------+--------------------+\n",
      "|    148|[[7112, 13.83287]...|\n",
      "|    463|[[5688, 19.655495...|\n",
      "|    471|[[5565, 21.059868...|\n",
      "|    496|[[25495, 14.40900...|\n",
      "|    833|[[7416, 16.756664...|\n",
      "|   1088|[[25495, 26.73759...|\n",
      "|   1238|[[5688, 19.01693]...|\n",
      "|   1342|[[20929, 40.4739]...|\n",
      "|   1580|[[25495, 21.18709...|\n",
      "|   1591|[[28439, 16.50583...|\n",
      "|   1645|[[25495, 15.39053...|\n",
      "|   1829|[[25495, 20.45839...|\n",
      "|   1959|[[10584, 19.27946...|\n",
      "|   2122|[[12745, 24.72007...|\n",
      "|   2142|[[8446, 14.039937...|\n",
      "|   2366|[[31762, 22.44822...|\n",
      "|   2659|[[20929, 18.75345...|\n",
      "|   2866|[[6183, 18.69217]...|\n",
      "|   3175|[[29778, 21.35224...|\n",
      "|   3749|[[6183, 21.236727...|\n",
      "+-------+--------------------+\n",
      "only showing top 20 rows\n",
      "\n"
     ]
    }
   ],
   "source": [
    "userRecs.show()"
   ]
  },
  {
   "cell_type": "code",
   "execution_count": 18,
   "metadata": {},
   "outputs": [
    {
     "name": "stdout",
     "output_type": "stream",
     "text": [
      "+--------+--------------------+\n",
      "|anime_id|     recommendations|\n",
      "+--------+--------------------+\n",
      "|    1580|[[21334, 28.36326...|\n",
      "|    5300|[[47879, 14.57507...|\n",
      "|    9900|[[57725, 10.40306...|\n",
      "|     471|[[33981, 15.20216...|\n",
      "|    1591|[[36956, 21.71910...|\n",
      "|    4101|[[18937, 9.706232...|\n",
      "|   11141|[[32000, 11.78403...|\n",
      "|   24171|[[69605, 21.45848...|\n",
      "|   25591|[[64560, 10.02326...|\n",
      "|    1342|[[66242, 27.56492...|\n",
      "|    2122|[[25218, 18.27583...|\n",
      "|    2142|[[66242, 13.50196...|\n",
      "|   31912|[[24363, 18.54298...|\n",
      "|     463|[[56105, 14.79384...|\n",
      "|     833|[[8325, 18.986818...|\n",
      "|   10623|[[35893, 16.03964...|\n",
      "|   11033|[[69605, 19.21315...|\n",
      "|   17753|[[47879, 9.873876...|\n",
      "|   30903|[[26722, 33.46457...|\n",
      "|    6654|[[33981, 35.44406...|\n",
      "+--------+--------------------+\n",
      "only showing top 20 rows\n",
      "\n"
     ]
    }
   ],
   "source": [
    "movieRecs.show()"
   ]
  },
  {
   "cell_type": "markdown",
   "metadata": {},
   "source": [
    "## Eksperimen"
   ]
  },
  {
   "cell_type": "code",
   "execution_count": 39,
   "metadata": {},
   "outputs": [
    {
     "name": "stdout",
     "output_type": "stream",
     "text": [
      "+-------+--------------------+\n",
      "|user_id|     recommendations|\n",
      "+-------+--------------------+\n",
      "|      1|[[25495, 32.27197...|\n",
      "+-------+--------------------+\n",
      "\n"
     ]
    }
   ],
   "source": [
    "# tampilkan rekomendasi anime 1 user\n",
    "users = ratings.select(als.getUserCol()).distinct()\n",
    "users = users.filter(users.user_id == 1)\n",
    "userSubsetRecs = model.recommendForUserSubset(users, 10)\n",
    "userSubsetRecs.show()"
   ]
  },
  {
   "cell_type": "code",
   "execution_count": 51,
   "metadata": {},
   "outputs": [],
   "source": [
    "# export RDD / Dataframe to json\n",
    "import pandas\n",
    "new = userSubsetRecs.toPandas()\n",
    "new = new.to_json()"
   ]
  },
  {
   "cell_type": "code",
   "execution_count": 63,
   "metadata": {},
   "outputs": [
    {
     "name": "stdout",
     "output_type": "stream",
     "text": [
      "+-------+--------+----------+\n",
      "|user_id|anime_id|prediction|\n",
      "+-------+--------+----------+\n",
      "|   7726|     148|  7.389661|\n",
      "+-------+--------+----------+\n",
      "\n"
     ]
    }
   ],
   "source": [
    "# membuat prediksi 1 user pada 1 anime\n",
    "dataframe = spark.createDataFrame([(7726, 148)], [\"user_id\", \"anime_id\"])\n",
    "predictions2 = model.transform(dataframe)\n",
    "predictions2.show()"
   ]
  },
  {
   "cell_type": "code",
   "execution_count": null,
   "metadata": {},
   "outputs": [],
   "source": []
  }
 ],
 "metadata": {
  "kernelspec": {
   "display_name": "Python 3",
   "language": "python",
   "name": "python3"
  },
  "language_info": {
   "codemirror_mode": {
    "name": "ipython",
    "version": 3
   },
   "file_extension": ".py",
   "mimetype": "text/x-python",
   "name": "python",
   "nbconvert_exporter": "python",
   "pygments_lexer": "ipython3",
   "version": "3.7.1"
  }
 },
 "nbformat": 4,
 "nbformat_minor": 2
}
