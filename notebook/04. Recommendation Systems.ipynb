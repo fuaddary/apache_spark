{
 "cells": [
  {
   "cell_type": "markdown",
   "metadata": {},
   "source": [
    "# Pyspark Recomendation System (ALS Algorithm)"
   ]
  },
  {
   "cell_type": "code",
   "execution_count": 1,
   "metadata": {},
   "outputs": [],
   "source": [
    "import findspark\n",
    "findspark.init()"
   ]
  },
  {
   "cell_type": "code",
   "execution_count": 2,
   "metadata": {},
   "outputs": [
    {
     "name": "stdout",
     "output_type": "stream",
     "text": [
      "<pyspark.sql.session.SparkSession object at 0x10f24cef0>\n"
     ]
    }
   ],
   "source": [
    "from pyspark.sql import SparkSession\n",
    "\n",
    "# Create Spark Session\n",
    "spark = SparkSession \\\n",
    "    .builder \\\n",
    "    .appName(\"Python Spark Frequent Itemsets Example\") \\\n",
    "    .getOrCreate()\n",
    "\n",
    "print(spark)"
   ]
  },
  {
   "cell_type": "code",
   "execution_count": 3,
   "metadata": {},
   "outputs": [],
   "source": [
    "from pyspark.ml.evaluation import RegressionEvaluator\n",
    "from pyspark.ml.recommendation import ALS\n",
    "from pyspark.sql import Row"
   ]
  },
  {
   "cell_type": "markdown",
   "metadata": {},
   "source": [
    "## Praproses\n",
    "\n",
    "Praproses digunakan untuk membaca data user rating. Sesuaikan dengan dataset."
   ]
  },
  {
   "cell_type": "code",
   "execution_count": 4,
   "metadata": {},
   "outputs": [],
   "source": [
    "df = spark.read.csv(\"/Users/gunstringer/Downloads/anime-recommendations-database/rating.csv\", header=True, inferSchema=True)"
   ]
  },
  {
   "cell_type": "code",
   "execution_count": 5,
   "metadata": {},
   "outputs": [
    {
     "name": "stdout",
     "output_type": "stream",
     "text": [
      "root\n",
      " |-- user_id: integer (nullable = true)\n",
      " |-- anime_id: integer (nullable = true)\n",
      " |-- rating: integer (nullable = true)\n",
      "\n"
     ]
    }
   ],
   "source": [
    "df.printSchema()"
   ]
  },
  {
   "cell_type": "code",
   "execution_count": 6,
   "metadata": {},
   "outputs": [
    {
     "data": {
      "text/plain": [
       "7813737"
      ]
     },
     "execution_count": 6,
     "metadata": {},
     "output_type": "execute_result"
    }
   ],
   "source": [
    "df.count()"
   ]
  },
  {
   "cell_type": "code",
   "execution_count": 7,
   "metadata": {},
   "outputs": [
    {
     "name": "stdout",
     "output_type": "stream",
     "text": [
      "+-------+--------+------+\n",
      "|user_id|anime_id|rating|\n",
      "+-------+--------+------+\n",
      "|      1|      20|    -1|\n",
      "|      1|      24|    -1|\n",
      "|      1|      79|    -1|\n",
      "|      1|     226|    -1|\n",
      "|      1|     241|    -1|\n",
      "|      1|     355|    -1|\n",
      "|      1|     356|    -1|\n",
      "|      1|     442|    -1|\n",
      "|      1|     487|    -1|\n",
      "|      1|     846|    -1|\n",
      "|      1|     936|    -1|\n",
      "|      1|    1546|    -1|\n",
      "|      1|    1692|    -1|\n",
      "|      1|    1836|    -1|\n",
      "|      1|    2001|    -1|\n",
      "|      1|    2025|    -1|\n",
      "|      1|    2144|    -1|\n",
      "|      1|    2787|    -1|\n",
      "|      1|    2993|    -1|\n",
      "|      1|    3455|    -1|\n",
      "+-------+--------+------+\n",
      "only showing top 20 rows\n",
      "\n"
     ]
    }
   ],
   "source": [
    "df.show()"
   ]
  },
  {
   "cell_type": "markdown",
   "metadata": {},
   "source": [
    "## Filter Data \n",
    "Menghilangkan data rating N/A atau bernilai kurang dari 0"
   ]
  },
  {
   "cell_type": "code",
   "execution_count": 8,
   "metadata": {},
   "outputs": [],
   "source": [
    "df = df.dropna()"
   ]
  },
  {
   "cell_type": "code",
   "execution_count": 10,
   "metadata": {},
   "outputs": [],
   "source": [
    "df.createOrReplaceTempView(\"anime\")"
   ]
  },
  {
   "cell_type": "code",
   "execution_count": 11,
   "metadata": {},
   "outputs": [],
   "source": [
    "ratings = spark.sql (\"SELECT * FROM anime where rating >= 0\")"
   ]
  },
  {
   "cell_type": "code",
   "execution_count": 12,
   "metadata": {},
   "outputs": [
    {
     "name": "stdout",
     "output_type": "stream",
     "text": [
      "+-------+--------+------+\n",
      "|user_id|anime_id|rating|\n",
      "+-------+--------+------+\n",
      "|      1|    8074|    10|\n",
      "|      1|   11617|    10|\n",
      "|      1|   11757|    10|\n",
      "|      1|   15451|    10|\n",
      "|      2|   11771|    10|\n",
      "|      3|      20|     8|\n",
      "|      3|     154|     6|\n",
      "|      3|     170|     9|\n",
      "|      3|     199|    10|\n",
      "|      3|     225|     9|\n",
      "|      3|     341|     6|\n",
      "|      3|     430|     7|\n",
      "|      3|     527|     7|\n",
      "|      3|     552|     7|\n",
      "|      3|     813|    10|\n",
      "|      3|    1119|     7|\n",
      "|      3|    1121|     7|\n",
      "|      3|    1122|     7|\n",
      "|      3|    1132|     8|\n",
      "|      3|    1292|     6|\n",
      "+-------+--------+------+\n",
      "only showing top 20 rows\n",
      "\n"
     ]
    }
   ],
   "source": [
    "ratings.show()"
   ]
  },
  {
   "cell_type": "code",
   "execution_count": 13,
   "metadata": {},
   "outputs": [
    {
     "data": {
      "text/plain": [
       "6337241"
      ]
     },
     "execution_count": 13,
     "metadata": {},
     "output_type": "execute_result"
    }
   ],
   "source": [
    "ratings.count()"
   ]
  },
  {
   "cell_type": "markdown",
   "metadata": {},
   "source": [
    "## Create Model"
   ]
  },
  {
   "cell_type": "code",
   "execution_count": 14,
   "metadata": {},
   "outputs": [],
   "source": [
    "(training, test) = ratings.randomSplit([0.8, 0.2])"
   ]
  },
  {
   "cell_type": "code",
   "execution_count": 15,
   "metadata": {},
   "outputs": [],
   "source": [
    "# Build the recommendation model using ALS on the training data\n",
    "# Note we set cold start strategy to 'drop' to ensure we don't get NaN evaluation metrics\n",
    "als = ALS(maxIter=5, regParam=0.01, userCol=\"user_id\", itemCol=\"anime_id\", ratingCol=\"rating\",\n",
    "          coldStartStrategy=\"drop\")\n",
    "model = als.fit(training)"
   ]
  },
  {
   "cell_type": "code",
   "execution_count": 16,
   "metadata": {},
   "outputs": [
    {
     "name": "stdout",
     "output_type": "stream",
     "text": [
      "Root-mean-square error = 1.1769900370213127\n"
     ]
    }
   ],
   "source": [
    "# Evaluate the model by computing the RMSE on the test data\n",
    "predictions = model.transform(test)\n",
    "evaluator = RegressionEvaluator(metricName=\"rmse\", labelCol=\"rating\",\n",
    "                                predictionCol=\"prediction\")\n",
    "rmse = evaluator.evaluate(predictions)\n",
    "print(\"Root-mean-square error = \" + str(rmse))"
   ]
  },
  {
   "cell_type": "code",
   "execution_count": 17,
   "metadata": {},
   "outputs": [],
   "source": [
    "# Generate top 10 movie recommendations for each user\n",
    "userRecs = model.recommendForAllUsers(10)\n",
    "# Generate top 10 user recommendations for each movie\n",
    "movieRecs = model.recommendForAllItems(10)"
   ]
  },
  {
   "cell_type": "code",
   "execution_count": 18,
   "metadata": {},
   "outputs": [
    {
     "name": "stdout",
     "output_type": "stream",
     "text": [
      "+-------+--------------------+\n",
      "|user_id|     recommendations|\n",
      "+-------+--------------------+\n",
      "|    148|[[8375, 32.014004...|\n",
      "|    463|[[8375, 30.679579...|\n",
      "|    471|[[8375, 16.239899...|\n",
      "|    496|[[11795, 16.06025...|\n",
      "|    833|[[8375, 24.381958...|\n",
      "|   1088|[[9077, 23.748951...|\n",
      "|   1238|[[8375, 28.015049...|\n",
      "|   1342|[[9077, 80.397446...|\n",
      "|   1580|[[9077, 26.957514...|\n",
      "|   1591|[[5663, 13.937275...|\n",
      "|   1645|[[8375, 43.24437]...|\n",
      "|   1829|[[5663, 21.526478...|\n",
      "|   1959|[[31762, 18.70122...|\n",
      "|   2122|[[5569, 25.78103]...|\n",
      "|   2142|[[7157, 20.862059...|\n",
      "|   2366|[[8375, 30.696129...|\n",
      "|   2659|[[8375, 19.454397...|\n",
      "|   2866|[[8375, 37.802578...|\n",
      "|   3175|[[25495, 18.02893...|\n",
      "|   3749|[[7257, 22.68229]...|\n",
      "+-------+--------------------+\n",
      "only showing top 20 rows\n",
      "\n"
     ]
    }
   ],
   "source": [
    "userRecs.show()"
   ]
  },
  {
   "cell_type": "code",
   "execution_count": 19,
   "metadata": {},
   "outputs": [
    {
     "name": "stdout",
     "output_type": "stream",
     "text": [
      "+--------+--------------------+\n",
      "|anime_id|     recommendations|\n",
      "+--------+--------------------+\n",
      "|    1580|[[71885, 27.72872...|\n",
      "|    5300|[[7548, 16.965534...|\n",
      "|     471|[[68128, 16.72869...|\n",
      "|    1591|[[68128, 22.43071...|\n",
      "|    4101|[[73381, 10.21272...|\n",
      "|   11141|[[344, 11.517619]...|\n",
      "|   24171|[[36956, 22.24688...|\n",
      "|   25591|[[344, 12.456382]...|\n",
      "|    1342|[[27990, 30.99148...|\n",
      "|    2122|[[63732, 18.63065...|\n",
      "|    2142|[[72368, 13.05252...|\n",
      "|    7982|[[39927, 11.76606...|\n",
      "|   31912|[[17508, 17.17462...|\n",
      "|     463|[[68128, 17.16554...|\n",
      "|     833|[[17508, 19.63144...|\n",
      "|   10623|[[39927, 10.73574...|\n",
      "|   11033|[[17508, 20.22209...|\n",
      "|   17753|[[73381, 10.45785...|\n",
      "|   30903|[[7548, 27.76015]...|\n",
      "|    6654|[[36956, 57.38936...|\n",
      "+--------+--------------------+\n",
      "only showing top 20 rows\n",
      "\n"
     ]
    }
   ],
   "source": [
    "movieRecs.show()"
   ]
  },
  {
   "cell_type": "code",
   "execution_count": null,
   "metadata": {},
   "outputs": [],
   "source": []
  }
 ],
 "metadata": {
  "kernelspec": {
   "display_name": "Python 3",
   "language": "python",
   "name": "python3"
  },
  "language_info": {
   "codemirror_mode": {
    "name": "ipython",
    "version": 3
   },
   "file_extension": ".py",
   "mimetype": "text/x-python",
   "name": "python",
   "nbconvert_exporter": "python",
   "pygments_lexer": "ipython3",
   "version": "3.7.1"
  }
 },
 "nbformat": 4,
 "nbformat_minor": 2
}
